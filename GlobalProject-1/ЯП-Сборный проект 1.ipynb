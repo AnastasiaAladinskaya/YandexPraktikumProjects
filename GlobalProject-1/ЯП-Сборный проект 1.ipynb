{
 "cells": [
  {
   "cell_type": "markdown",
   "metadata": {},
   "source": [
    "# Исследование рынка компьютерных игр"
   ]
  },
  {
   "cell_type": "markdown",
   "metadata": {},
   "source": [
    "В текущей работе используется датасет с информацией о продаже игр, оценках пользователей и экспертов, жанры и платформы (например, Xbox или PlayStation). Нужно выявить определяющие успешность игры зкаономерности. В датасете представлены данные до 2016 года. ESRB (Entertainment Software Rating Board) — это ассоциация, определяющая возрастной рейтинг компьютерных игр."
   ]
  },
  {
   "cell_type": "markdown",
   "metadata": {},
   "source": [
    "### Описание данных\n",
    "\n",
    "16715 entries\n",
    "\n",
    "Описательные характеристики:\n",
    "\n",
    "* *Name* — название игры\n",
    "* *Platform* — платформа\n",
    "* *Year_of_Release* — год выпуска\n",
    "* *Genre* — жанр игры\n",
    "* *NA_sales* — продажи в Северной Америке (миллионы проданных копий)\n",
    "* *EU_sales* — продажи в Европе (миллионы проданных копий)\n",
    "* *JP_sales* — продажи в Японии (миллионы проданных копий)\n",
    "* *Other_sales* — продажи в других странах (миллионы проданных копий)\n",
    "* *Critic_Score* — оценка критиков (максимум 100)\n",
    "* *User_Score* — оценка пользователей (максимум 10)\n",
    "* *Rating* — рейтинг от организации ESRB (англ. Entertainment Software Rating Board). Эта ассоциация определяет рейтинг компьютерных игр и присваивает им подходящую возрастную категорию."
   ]
  },
  {
   "cell_type": "markdown",
   "metadata": {},
   "source": [
    "## 1. Предобработка данных "
   ]
  },
  {
   "cell_type": "markdown",
   "metadata": {},
   "source": [
    "Изучим и приведем данные к нужному виду"
   ]
  },
  {
   "cell_type": "code",
   "execution_count": 1,
   "metadata": {},
   "outputs": [],
   "source": [
    "import pandas as pd\n",
    "import numpy as np\n",
    "import seaborn as sns\n",
    "import matplotlib.pyplot as plt\n",
    "import math\n",
    "from math import ceil\n",
    "from matplotlib import rcParams\n",
    "from scipy import stats as st"
   ]
  },
  {
   "cell_type": "code",
   "execution_count": 2,
   "metadata": {},
   "outputs": [
    {
     "data": {
      "text/html": [
       "<div>\n",
       "<style scoped>\n",
       "    .dataframe tbody tr th:only-of-type {\n",
       "        vertical-align: middle;\n",
       "    }\n",
       "\n",
       "    .dataframe tbody tr th {\n",
       "        vertical-align: top;\n",
       "    }\n",
       "\n",
       "    .dataframe thead th {\n",
       "        text-align: right;\n",
       "    }\n",
       "</style>\n",
       "<table border=\"1\" class=\"dataframe\">\n",
       "  <thead>\n",
       "    <tr style=\"text-align: right;\">\n",
       "      <th></th>\n",
       "      <th>name</th>\n",
       "      <th>platform</th>\n",
       "      <th>year_of_release</th>\n",
       "      <th>genre</th>\n",
       "      <th>na_sales</th>\n",
       "      <th>eu_sales</th>\n",
       "      <th>jp_sales</th>\n",
       "      <th>other_sales</th>\n",
       "      <th>critic_score</th>\n",
       "      <th>user_score</th>\n",
       "      <th>rating</th>\n",
       "    </tr>\n",
       "  </thead>\n",
       "  <tbody>\n",
       "    <tr>\n",
       "      <th>0</th>\n",
       "      <td>wii sports</td>\n",
       "      <td>wii</td>\n",
       "      <td>2006.0</td>\n",
       "      <td>sports</td>\n",
       "      <td>41.36</td>\n",
       "      <td>28.96</td>\n",
       "      <td>3.77</td>\n",
       "      <td>8.45</td>\n",
       "      <td>76.0</td>\n",
       "      <td>8</td>\n",
       "      <td>E</td>\n",
       "    </tr>\n",
       "    <tr>\n",
       "      <th>1</th>\n",
       "      <td>super mario bros.</td>\n",
       "      <td>nes</td>\n",
       "      <td>1985.0</td>\n",
       "      <td>platform</td>\n",
       "      <td>29.08</td>\n",
       "      <td>3.58</td>\n",
       "      <td>6.81</td>\n",
       "      <td>0.77</td>\n",
       "      <td>NaN</td>\n",
       "      <td>NaN</td>\n",
       "      <td>NaN</td>\n",
       "    </tr>\n",
       "    <tr>\n",
       "      <th>2</th>\n",
       "      <td>mario kart wii</td>\n",
       "      <td>wii</td>\n",
       "      <td>2008.0</td>\n",
       "      <td>racing</td>\n",
       "      <td>15.68</td>\n",
       "      <td>12.76</td>\n",
       "      <td>3.79</td>\n",
       "      <td>3.29</td>\n",
       "      <td>82.0</td>\n",
       "      <td>8.3</td>\n",
       "      <td>E</td>\n",
       "    </tr>\n",
       "    <tr>\n",
       "      <th>3</th>\n",
       "      <td>wii sports resort</td>\n",
       "      <td>wii</td>\n",
       "      <td>2009.0</td>\n",
       "      <td>sports</td>\n",
       "      <td>15.61</td>\n",
       "      <td>10.93</td>\n",
       "      <td>3.28</td>\n",
       "      <td>2.95</td>\n",
       "      <td>80.0</td>\n",
       "      <td>8</td>\n",
       "      <td>E</td>\n",
       "    </tr>\n",
       "    <tr>\n",
       "      <th>4</th>\n",
       "      <td>pokemon red/pokemon blue</td>\n",
       "      <td>gb</td>\n",
       "      <td>1996.0</td>\n",
       "      <td>role-playing</td>\n",
       "      <td>11.27</td>\n",
       "      <td>8.89</td>\n",
       "      <td>10.22</td>\n",
       "      <td>1.00</td>\n",
       "      <td>NaN</td>\n",
       "      <td>NaN</td>\n",
       "      <td>NaN</td>\n",
       "    </tr>\n",
       "  </tbody>\n",
       "</table>\n",
       "</div>"
      ],
      "text/plain": [
       "                       name platform  year_of_release         genre  na_sales  \\\n",
       "0                wii sports      wii           2006.0        sports     41.36   \n",
       "1         super mario bros.      nes           1985.0      platform     29.08   \n",
       "2            mario kart wii      wii           2008.0        racing     15.68   \n",
       "3         wii sports resort      wii           2009.0        sports     15.61   \n",
       "4  pokemon red/pokemon blue       gb           1996.0  role-playing     11.27   \n",
       "\n",
       "   eu_sales  jp_sales  other_sales  critic_score user_score rating  \n",
       "0     28.96      3.77         8.45          76.0          8      E  \n",
       "1      3.58      6.81         0.77           NaN        NaN    NaN  \n",
       "2     12.76      3.79         3.29          82.0        8.3      E  \n",
       "3     10.93      3.28         2.95          80.0          8      E  \n",
       "4      8.89     10.22         1.00           NaN        NaN    NaN  "
      ]
     },
     "execution_count": 2,
     "metadata": {},
     "output_type": "execute_result"
    }
   ],
   "source": [
    "df = pd.read_csv('games.csv')\n",
    "\n",
    "df.columns = df.columns.str.lower()\n",
    "\n",
    "# Уберем заглавные буквы в строках \n",
    "df.platform = df.platform.str.lower()\n",
    "df.genre = df.genre.str.lower()\n",
    "df.name = df.name.str.lower()\n",
    "\n",
    "df.head()"
   ]
  },
  {
   "cell_type": "code",
   "execution_count": 3,
   "metadata": {},
   "outputs": [
    {
     "name": "stdout",
     "output_type": "stream",
     "text": [
      "<class 'pandas.core.frame.DataFrame'>\n",
      "RangeIndex: 16715 entries, 0 to 16714\n",
      "Data columns (total 11 columns):\n",
      " #   Column           Non-Null Count  Dtype  \n",
      "---  ------           --------------  -----  \n",
      " 0   name             16713 non-null  object \n",
      " 1   platform         16715 non-null  object \n",
      " 2   year_of_release  16446 non-null  float64\n",
      " 3   genre            16713 non-null  object \n",
      " 4   na_sales         16715 non-null  float64\n",
      " 5   eu_sales         16715 non-null  float64\n",
      " 6   jp_sales         16715 non-null  float64\n",
      " 7   other_sales      16715 non-null  float64\n",
      " 8   critic_score     8137 non-null   float64\n",
      " 9   user_score       10014 non-null  object \n",
      " 10  rating           9949 non-null   object \n",
      "dtypes: float64(6), object(5)\n",
      "memory usage: 1.4+ MB\n"
     ]
    }
   ],
   "source": [
    "df.info()"
   ]
  },
  {
   "cell_type": "code",
   "execution_count": 4,
   "metadata": {
    "scrolled": false
   },
   "outputs": [
    {
     "data": {
      "text/plain": [
       "name                  2\n",
       "platform              0\n",
       "year_of_release     269\n",
       "genre                 2\n",
       "na_sales              0\n",
       "eu_sales              0\n",
       "jp_sales              0\n",
       "other_sales           0\n",
       "critic_score       8578\n",
       "user_score         6701\n",
       "rating             6766\n",
       "dtype: int64"
      ]
     },
     "execution_count": 4,
     "metadata": {},
     "output_type": "execute_result"
    }
   ],
   "source": [
    "df.isna().sum()"
   ]
  },
  {
   "cell_type": "code",
   "execution_count": 5,
   "metadata": {},
   "outputs": [],
   "source": [
    "df = df[~df.name.isna()]"
   ]
  },
  {
   "cell_type": "code",
   "execution_count": 6,
   "metadata": {},
   "outputs": [
    {
     "data": {
      "text/plain": [
       "0.39603901154789684"
      ]
     },
     "execution_count": 6,
     "metadata": {},
     "output_type": "execute_result"
    }
   ],
   "source": [
    "df[df.user_score.isna()&df.critic_score.isna()&df.rating.isna()].shape[0]/ df.shape[0]"
   ]
  },
  {
   "cell_type": "markdown",
   "metadata": {},
   "source": [
    "В 40% данных пропуски по трем описательным характеристикам. Это очень много. Лучшая стратегия в данном случае - оставить пропуски. В случае года выпуска, можно заполнить отсуствующие значения основываясь в первую очередь на годах выхода данной игры на других платформах. "
   ]
  },
  {
   "cell_type": "code",
   "execution_count": 7,
   "metadata": {},
   "outputs": [],
   "source": [
    "types = df.name.unique()\n",
    "for i in types:\n",
    "    mean = df[df['name'] == i]['year_of_release'].mean()\n",
    "    df.loc[df['name']==i,'year_of_release'] = df.loc[df['name']==i,'year_of_release'].fillna(mean)\n",
    "\n",
    "# оставшиеся значения заполним медианой (среднее и медиана 2006 и 2007 соотв)\n",
    "df.year_of_release = df.year_of_release.fillna(df.year_of_release.median())"
   ]
  },
  {
   "cell_type": "code",
   "execution_count": 8,
   "metadata": {},
   "outputs": [],
   "source": [
    "# исследуем tbd\n",
    "tbd = df[df.user_score == 'tbd']"
   ]
  },
  {
   "cell_type": "markdown",
   "metadata": {},
   "source": [
    "tbd - значит to be discussed, рейтинг еще не исследован, слишком мало отзывов на metacritic или другом ресурсе где были получены оценки. Оставим без изменений, заменив на NaN"
   ]
  },
  {
   "cell_type": "code",
   "execution_count": 9,
   "metadata": {},
   "outputs": [],
   "source": [
    "df.loc[df.user_score == 'tbd', 'user_score'] = np.nan"
   ]
  },
  {
   "cell_type": "code",
   "execution_count": 10,
   "metadata": {},
   "outputs": [],
   "source": [
    "# Общие продажи на 3 рынках\n",
    "df['sales'] = df['na_sales'] + df['eu_sales'] + df['jp_sales'] + df['other_sales']"
   ]
  },
  {
   "cell_type": "code",
   "execution_count": 11,
   "metadata": {},
   "outputs": [],
   "source": [
    "df.year_of_release = df.year_of_release.apply('round')\n",
    "df.year_of_release =df.year_of_release.astype('Int64')"
   ]
  },
  {
   "cell_type": "markdown",
   "metadata": {},
   "source": [
    "## Исследовательский анализ данных."
   ]
  },
  {
   "cell_type": "markdown",
   "metadata": {},
   "source": [
    "Исследуем количество игр выпущенных в разные годы"
   ]
  },
  {
   "cell_type": "code",
   "execution_count": 12,
   "metadata": {},
   "outputs": [
    {
     "data": {
      "text/plain": [
       "<Figure size 720x576 with 0 Axes>"
      ]
     },
     "execution_count": 12,
     "metadata": {},
     "output_type": "execute_result"
    },
    {
     "data": {
      "image/png": "[encoded data removed]",
      "text/plain": [
       "<Figure size 432x288 with 1 Axes>"
      ]
     },
     "metadata": {
      "needs_background": "light"
     },
     "output_type": "display_data"
    },
    {
     "data": {
      "text/plain": [
       "<Figure size 720x576 with 0 Axes>"
      ]
     },
     "metadata": {},
     "output_type": "display_data"
    }
   ],
   "source": [
    "sns.countplot(data =df, x = 'year_of_release').set(title='The number of games came out each year')\n",
    "plt.xticks(rotation = 'vertical')\n",
    "rcParams['figure.figsize'] = 6,4\n",
    "plt.figure(figsize = (10,8))"
   ]
  },
  {
   "cell_type": "markdown",
   "metadata": {},
   "source": [
    "Исследуем продажи за каждый год"
   ]
  },
  {
   "cell_type": "code",
   "execution_count": 13,
   "metadata": {},
   "outputs": [
    {
     "data": {
      "text/plain": [
       "[Text(0.5, 1.0, 'The number of sales each year')]"
      ]
     },
     "execution_count": 13,
     "metadata": {},
     "output_type": "execute_result"
    },
    {
     "data": {
      "image/png": "[encoded data removed]",
      "text/plain": [
       "<Figure size 576x360 with 1 Axes>"
      ]
     },
     "metadata": {
      "needs_background": "light"
     },
     "output_type": "display_data"
    }
   ],
   "source": [
    "sales_year = df.groupby('year_of_release')['sales'].agg(['sum'])\n",
    "rcParams['figure.figsize'] = 8,5\n",
    "sns.color_palette('pastel')\n",
    "plt.xticks(rotation = 'vertical')\n",
    "sns.barplot(y=\"sum\", x=sales_year.index, data=sales_year).set(title='The number of sales each year')\n"
   ]
  },
  {
   "cell_type": "markdown",
   "metadata": {},
   "source": [
    "Видим спад в индустрии после 2011 года. По какой причине это случилось? Возможно индустрия вышла на поток, качество упало, многие разработчики покинули проекты. Также, мобильные игры появились в большом количестве. Либо в текущих данных не учтены онлайн продажи."
   ]
  },
  {
   "cell_type": "markdown",
   "metadata": {},
   "source": [
    "Видно что очень мало продаж и очень мало игр вышло до 2002 года. Можно в дальнейшем исключить годы до 1995 из рассмотрения. "
   ]
  },
  {
   "cell_type": "code",
   "execution_count": 14,
   "metadata": {},
   "outputs": [],
   "source": [
    "# Отбросим игры вышедшие ранее 2002 года\n",
    "df = df[df.year_of_release >= 2002]"
   ]
  },
  {
   "cell_type": "markdown",
   "metadata": {},
   "source": [
    "Исследуем продажи по платформам"
   ]
  },
  {
   "cell_type": "code",
   "execution_count": 15,
   "metadata": {},
   "outputs": [
    {
     "data": {
      "text/plain": [
       "<AxesSubplot:xlabel='sum', ylabel='platform'>"
      ]
     },
     "execution_count": 15,
     "metadata": {},
     "output_type": "execute_result"
    },
    {
     "data": {
      "image/png": "[encoded data removed]",
      "text/plain": [
       "<Figure size 360x504 with 1 Axes>"
      ]
     },
     "metadata": {
      "needs_background": "light"
     },
     "output_type": "display_data"
    }
   ],
   "source": [
    "platforms_sales = df.groupby('platform')['sales'].agg(['sum']).sort_values(by = 'sum', ascending = False)\n",
    "rcParams['figure.figsize'] = 5,7\n",
    "sns.barplot(x=\"sum\", y=platforms_sales.index, data=platforms_sales)"
   ]
  },
  {
   "cell_type": "markdown",
   "metadata": {},
   "source": [
    "В топ 3 вышли PS2, Xbox 360 и PS3. Посмотрим распределения по годам для каждой из наиболее популярных платформ."
   ]
  },
  {
   "cell_type": "code",
   "execution_count": 16,
   "metadata": {
    "scrolled": false
   },
   "outputs": [
    {
     "data": {
      "image/png": "[encoded data removed]",
      "text/plain": [
       "<Figure size 216x216 with 1 Axes>"
      ]
     },
     "metadata": {
      "needs_background": "light"
     },
     "output_type": "display_data"
    },
    {
     "data": {
      "image/png": "[encoded data removed]",
      "text/plain": [
       "<Figure size 216x216 with 1 Axes>"
      ]
     },
     "metadata": {
      "needs_background": "light"
     },
     "output_type": "display_data"
    },
    {
     "data": {
      "image/png": "[encoded data removed]",
      "text/plain": [
       "<Figure size 216x216 with 1 Axes>"
      ]
     },
     "metadata": {
      "needs_background": "light"
     },
     "output_type": "display_data"
    }
   ],
   "source": [
    "platfroms_best = ['ps2', 'x360', 'ps3']\n",
    "\n",
    "rcParams['figure.figsize'] = 3,3\n",
    "\n",
    "for i in platfroms_best: \n",
    "    graph = df[df.platform == i].groupby('year_of_release')['sales'].agg(['sum'])\n",
    "    graph.plot.bar(color = 'green')\n",
    "    plt.ylabel('sales')\n",
    "    plt.title(i)\n",
    "    plt.xticks(rotation = 'vertical')"
   ]
  },
  {
   "cell_type": "code",
   "execution_count": 17,
   "metadata": {},
   "outputs": [],
   "source": [
    "t = {}\n",
    "t_list = []\n",
    "for i in df.platform.unique():\n",
    "    graph = df[df.platform == i].groupby('year_of_release')['sales'].agg(['sum'])\n",
    "    if graph.index.max() - graph.index.min() < 3:\n",
    "        t[i] = graph.index.max() - graph.index.min()\n",
    "        t_list.append(i)"
   ]
  },
  {
   "cell_type": "code",
   "execution_count": 18,
   "metadata": {},
   "outputs": [
    {
     "data": {
      "text/plain": [
       "['2600', 'gb']"
      ]
     },
     "execution_count": 18,
     "metadata": {},
     "output_type": "execute_result"
    }
   ],
   "source": [
    "# Данные платформы представлены на рынке менее 3 лет, исключим их из рассмотрения, данных мало\n",
    "t_list"
   ]
  },
  {
   "cell_type": "code",
   "execution_count": 19,
   "metadata": {},
   "outputs": [],
   "source": [
    "platf_dl = ['3do','pcfx', 'tg16','ng']"
   ]
  },
  {
   "cell_type": "code",
   "execution_count": 20,
   "metadata": {},
   "outputs": [],
   "source": [
    "df = df[~df.platform.isin(t_list)]"
   ]
  },
  {
   "cell_type": "markdown",
   "metadata": {},
   "source": [
    "Исследуем год выхода платформы (основываясь на данных)"
   ]
  },
  {
   "cell_type": "code",
   "execution_count": 21,
   "metadata": {},
   "outputs": [
    {
     "data": {
      "text/html": [
       "<div>\n",
       "<style scoped>\n",
       "    .dataframe tbody tr th:only-of-type {\n",
       "        vertical-align: middle;\n",
       "    }\n",
       "\n",
       "    .dataframe tbody tr th {\n",
       "        vertical-align: top;\n",
       "    }\n",
       "\n",
       "    .dataframe thead th {\n",
       "        text-align: right;\n",
       "    }\n",
       "</style>\n",
       "<table border=\"1\" class=\"dataframe\">\n",
       "  <thead>\n",
       "    <tr style=\"text-align: right;\">\n",
       "      <th></th>\n",
       "      <th>sales</th>\n",
       "      <th>year_of_release</th>\n",
       "    </tr>\n",
       "    <tr>\n",
       "      <th>platform</th>\n",
       "      <th></th>\n",
       "      <th></th>\n",
       "    </tr>\n",
       "  </thead>\n",
       "  <tbody>\n",
       "    <tr>\n",
       "      <th>3ds</th>\n",
       "      <td>259.00</td>\n",
       "      <td>2016</td>\n",
       "    </tr>\n",
       "    <tr>\n",
       "      <th>ps4</th>\n",
       "      <td>314.14</td>\n",
       "      <td>2016</td>\n",
       "    </tr>\n",
       "    <tr>\n",
       "      <th>x360</th>\n",
       "      <td>971.42</td>\n",
       "      <td>2016</td>\n",
       "    </tr>\n",
       "    <tr>\n",
       "      <th>wiiu</th>\n",
       "      <td>82.19</td>\n",
       "      <td>2016</td>\n",
       "    </tr>\n",
       "    <tr>\n",
       "      <th>wii</th>\n",
       "      <td>907.51</td>\n",
       "      <td>2016</td>\n",
       "    </tr>\n",
       "    <tr>\n",
       "      <th>psv</th>\n",
       "      <td>54.07</td>\n",
       "      <td>2016</td>\n",
       "    </tr>\n",
       "    <tr>\n",
       "      <th>ps3</th>\n",
       "      <td>939.17</td>\n",
       "      <td>2016</td>\n",
       "    </tr>\n",
       "    <tr>\n",
       "      <th>pc</th>\n",
       "      <td>199.35</td>\n",
       "      <td>2016</td>\n",
       "    </tr>\n",
       "    <tr>\n",
       "      <th>xone</th>\n",
       "      <td>159.32</td>\n",
       "      <td>2016</td>\n",
       "    </tr>\n",
       "    <tr>\n",
       "      <th>psp</th>\n",
       "      <td>294.05</td>\n",
       "      <td>2015</td>\n",
       "    </tr>\n",
       "    <tr>\n",
       "      <th>ds</th>\n",
       "      <td>806.10</td>\n",
       "      <td>2013</td>\n",
       "    </tr>\n",
       "    <tr>\n",
       "      <th>ps2</th>\n",
       "      <td>1050.17</td>\n",
       "      <td>2011</td>\n",
       "    </tr>\n",
       "    <tr>\n",
       "      <th>dc</th>\n",
       "      <td>0.35</td>\n",
       "      <td>2008</td>\n",
       "    </tr>\n",
       "    <tr>\n",
       "      <th>xb</th>\n",
       "      <td>232.99</td>\n",
       "      <td>2008</td>\n",
       "    </tr>\n",
       "    <tr>\n",
       "      <th>ps</th>\n",
       "      <td>12.02</td>\n",
       "      <td>2007</td>\n",
       "    </tr>\n",
       "    <tr>\n",
       "      <th>n64</th>\n",
       "      <td>0.61</td>\n",
       "      <td>2007</td>\n",
       "    </tr>\n",
       "    <tr>\n",
       "      <th>gc</th>\n",
       "      <td>172.31</td>\n",
       "      <td>2007</td>\n",
       "    </tr>\n",
       "    <tr>\n",
       "      <th>gba</th>\n",
       "      <td>256.25</td>\n",
       "      <td>2007</td>\n",
       "    </tr>\n",
       "  </tbody>\n",
       "</table>\n",
       "</div>"
      ],
      "text/plain": [
       "            sales  year_of_release\n",
       "platform                          \n",
       "3ds        259.00             2016\n",
       "ps4        314.14             2016\n",
       "x360       971.42             2016\n",
       "wiiu        82.19             2016\n",
       "wii        907.51             2016\n",
       "psv         54.07             2016\n",
       "ps3        939.17             2016\n",
       "pc         199.35             2016\n",
       "xone       159.32             2016\n",
       "psp        294.05             2015\n",
       "ds         806.10             2013\n",
       "ps2       1050.17             2011\n",
       "dc           0.35             2008\n",
       "xb         232.99             2008\n",
       "ps          12.02             2007\n",
       "n64          0.61             2007\n",
       "gc         172.31             2007\n",
       "gba        256.25             2007"
      ]
     },
     "execution_count": 21,
     "metadata": {},
     "output_type": "execute_result"
    }
   ],
   "source": [
    "platf_pivot = pd.pivot_table(df, values = ['year_of_release','sales'], index = 'platform', \\\n",
    "                             aggfunc={'year_of_release': 'max','sales': 'sum'})\n",
    "platf_pivot.sort_values('year_of_release',ascending=False)"
   ]
  },
  {
   "cell_type": "markdown",
   "metadata": {},
   "source": [
    "Пик продаж по топ 3 платформам приходится на ~7 лет. Можно использовать это значение как среднее время жизни платформы. Выделим акутальный период. Платформы, вышедшие в 2008 году уже потеряли акутальность в 2016. Так как в цель работы предоставить данные по рынку, актуальные к 2017 году, исключим их из рассмотрения. На эти игры не будет спроса."
   ]
  },
  {
   "cell_type": "code",
   "execution_count": 22,
   "metadata": {},
   "outputs": [],
   "source": [
    "inds_2008 = platf_pivot[platf_pivot['year_of_release'] >= 2008].index"
   ]
  },
  {
   "cell_type": "code",
   "execution_count": 23,
   "metadata": {},
   "outputs": [
    {
     "name": "stdout",
     "output_type": "stream",
     "text": [
      "(13884, 12)\n",
      "(12604, 12)\n"
     ]
    }
   ],
   "source": [
    "# Актуальный период\n",
    "print(df.shape)\n",
    "df = df[df.platform.isin(inds_2008)]\n",
    "print(df.shape)"
   ]
  },
  {
   "cell_type": "markdown",
   "metadata": {},
   "source": [
    "Отбросим платформы, у которых не было продаж в 2016 году"
   ]
  },
  {
   "cell_type": "code",
   "execution_count": 24,
   "metadata": {},
   "outputs": [],
   "source": [
    "olds = []\n",
    "for i in df.platform.unique():\n",
    "    graph = df[df.platform == i].groupby('year_of_release')['sales'].agg(['sum'])\n",
    "    if int(graph.index.max()) < 2016:\n",
    "        olds.append(i)"
   ]
  },
  {
   "cell_type": "code",
   "execution_count": 25,
   "metadata": {},
   "outputs": [
    {
     "data": {
      "text/plain": [
       "['ds', 'ps2', 'xb', 'psp', 'dc']"
      ]
     },
     "execution_count": 25,
     "metadata": {},
     "output_type": "execute_result"
    }
   ],
   "source": [
    "olds"
   ]
  },
  {
   "cell_type": "code",
   "execution_count": 26,
   "metadata": {},
   "outputs": [
    {
     "name": "stdout",
     "output_type": "stream",
     "text": [
      "0.47953030783878137\n"
     ]
    }
   ],
   "source": [
    "print(df[df.platform.isin(olds)].shape[0]/df.shape[0])"
   ]
  },
  {
   "cell_type": "code",
   "execution_count": 27,
   "metadata": {},
   "outputs": [
    {
     "name": "stdout",
     "output_type": "stream",
     "text": [
      "(6560, 12)\n"
     ]
    }
   ],
   "source": [
    "df = df[~df.platform.isin(olds)]\n",
    "print(df.shape)"
   ]
  },
  {
   "cell_type": "code",
   "execution_count": 28,
   "metadata": {},
   "outputs": [
    {
     "data": {
      "text/plain": [
       "array(['wii', 'x360', 'ps3', 'ps4', '3ds', 'pc', 'xone', 'wiiu', 'psv'],\n",
       "      dtype=object)"
      ]
     },
     "execution_count": 28,
     "metadata": {},
     "output_type": "execute_result"
    }
   ],
   "source": [
    "df.platform.unique()"
   ]
  },
  {
   "cell_type": "code",
   "execution_count": 29,
   "metadata": {},
   "outputs": [
    {
     "data": {
      "text/plain": [
       "['wii', 'x360', 'ps3']"
      ]
     },
     "execution_count": 29,
     "metadata": {},
     "output_type": "execute_result"
    }
   ],
   "source": [
    "# Также, можно было бы отбросить те строки,в которых продажи в 2016 меньше чем 10% от средних продаж\n",
    "\n",
    "olds2 = []\n",
    "for i in df.platform.unique():\n",
    "    graph = df[df.platform == i].groupby('year_of_release')['sales'].agg(['sum'])\n",
    "    if float(graph[graph.index == 2016]['sum']) < 0.1 * float(graph['sum'].mean()):\n",
    "        olds2.append(i)\n",
    "olds2"
   ]
  },
  {
   "cell_type": "code",
   "execution_count": 30,
   "metadata": {},
   "outputs": [],
   "source": [
    "# Для дальнейших расчетов\n",
    "df_stat = df.copy()"
   ]
  },
  {
   "cell_type": "code",
   "execution_count": 31,
   "metadata": {},
   "outputs": [
    {
     "data": {
      "text/plain": [
       "<AxesSubplot:xlabel='sum', ylabel='platform'>"
      ]
     },
     "execution_count": 31,
     "metadata": {},
     "output_type": "execute_result"
    },
    {
     "data": {
      "image/png": "[encoded data removed]",
      "text/plain": [
       "<Figure size 360x504 with 1 Axes>"
      ]
     },
     "metadata": {
      "needs_background": "light"
     },
     "output_type": "display_data"
    }
   ],
   "source": [
    "# Посмотрим на продажи\n",
    "platforms_sales = df.groupby('platform')['sales'].agg(['sum']).sort_values(by = 'sum', ascending = False)\n",
    "rcParams['figure.figsize'] = 5,7\n",
    "sns.barplot(x=\"sum\", y=platforms_sales.index, data=platforms_sales)\n"
   ]
  },
  {
   "cell_type": "markdown",
   "metadata": {},
   "source": [
    "Самые перспективные платформы к 2017 году - ps4, 3ds, pc, xone."
   ]
  },
  {
   "cell_type": "code",
   "execution_count": 32,
   "metadata": {
    "scrolled": true
   },
   "outputs": [
    {
     "data": {
      "image/png": "[encoded data removed]",
      "text/plain": [
       "<Figure size 216x216 with 1 Axes>"
      ]
     },
     "metadata": {
      "needs_background": "light"
     },
     "output_type": "display_data"
    },
    {
     "data": {
      "image/png": "[encoded data removed]",
      "text/plain": [
       "<Figure size 216x216 with 1 Axes>"
      ]
     },
     "metadata": {
      "needs_background": "light"
     },
     "output_type": "display_data"
    },
    {
     "data": {
      "image/png": "[encoded data removed]",
      "text/plain": [
       "<Figure size 216x216 with 1 Axes>"
      ]
     },
     "metadata": {
      "needs_background": "light"
     },
     "output_type": "display_data"
    },
    {
     "data": {
      "image/png": "[encoded data removed]",
      "text/plain": [
       "<Figure size 216x216 with 1 Axes>"
      ]
     },
     "metadata": {
      "needs_background": "light"
     },
     "output_type": "display_data"
    },
    {
     "data": {
      "image/png": "[encoded data removed]",
      "text/plain": [
       "<Figure size 216x216 with 1 Axes>"
      ]
     },
     "metadata": {
      "needs_background": "light"
     },
     "output_type": "display_data"
    },
    {
     "data": {
      "image/png": "[encoded data removed]",
      "text/plain": [
       "<Figure size 216x216 with 1 Axes>"
      ]
     },
     "metadata": {
      "needs_background": "light"
     },
     "output_type": "display_data"
    },
    {
     "data": {
      "image/png": "[encoded data removed]",
      "text/plain": [
       "<Figure size 216x216 with 1 Axes>"
      ]
     },
     "metadata": {
      "needs_background": "light"
     },
     "output_type": "display_data"
    },
    {
     "data": {
      "image/png": "[encoded data removed]",
      "text/plain": [
       "<Figure size 216x216 with 1 Axes>"
      ]
     },
     "metadata": {
      "needs_background": "light"
     },
     "output_type": "display_data"
    },
    {
     "data": {
      "image/png": "[encoded data removed]",
      "text/plain": [
       "<Figure size 216x216 with 1 Axes>"
      ]
     },
     "metadata": {
      "needs_background": "light"
     },
     "output_type": "display_data"
    }
   ],
   "source": [
    "platfroms_best = platforms_sales.index\n",
    "\n",
    "rcParams['figure.figsize'] = 3,3\n",
    "\n",
    "for i in platfroms_best: \n",
    "    graph = df[df.platform == i].groupby('year_of_release')['sales'].agg(['sum'])\n",
    "    graph.plot.bar(color = 'green')\n",
    "    plt.ylabel('sales')\n",
    "    plt.title(i)\n",
    "    plt.xticks(rotation = 'vertical')"
   ]
  },
  {
   "cell_type": "markdown",
   "metadata": {},
   "source": [
    "Видно как падали продажи playstation в связи с выходом новой версии. Так спад ps2 в 2008 переходит в рост продаж для ps3, также как и смена в 2013 на ps4. Самую большую прибыль за все время принесла платформа ps2, составляя 1.3 млрд (1255 млн) проданных копий. \n",
    "\n",
    "WII как проект вышедший в 2016, для которого было продано 82 млн копий, быстро потерял свою популярность по сравнению с другими платформами, будучи на пике 4-5 лет. Также как nintendo DS, пики продаж для которого пришлись на 2005-2010 года. "
   ]
  },
  {
   "cell_type": "code",
   "execution_count": 33,
   "metadata": {},
   "outputs": [
    {
     "data": {
      "text/plain": [
       "<AxesSubplot:xlabel='platform', ylabel='sales'>"
      ]
     },
     "execution_count": 33,
     "metadata": {},
     "output_type": "execute_result"
    },
    {
     "data": {
      "image/png": "[encoded data removed]",
      "text/plain": [
       "<Figure size 720x504 with 1 Axes>"
      ]
     },
     "metadata": {
      "needs_background": "light"
     },
     "output_type": "display_data"
    }
   ],
   "source": [
    "rcParams['figure.figsize'] = 10,7\n",
    "\n",
    "sns.boxplot(data = df, x = 'platform', y = 'sales')"
   ]
  },
  {
   "cell_type": "code",
   "execution_count": 34,
   "metadata": {},
   "outputs": [
    {
     "data": {
      "text/plain": [
       "<AxesSubplot:xlabel='platform', ylabel='sales'>"
      ]
     },
     "execution_count": 34,
     "metadata": {},
     "output_type": "execute_result"
    },
    {
     "data": {
      "image/png": "[encoded data removed]",
      "text/plain": [
       "<Figure size 720x504 with 1 Axes>"
      ]
     },
     "metadata": {
      "needs_background": "light"
     },
     "output_type": "display_data"
    }
   ],
   "source": [
    "sns.boxplot(data = df[df.platform.isin(['ps4', '3ds', 'pc', 'xone'])], x = 'platform', y = 'sales')"
   ]
  },
  {
   "cell_type": "markdown",
   "metadata": {},
   "source": [
    "На boxplot очень многие данные выходят за пределы 1,5 IQR сверху. В данных очень много значений с выбивающимися значениями продаж. Так на примере ПС2 видно что для каждой игры из серии ГТА было продано более 13 млн копий, тогда как в среднем игры на PS2 продаются в размере 0.23 млн копий. Таковы особенности индустрии."
   ]
  },
  {
   "cell_type": "markdown",
   "metadata": {},
   "source": [
    "Видно что медианы распределений по каждой платформе примерно равны. Разницу между платформами можно обосновать разными факторами. Так, например, в случае PC история продаж самая большая за все время. Игры продаются с 1995 до 2016, наблюдаютя как спады, так и подъемы, данные разнообразные. В случае 3ds, есть данные за 2003 год, но продаж практически не было вплоть до 2011. Тогда как для xone и wiiu распределения ближе к нормальному"
   ]
  },
  {
   "cell_type": "markdown",
   "metadata": {},
   "source": [
    "Посмотрим как отличаются оценки критиков и пользователей"
   ]
  },
  {
   "cell_type": "code",
   "execution_count": 35,
   "metadata": {},
   "outputs": [],
   "source": [
    "df.user_score = df.user_score.astype('Float64')"
   ]
  },
  {
   "cell_type": "code",
   "execution_count": 36,
   "metadata": {},
   "outputs": [
    {
     "data": {
      "text/plain": [
       "<AxesSubplot:xlabel='user_score', ylabel='sales'>"
      ]
     },
     "execution_count": 36,
     "metadata": {},
     "output_type": "execute_result"
    },
    {
     "data": {
      "image/png": "[encoded data removed]",
      "text/plain": [
       "<Figure size 720x504 with 2 Axes>"
      ]
     },
     "metadata": {
      "needs_background": "light"
     },
     "output_type": "display_data"
    }
   ],
   "source": [
    "ps4 = df[df.platform == 'ps4']\n",
    "\n",
    "fig, (ax0, ax1) = plt.subplots(1,2, sharey = True)\n",
    "\n",
    "sns.scatterplot(data = ps4, x = 'critic_score', y = 'sales', ax = ax0)\n",
    "sns.scatterplot(data = ps4, x = 'user_score', y = 'sales', ax = ax1)"
   ]
  },
  {
   "cell_type": "code",
   "execution_count": 37,
   "metadata": {},
   "outputs": [
    {
     "data": {
      "text/html": [
       "<div>\n",
       "<style scoped>\n",
       "    .dataframe tbody tr th:only-of-type {\n",
       "        vertical-align: middle;\n",
       "    }\n",
       "\n",
       "    .dataframe tbody tr th {\n",
       "        vertical-align: top;\n",
       "    }\n",
       "\n",
       "    .dataframe thead th {\n",
       "        text-align: right;\n",
       "    }\n",
       "</style>\n",
       "<table border=\"1\" class=\"dataframe\">\n",
       "  <thead>\n",
       "    <tr style=\"text-align: right;\">\n",
       "      <th></th>\n",
       "      <th>user_score</th>\n",
       "      <th>critic_score</th>\n",
       "      <th>sales</th>\n",
       "    </tr>\n",
       "  </thead>\n",
       "  <tbody>\n",
       "    <tr>\n",
       "      <th>user_score</th>\n",
       "      <td>1.000000</td>\n",
       "      <td>0.557654</td>\n",
       "      <td>-0.031957</td>\n",
       "    </tr>\n",
       "    <tr>\n",
       "      <th>critic_score</th>\n",
       "      <td>0.557654</td>\n",
       "      <td>1.000000</td>\n",
       "      <td>0.406568</td>\n",
       "    </tr>\n",
       "    <tr>\n",
       "      <th>sales</th>\n",
       "      <td>-0.031957</td>\n",
       "      <td>0.406568</td>\n",
       "      <td>1.000000</td>\n",
       "    </tr>\n",
       "  </tbody>\n",
       "</table>\n",
       "</div>"
      ],
      "text/plain": [
       "              user_score  critic_score     sales\n",
       "user_score      1.000000      0.557654 -0.031957\n",
       "critic_score    0.557654      1.000000  0.406568\n",
       "sales          -0.031957      0.406568  1.000000"
      ]
     },
     "execution_count": 37,
     "metadata": {},
     "output_type": "execute_result"
    }
   ],
   "source": [
    "ps4[['user_score','critic_score', 'sales']].corr()"
   ]
  },
  {
   "cell_type": "markdown",
   "metadata": {},
   "source": [
    "Интересно, но оценки критиков не особо коррелируют с оценками пользователей. Также между продажами и оценками обоих групп нет никакой корреляции"
   ]
  },
  {
   "cell_type": "markdown",
   "metadata": {},
   "source": [
    "Исследуем как обстоят дела на других платформах"
   ]
  },
  {
   "cell_type": "code",
   "execution_count": 38,
   "metadata": {},
   "outputs": [
    {
     "data": {
      "text/plain": [
       "<AxesSubplot:xlabel='user_score', ylabel='sales'>"
      ]
     },
     "execution_count": 38,
     "metadata": {},
     "output_type": "execute_result"
    },
    {
     "data": {
      "image/png": "[encoded data removed]",
      "text/plain": [
       "<Figure size 720x504 with 2 Axes>"
      ]
     },
     "metadata": {
      "needs_background": "light"
     },
     "output_type": "display_data"
    }
   ],
   "source": [
    "p3ds = df[df.platform == '3ds']\n",
    "\n",
    "fig, (ax0, ax1) = plt.subplots(1,2, sharey = True)\n",
    "\n",
    "sns.scatterplot(data = p3ds, x = 'critic_score', y = 'sales', ax = ax0)\n",
    "sns.scatterplot(data = p3ds, x = 'user_score', y = 'sales', ax = ax1)"
   ]
  },
  {
   "cell_type": "code",
   "execution_count": 39,
   "metadata": {},
   "outputs": [
    {
     "data": {
      "text/html": [
       "<div>\n",
       "<style scoped>\n",
       "    .dataframe tbody tr th:only-of-type {\n",
       "        vertical-align: middle;\n",
       "    }\n",
       "\n",
       "    .dataframe tbody tr th {\n",
       "        vertical-align: top;\n",
       "    }\n",
       "\n",
       "    .dataframe thead th {\n",
       "        text-align: right;\n",
       "    }\n",
       "</style>\n",
       "<table border=\"1\" class=\"dataframe\">\n",
       "  <thead>\n",
       "    <tr style=\"text-align: right;\">\n",
       "      <th></th>\n",
       "      <th>user_score</th>\n",
       "      <th>critic_score</th>\n",
       "      <th>sales</th>\n",
       "    </tr>\n",
       "  </thead>\n",
       "  <tbody>\n",
       "    <tr>\n",
       "      <th>user_score</th>\n",
       "      <td>1.000000</td>\n",
       "      <td>0.744168</td>\n",
       "      <td>0.224808</td>\n",
       "    </tr>\n",
       "    <tr>\n",
       "      <th>critic_score</th>\n",
       "      <td>0.744168</td>\n",
       "      <td>1.000000</td>\n",
       "      <td>0.349401</td>\n",
       "    </tr>\n",
       "    <tr>\n",
       "      <th>sales</th>\n",
       "      <td>0.224808</td>\n",
       "      <td>0.349401</td>\n",
       "      <td>1.000000</td>\n",
       "    </tr>\n",
       "  </tbody>\n",
       "</table>\n",
       "</div>"
      ],
      "text/plain": [
       "              user_score  critic_score     sales\n",
       "user_score      1.000000      0.744168  0.224808\n",
       "critic_score    0.744168      1.000000  0.349401\n",
       "sales           0.224808      0.349401  1.000000"
      ]
     },
     "execution_count": 39,
     "metadata": {},
     "output_type": "execute_result"
    }
   ],
   "source": [
    "p3ds[['user_score','critic_score', 'sales']].corr()"
   ]
  },
  {
   "cell_type": "markdown",
   "metadata": {},
   "source": [
    "В случае 3ds оценки критиков и пользователей коррелируют между собой"
   ]
  },
  {
   "cell_type": "code",
   "execution_count": 40,
   "metadata": {},
   "outputs": [
    {
     "data": {
      "text/plain": [
       "<AxesSubplot:xlabel='user_score', ylabel='sales'>"
      ]
     },
     "execution_count": 40,
     "metadata": {},
     "output_type": "execute_result"
    },
    {
     "data": {
      "image/png": "[encoded data removed]",
      "text/plain": [
       "<Figure size 720x504 with 2 Axes>"
      ]
     },
     "metadata": {
      "needs_background": "light"
     },
     "output_type": "display_data"
    }
   ],
   "source": [
    "pc = df[df.platform == 'pc']\n",
    "\n",
    "fig, (ax0, ax1) = plt.subplots(1,2, sharey = True)\n",
    "\n",
    "sns.scatterplot(data = pc, x = 'critic_score', y = 'sales', ax = ax0)\n",
    "sns.scatterplot(data = pc, x = 'user_score', y = 'sales', ax = ax1)"
   ]
  },
  {
   "cell_type": "code",
   "execution_count": 41,
   "metadata": {},
   "outputs": [
    {
     "data": {
      "text/html": [
       "<div>\n",
       "<style scoped>\n",
       "    .dataframe tbody tr th:only-of-type {\n",
       "        vertical-align: middle;\n",
       "    }\n",
       "\n",
       "    .dataframe tbody tr th {\n",
       "        vertical-align: top;\n",
       "    }\n",
       "\n",
       "    .dataframe thead th {\n",
       "        text-align: right;\n",
       "    }\n",
       "</style>\n",
       "<table border=\"1\" class=\"dataframe\">\n",
       "  <thead>\n",
       "    <tr style=\"text-align: right;\">\n",
       "      <th></th>\n",
       "      <th>user_score</th>\n",
       "      <th>critic_score</th>\n",
       "      <th>sales</th>\n",
       "    </tr>\n",
       "  </thead>\n",
       "  <tbody>\n",
       "    <tr>\n",
       "      <th>user_score</th>\n",
       "      <td>1.000000</td>\n",
       "      <td>0.543695</td>\n",
       "      <td>-0.014155</td>\n",
       "    </tr>\n",
       "    <tr>\n",
       "      <th>critic_score</th>\n",
       "      <td>0.543695</td>\n",
       "      <td>1.000000</td>\n",
       "      <td>0.252496</td>\n",
       "    </tr>\n",
       "    <tr>\n",
       "      <th>sales</th>\n",
       "      <td>-0.014155</td>\n",
       "      <td>0.252496</td>\n",
       "      <td>1.000000</td>\n",
       "    </tr>\n",
       "  </tbody>\n",
       "</table>\n",
       "</div>"
      ],
      "text/plain": [
       "              user_score  critic_score     sales\n",
       "user_score      1.000000      0.543695 -0.014155\n",
       "critic_score    0.543695      1.000000  0.252496\n",
       "sales          -0.014155      0.252496  1.000000"
      ]
     },
     "execution_count": 41,
     "metadata": {},
     "output_type": "execute_result"
    }
   ],
   "source": [
    "pc[['user_score','critic_score', 'sales']].corr()"
   ]
  },
  {
   "cell_type": "markdown",
   "metadata": {},
   "source": [
    "В общем и целом, схожее соотношение наблюдается и для других платформ. "
   ]
  },
  {
   "cell_type": "markdown",
   "metadata": {},
   "source": [
    "Из данных сможно сделать вывод что ни оценка пользователей, ни оценка критиков не влияет на продажи. Однако, возможно между этими величинами зависимость есть, но она описывается сложнее и коэффициент корреляции Пирсона не информативен."
   ]
  },
  {
   "cell_type": "code",
   "execution_count": 42,
   "metadata": {},
   "outputs": [
    {
     "data": {
      "text/html": [
       "<div>\n",
       "<style scoped>\n",
       "    .dataframe tbody tr th:only-of-type {\n",
       "        vertical-align: middle;\n",
       "    }\n",
       "\n",
       "    .dataframe tbody tr th {\n",
       "        vertical-align: top;\n",
       "    }\n",
       "\n",
       "    .dataframe thead th {\n",
       "        text-align: right;\n",
       "    }\n",
       "</style>\n",
       "<table border=\"1\" class=\"dataframe\">\n",
       "  <thead>\n",
       "    <tr style=\"text-align: right;\">\n",
       "      <th></th>\n",
       "      <th>sum</th>\n",
       "    </tr>\n",
       "    <tr>\n",
       "      <th>genre</th>\n",
       "      <th></th>\n",
       "    </tr>\n",
       "  </thead>\n",
       "  <tbody>\n",
       "    <tr>\n",
       "      <th>action</th>\n",
       "      <td>910.52</td>\n",
       "    </tr>\n",
       "    <tr>\n",
       "      <th>shooter</th>\n",
       "      <td>693.66</td>\n",
       "    </tr>\n",
       "    <tr>\n",
       "      <th>sports</th>\n",
       "      <td>667.40</td>\n",
       "    </tr>\n",
       "    <tr>\n",
       "      <th>misc</th>\n",
       "      <td>399.33</td>\n",
       "    </tr>\n",
       "    <tr>\n",
       "      <th>role-playing</th>\n",
       "      <td>342.74</td>\n",
       "    </tr>\n",
       "    <tr>\n",
       "      <th>racing</th>\n",
       "      <td>248.55</td>\n",
       "    </tr>\n",
       "    <tr>\n",
       "      <th>platform</th>\n",
       "      <td>195.23</td>\n",
       "    </tr>\n",
       "    <tr>\n",
       "      <th>fighting</th>\n",
       "      <td>142.64</td>\n",
       "    </tr>\n",
       "    <tr>\n",
       "      <th>simulation</th>\n",
       "      <td>131.22</td>\n",
       "    </tr>\n",
       "    <tr>\n",
       "      <th>adventure</th>\n",
       "      <td>76.92</td>\n",
       "    </tr>\n",
       "    <tr>\n",
       "      <th>strategy</th>\n",
       "      <td>53.17</td>\n",
       "    </tr>\n",
       "    <tr>\n",
       "      <th>puzzle</th>\n",
       "      <td>24.79</td>\n",
       "    </tr>\n",
       "  </tbody>\n",
       "</table>\n",
       "</div>"
      ],
      "text/plain": [
       "                 sum\n",
       "genre               \n",
       "action        910.52\n",
       "shooter       693.66\n",
       "sports        667.40\n",
       "misc          399.33\n",
       "role-playing  342.74\n",
       "racing        248.55\n",
       "platform      195.23\n",
       "fighting      142.64\n",
       "simulation    131.22\n",
       "adventure      76.92\n",
       "strategy       53.17\n",
       "puzzle         24.79"
      ]
     },
     "execution_count": 42,
     "metadata": {},
     "output_type": "execute_result"
    }
   ],
   "source": [
    "df.groupby('genre')['sales'].agg(['sum']).sort_values(by = 'sum' ,ascending=False)"
   ]
  },
  {
   "cell_type": "markdown",
   "metadata": {},
   "source": [
    "Среди наиболее популярных жанров определенно можно выделить экшн, спорт, шутеры и рпг как наиболее прибыльные жанры. Паззлы и стратегии совсем не популярны (Однако, их разработка сильно дешевле. Окупаемость таких игр может быть весьма значимой)."
   ]
  },
  {
   "cell_type": "markdown",
   "metadata": {},
   "source": [
    "Рассмотрим популярность различных платформ и жанров на трех представленных рынках"
   ]
  },
  {
   "cell_type": "code",
   "execution_count": 43,
   "metadata": {},
   "outputs": [],
   "source": [
    "# NA"
   ]
  },
  {
   "cell_type": "code",
   "execution_count": 44,
   "metadata": {},
   "outputs": [
    {
     "data": {
      "text/html": [
       "<div>\n",
       "<style scoped>\n",
       "    .dataframe tbody tr th:only-of-type {\n",
       "        vertical-align: middle;\n",
       "    }\n",
       "\n",
       "    .dataframe tbody tr th {\n",
       "        vertical-align: top;\n",
       "    }\n",
       "\n",
       "    .dataframe thead th {\n",
       "        text-align: right;\n",
       "    }\n",
       "</style>\n",
       "<table border=\"1\" class=\"dataframe\">\n",
       "  <thead>\n",
       "    <tr style=\"text-align: right;\">\n",
       "      <th></th>\n",
       "      <th>sum</th>\n",
       "    </tr>\n",
       "    <tr>\n",
       "      <th>platform</th>\n",
       "      <th></th>\n",
       "    </tr>\n",
       "  </thead>\n",
       "  <tbody>\n",
       "    <tr>\n",
       "      <th>x360</th>\n",
       "      <td>0.353454</td>\n",
       "    </tr>\n",
       "    <tr>\n",
       "      <th>wii</th>\n",
       "      <td>0.291519</td>\n",
       "    </tr>\n",
       "    <tr>\n",
       "      <th>ps3</th>\n",
       "      <td>0.230851</td>\n",
       "    </tr>\n",
       "    <tr>\n",
       "      <th>ps4</th>\n",
       "      <td>0.063795</td>\n",
       "    </tr>\n",
       "    <tr>\n",
       "      <th>xone</th>\n",
       "      <td>0.054631</td>\n",
       "    </tr>\n",
       "  </tbody>\n",
       "</table>\n",
       "</div>"
      ],
      "text/plain": [
       "               sum\n",
       "platform          \n",
       "x360      0.353454\n",
       "wii       0.291519\n",
       "ps3       0.230851\n",
       "ps4       0.063795\n",
       "xone      0.054631"
      ]
     },
     "execution_count": 44,
     "metadata": {},
     "output_type": "execute_result"
    }
   ],
   "source": [
    "na_sales = df.groupby('platform')['na_sales'].agg(['sum']).sort_values(by = 'sum',ascending=False).head(5)\n",
    "na_sales/df[~df.rating.isna()].na_sales.sum()"
   ]
  },
  {
   "cell_type": "code",
   "execution_count": 45,
   "metadata": {},
   "outputs": [
    {
     "data": {
      "text/html": [
       "<div>\n",
       "<style scoped>\n",
       "    .dataframe tbody tr th:only-of-type {\n",
       "        vertical-align: middle;\n",
       "    }\n",
       "\n",
       "    .dataframe tbody tr th {\n",
       "        vertical-align: top;\n",
       "    }\n",
       "\n",
       "    .dataframe thead th {\n",
       "        text-align: right;\n",
       "    }\n",
       "</style>\n",
       "<table border=\"1\" class=\"dataframe\">\n",
       "  <thead>\n",
       "    <tr style=\"text-align: right;\">\n",
       "      <th></th>\n",
       "      <th>sum</th>\n",
       "    </tr>\n",
       "    <tr>\n",
       "      <th>genre</th>\n",
       "      <th></th>\n",
       "    </tr>\n",
       "  </thead>\n",
       "  <tbody>\n",
       "    <tr>\n",
       "      <th>action</th>\n",
       "      <td>0.249859</td>\n",
       "    </tr>\n",
       "    <tr>\n",
       "      <th>shooter</th>\n",
       "      <td>0.211426</td>\n",
       "    </tr>\n",
       "    <tr>\n",
       "      <th>sports</th>\n",
       "      <td>0.199886</td>\n",
       "    </tr>\n",
       "    <tr>\n",
       "      <th>misc</th>\n",
       "      <td>0.130541</td>\n",
       "    </tr>\n",
       "    <tr>\n",
       "      <th>role-playing</th>\n",
       "      <td>0.081548</td>\n",
       "    </tr>\n",
       "  </tbody>\n",
       "</table>\n",
       "</div>"
      ],
      "text/plain": [
       "                   sum\n",
       "genre                 \n",
       "action        0.249859\n",
       "shooter       0.211426\n",
       "sports        0.199886\n",
       "misc          0.130541\n",
       "role-playing  0.081548"
      ]
     },
     "execution_count": 45,
     "metadata": {},
     "output_type": "execute_result"
    }
   ],
   "source": [
    "na_genre = df.groupby('genre')['na_sales'].agg(['sum']).sort_values(by = 'sum',ascending=False).head(5)\n",
    "na_genre/df[~df.rating.isna()].na_sales.sum()"
   ]
  },
  {
   "cell_type": "code",
   "execution_count": 46,
   "metadata": {},
   "outputs": [],
   "source": [
    "# EU"
   ]
  },
  {
   "cell_type": "code",
   "execution_count": 47,
   "metadata": {},
   "outputs": [
    {
     "data": {
      "text/html": [
       "<div>\n",
       "<style scoped>\n",
       "    .dataframe tbody tr th:only-of-type {\n",
       "        vertical-align: middle;\n",
       "    }\n",
       "\n",
       "    .dataframe tbody tr th {\n",
       "        vertical-align: top;\n",
       "    }\n",
       "\n",
       "    .dataframe thead th {\n",
       "        text-align: right;\n",
       "    }\n",
       "</style>\n",
       "<table border=\"1\" class=\"dataframe\">\n",
       "  <thead>\n",
       "    <tr style=\"text-align: right;\">\n",
       "      <th></th>\n",
       "      <th>sum</th>\n",
       "    </tr>\n",
       "    <tr>\n",
       "      <th>platform</th>\n",
       "      <th></th>\n",
       "    </tr>\n",
       "  </thead>\n",
       "  <tbody>\n",
       "    <tr>\n",
       "      <th>ps3</th>\n",
       "      <td>0.297883</td>\n",
       "    </tr>\n",
       "    <tr>\n",
       "      <th>x360</th>\n",
       "      <td>0.244549</td>\n",
       "    </tr>\n",
       "    <tr>\n",
       "      <th>wii</th>\n",
       "      <td>0.236827</td>\n",
       "    </tr>\n",
       "    <tr>\n",
       "      <th>ps4</th>\n",
       "      <td>0.127432</td>\n",
       "    </tr>\n",
       "    <tr>\n",
       "      <th>pc</th>\n",
       "      <td>0.109034</td>\n",
       "    </tr>\n",
       "  </tbody>\n",
       "</table>\n",
       "</div>"
      ],
      "text/plain": [
       "               sum\n",
       "platform          \n",
       "ps3       0.297883\n",
       "x360      0.244549\n",
       "wii       0.236827\n",
       "ps4       0.127432\n",
       "pc        0.109034"
      ]
     },
     "execution_count": 47,
     "metadata": {},
     "output_type": "execute_result"
    }
   ],
   "source": [
    "eu_sales = df.groupby('platform')['eu_sales'].agg(['sum']).sort_values(by = 'sum',ascending=False).head(5)\n",
    "eu_sales/df[~df.rating.isna()].eu_sales.sum()"
   ]
  },
  {
   "cell_type": "code",
   "execution_count": 48,
   "metadata": {},
   "outputs": [
    {
     "data": {
      "text/html": [
       "<div>\n",
       "<style scoped>\n",
       "    .dataframe tbody tr th:only-of-type {\n",
       "        vertical-align: middle;\n",
       "    }\n",
       "\n",
       "    .dataframe tbody tr th {\n",
       "        vertical-align: top;\n",
       "    }\n",
       "\n",
       "    .dataframe thead th {\n",
       "        text-align: right;\n",
       "    }\n",
       "</style>\n",
       "<table border=\"1\" class=\"dataframe\">\n",
       "  <thead>\n",
       "    <tr style=\"text-align: right;\">\n",
       "      <th></th>\n",
       "      <th>sum</th>\n",
       "    </tr>\n",
       "    <tr>\n",
       "      <th>genre</th>\n",
       "      <th></th>\n",
       "    </tr>\n",
       "  </thead>\n",
       "  <tbody>\n",
       "    <tr>\n",
       "      <th>action</th>\n",
       "      <td>0.277480</td>\n",
       "    </tr>\n",
       "    <tr>\n",
       "      <th>shooter</th>\n",
       "      <td>0.212359</td>\n",
       "    </tr>\n",
       "    <tr>\n",
       "      <th>sports</th>\n",
       "      <td>0.203354</td>\n",
       "    </tr>\n",
       "    <tr>\n",
       "      <th>misc</th>\n",
       "      <td>0.101889</td>\n",
       "    </tr>\n",
       "    <tr>\n",
       "      <th>racing</th>\n",
       "      <td>0.091205</td>\n",
       "    </tr>\n",
       "  </tbody>\n",
       "</table>\n",
       "</div>"
      ],
      "text/plain": [
       "              sum\n",
       "genre            \n",
       "action   0.277480\n",
       "shooter  0.212359\n",
       "sports   0.203354\n",
       "misc     0.101889\n",
       "racing   0.091205"
      ]
     },
     "execution_count": 48,
     "metadata": {},
     "output_type": "execute_result"
    }
   ],
   "source": [
    "eu_genre = df.groupby('genre')['eu_sales'].agg(['sum']).sort_values(by = 'sum',ascending=False).head(5)\n",
    "eu_genre/df[~df.rating.isna()].eu_sales.sum()"
   ]
  },
  {
   "cell_type": "code",
   "execution_count": 49,
   "metadata": {},
   "outputs": [],
   "source": [
    "# JP"
   ]
  },
  {
   "cell_type": "code",
   "execution_count": 50,
   "metadata": {},
   "outputs": [
    {
     "data": {
      "text/html": [
       "<div>\n",
       "<style scoped>\n",
       "    .dataframe tbody tr th:only-of-type {\n",
       "        vertical-align: middle;\n",
       "    }\n",
       "\n",
       "    .dataframe tbody tr th {\n",
       "        vertical-align: top;\n",
       "    }\n",
       "\n",
       "    .dataframe thead th {\n",
       "        text-align: right;\n",
       "    }\n",
       "</style>\n",
       "<table border=\"1\" class=\"dataframe\">\n",
       "  <thead>\n",
       "    <tr style=\"text-align: right;\">\n",
       "      <th></th>\n",
       "      <th>sum</th>\n",
       "    </tr>\n",
       "    <tr>\n",
       "      <th>platform</th>\n",
       "      <th></th>\n",
       "    </tr>\n",
       "  </thead>\n",
       "  <tbody>\n",
       "    <tr>\n",
       "      <th>3ds</th>\n",
       "      <td>0.539612</td>\n",
       "    </tr>\n",
       "    <tr>\n",
       "      <th>ps3</th>\n",
       "      <td>0.429835</td>\n",
       "    </tr>\n",
       "    <tr>\n",
       "      <th>wii</th>\n",
       "      <td>0.371623</td>\n",
       "    </tr>\n",
       "    <tr>\n",
       "      <th>psv</th>\n",
       "      <td>0.117442</td>\n",
       "    </tr>\n",
       "    <tr>\n",
       "      <th>ps4</th>\n",
       "      <td>0.085549</td>\n",
       "    </tr>\n",
       "  </tbody>\n",
       "</table>\n",
       "</div>"
      ],
      "text/plain": [
       "               sum\n",
       "platform          \n",
       "3ds       0.539612\n",
       "ps3       0.429835\n",
       "wii       0.371623\n",
       "psv       0.117442\n",
       "ps4       0.085549"
      ]
     },
     "execution_count": 50,
     "metadata": {},
     "output_type": "execute_result"
    }
   ],
   "source": [
    "jp_sales = df.groupby('platform')['jp_sales'].agg(['sum']).sort_values(by = 'sum',ascending=False).head(5)\n",
    "jp_sales/df[~df.rating.isna()].jp_sales.sum()"
   ]
  },
  {
   "cell_type": "code",
   "execution_count": 51,
   "metadata": {},
   "outputs": [
    {
     "data": {
      "text/html": [
       "<div>\n",
       "<style scoped>\n",
       "    .dataframe tbody tr th:only-of-type {\n",
       "        vertical-align: middle;\n",
       "    }\n",
       "\n",
       "    .dataframe tbody tr th {\n",
       "        vertical-align: top;\n",
       "    }\n",
       "\n",
       "    .dataframe thead th {\n",
       "        text-align: right;\n",
       "    }\n",
       "</style>\n",
       "<table border=\"1\" class=\"dataframe\">\n",
       "  <thead>\n",
       "    <tr style=\"text-align: right;\">\n",
       "      <th></th>\n",
       "      <th>sum</th>\n",
       "    </tr>\n",
       "    <tr>\n",
       "      <th>genre</th>\n",
       "      <th></th>\n",
       "    </tr>\n",
       "  </thead>\n",
       "  <tbody>\n",
       "    <tr>\n",
       "      <th>role-playing</th>\n",
       "      <td>0.425493</td>\n",
       "    </tr>\n",
       "    <tr>\n",
       "      <th>action</th>\n",
       "      <td>0.396012</td>\n",
       "    </tr>\n",
       "    <tr>\n",
       "      <th>sports</th>\n",
       "      <td>0.167131</td>\n",
       "    </tr>\n",
       "    <tr>\n",
       "      <th>misc</th>\n",
       "      <td>0.144940</td>\n",
       "    </tr>\n",
       "    <tr>\n",
       "      <th>platform</th>\n",
       "      <td>0.121033</td>\n",
       "    </tr>\n",
       "  </tbody>\n",
       "</table>\n",
       "</div>"
      ],
      "text/plain": [
       "                   sum\n",
       "genre                 \n",
       "role-playing  0.425493\n",
       "action        0.396012\n",
       "sports        0.167131\n",
       "misc          0.144940\n",
       "platform      0.121033"
      ]
     },
     "execution_count": 51,
     "metadata": {},
     "output_type": "execute_result"
    }
   ],
   "source": [
    "jp_genre = df.groupby('genre')['jp_sales'].agg(['sum']).sort_values(by = 'sum',ascending=False).head(5)\n",
    "jp_genre/df[~df.rating.isna()].jp_sales.sum()"
   ]
  },
  {
   "cell_type": "markdown",
   "metadata": {},
   "source": [
    "Видно что европейский и американский рынок не сильно отличаются по предпочтениям и продажам. В обеих регионах популярны одни и те же платформы и жанры. "
   ]
  },
  {
   "cell_type": "markdown",
   "metadata": {},
   "source": [
    "Японский рынок сильно отличается от остальных. Жанр РПГ там популярнее всех остальных, особенно по сравнению с Европой и Северной Америкой. А Xbox вообще не популярен, что довольно логично. Playstation производит Sony - японская фирма. Вполне объяснимо, что именно эти платформы будут лидировать на японском рынке. Видно что предпочтения и ожидания игроков из разных стран отличаются."
   ]
  },
  {
   "cell_type": "code",
   "execution_count": 52,
   "metadata": {},
   "outputs": [],
   "source": [
    "df.rating = df.rating.fillna('отсутствует')"
   ]
  },
  {
   "cell_type": "code",
   "execution_count": 53,
   "metadata": {},
   "outputs": [
    {
     "data": {
      "text/plain": [
       "отсутствует    1896\n",
       "T              1436\n",
       "E              1336\n",
       "M              1044\n",
       "E10+            841\n",
       "EC                4\n",
       "RP                3\n",
       "Name: rating, dtype: int64"
      ]
     },
     "execution_count": 53,
     "metadata": {},
     "output_type": "execute_result"
    }
   ],
   "source": [
    "df.rating.value_counts()"
   ]
  },
  {
   "cell_type": "code",
   "execution_count": 54,
   "metadata": {},
   "outputs": [
    {
     "data": {
      "text/html": [
       "<div>\n",
       "<style scoped>\n",
       "    .dataframe tbody tr th:only-of-type {\n",
       "        vertical-align: middle;\n",
       "    }\n",
       "\n",
       "    .dataframe tbody tr th {\n",
       "        vertical-align: top;\n",
       "    }\n",
       "\n",
       "    .dataframe thead tr th {\n",
       "        text-align: left;\n",
       "    }\n",
       "\n",
       "    .dataframe thead tr:last-of-type th {\n",
       "        text-align: right;\n",
       "    }\n",
       "</style>\n",
       "<table border=\"1\" class=\"dataframe\">\n",
       "  <thead>\n",
       "    <tr>\n",
       "      <th></th>\n",
       "      <th>na_sales</th>\n",
       "      <th>eu_sales</th>\n",
       "      <th>jp_sales</th>\n",
       "    </tr>\n",
       "    <tr>\n",
       "      <th></th>\n",
       "      <th>sum</th>\n",
       "      <th>sum</th>\n",
       "      <th>sum</th>\n",
       "    </tr>\n",
       "    <tr>\n",
       "      <th>rating</th>\n",
       "      <th></th>\n",
       "      <th></th>\n",
       "      <th></th>\n",
       "    </tr>\n",
       "  </thead>\n",
       "  <tbody>\n",
       "    <tr>\n",
       "      <th>E</th>\n",
       "      <td>0.290180</td>\n",
       "      <td>0.278013</td>\n",
       "      <td>0.251338</td>\n",
       "    </tr>\n",
       "    <tr>\n",
       "      <th>E10+</th>\n",
       "      <td>0.125651</td>\n",
       "      <td>0.107907</td>\n",
       "      <td>0.043259</td>\n",
       "    </tr>\n",
       "    <tr>\n",
       "      <th>EC</th>\n",
       "      <td>0.000376</td>\n",
       "      <td>0.000000</td>\n",
       "      <td>0.000000</td>\n",
       "    </tr>\n",
       "    <tr>\n",
       "      <th>M</th>\n",
       "      <td>0.295426</td>\n",
       "      <td>0.307294</td>\n",
       "      <td>0.129014</td>\n",
       "    </tr>\n",
       "    <tr>\n",
       "      <th>RP</th>\n",
       "      <td>0.000000</td>\n",
       "      <td>0.000063</td>\n",
       "      <td>0.000000</td>\n",
       "    </tr>\n",
       "    <tr>\n",
       "      <th>T</th>\n",
       "      <td>0.191711</td>\n",
       "      <td>0.174479</td>\n",
       "      <td>0.170680</td>\n",
       "    </tr>\n",
       "    <tr>\n",
       "      <th>отсутствует</th>\n",
       "      <td>0.096656</td>\n",
       "      <td>0.132243</td>\n",
       "      <td>0.405708</td>\n",
       "    </tr>\n",
       "  </tbody>\n",
       "</table>\n",
       "</div>"
      ],
      "text/plain": [
       "             na_sales  eu_sales  jp_sales\n",
       "                  sum       sum       sum\n",
       "rating                                   \n",
       "E            0.290180  0.278013  0.251338\n",
       "E10+         0.125651  0.107907  0.043259\n",
       "EC           0.000376  0.000000  0.000000\n",
       "M            0.295426  0.307294  0.129014\n",
       "RP           0.000000  0.000063  0.000000\n",
       "T            0.191711  0.174479  0.170680\n",
       "отсутствует  0.096656  0.132243  0.405708"
      ]
     },
     "execution_count": 54,
     "metadata": {},
     "output_type": "execute_result"
    }
   ],
   "source": [
    "ratings = df.groupby('rating')[['na_sales', 'eu_sales','jp_sales']].agg(['sum'])\n",
    "ratings[('eu_sales', 'sum')]=ratings[('eu_sales', 'sum')]/df.eu_sales.sum()\n",
    "ratings[('na_sales', 'sum')]=ratings[('na_sales', 'sum')]/df.na_sales.sum()\n",
    "ratings[('jp_sales', 'sum')]=ratings[('jp_sales', 'sum')]/df.jp_sales.sum()\n",
    "\n",
    "ratings"
   ]
  },
  {
   "cell_type": "code",
   "execution_count": 55,
   "metadata": {},
   "outputs": [
    {
     "data": {
      "text/plain": [
       "<AxesSubplot:xlabel='rating', ylabel=\"('jp_sales', 'sum')\">"
      ]
     },
     "execution_count": 55,
     "metadata": {},
     "output_type": "execute_result"
    },
    {
     "data": {
      "image/png": "[encoded data removed]",
      "text/plain": [
       "<Figure size 720x504 with 3 Axes>"
      ]
     },
     "metadata": {
      "needs_background": "light"
     },
     "output_type": "display_data"
    }
   ],
   "source": [
    "fig, (ax0, ax1, ax2) = plt.subplots(3,1)\n",
    "rcParams['figure.figsize'] = 9,7\n",
    "\n",
    "sns.barplot(data = ratings, y = ('eu_sales', 'sum'), x = ratings.index,ax=ax0)\n",
    "sns.barplot(data = ratings, y = ('na_sales', 'sum'), x = ratings.index,ax=ax1)\n",
    "sns.barplot(data = ratings, y = ('jp_sales', 'sum'), x = ratings.index,ax=ax2)\n"
   ]
  },
  {
   "cell_type": "markdown",
   "metadata": {},
   "source": [
    "Проверим, есть ли статистически значимое отличие между оценками пользователями игр на X360 и PC."
   ]
  },
  {
   "cell_type": "code",
   "execution_count": 56,
   "metadata": {},
   "outputs": [
    {
     "name": "stdout",
     "output_type": "stream",
     "text": [
      "0.002858095843471638\n"
     ]
    },
    {
     "data": {
      "text/plain": [
       "True"
      ]
     },
     "execution_count": 56,
     "metadata": {},
     "output_type": "execute_result"
    }
   ],
   "source": [
    "# Код студента\n",
    "df_stat.user_score = df_stat.user_score.astype('Float64')\n",
    "\n",
    "pc = df_stat[df_stat.platform == 'pc']\n",
    "x360 = df_stat[df_stat.platform == 'x360']\n",
    "\n",
    "pc = pc.dropna()\n",
    "x360 = x360.dropna()\n",
    "\n",
    "# H0: Средние значения пользовательского скора для платформ x360 и pc равны\n",
    "print(st.ttest_ind(x360['user_score'], pc['user_score']).pvalue)\n",
    "st.ttest_ind(x360['user_score'], pc['user_score']).pvalue < 0.05\n",
    "# Отвергаем нулевую гипотезу"
   ]
  },
  {
   "cell_type": "markdown",
   "metadata": {},
   "source": [
    "Проверим, есть ли статистически значимое отличие между оценками игр в жанрах экшн и спорт"
   ]
  },
  {
   "cell_type": "code",
   "execution_count": 57,
   "metadata": {},
   "outputs": [
    {
     "data": {
      "text/plain": [
       "True"
      ]
     },
     "metadata": {},
     "output_type": "display_data"
    },
    {
     "data": {
      "text/plain": [
       "5.636980791775167e-10"
      ]
     },
     "execution_count": 57,
     "metadata": {},
     "output_type": "execute_result"
    }
   ],
   "source": [
    "action = df_stat[df_stat.genre == 'action']\n",
    "sports = df_stat[df_stat.genre == 'sports']\n",
    "\n",
    "sports = sports.dropna()\n",
    "action = action.dropna()\n",
    "\n",
    "display(st.ttest_ind(action['user_score'], sports['user_score']).pvalue < 0.05)\n",
    "st.ttest_ind(action['user_score'], sports['user_score']).pvalue\n",
    "# Отвергаем нулевую гипотезу"
   ]
  },
  {
   "cell_type": "markdown",
   "metadata": {},
   "source": [
    "## Выводы"
   ]
  },
  {
   "cell_type": "markdown",
   "metadata": {},
   "source": [
    "1. Прорыв в игровой индустрии произошел в 2002 году. До этого времени выпускали значительно меньше игр. \n",
    "2. Больше всего копий игр было продано на платформу PS2 (на втором месте X360(XBox 360), на третьем PS3)\n",
    "3. В среднем время жизни платформы около 7 лет\n",
    "4. Платформа Wii обладала недолгой популярностью, но за 4-5 было продано 900 млн копий. Сравнительно: на x360 за 11 лет было продано 971 млн копий\n",
    "5. Популярность PS4 с 2015-2016 год упала в два раза\n",
    "6. Рейтинг пользователей и критиков в общем и целом не коррелирует с продажами.\n",
    "7. Лучше всего продаются игры жанра action и sports\n",
    "8. Японский рынок значительно отличается от европейского и североамериканского. Жители Японии чаще приобретают игры подростковых рейтингов, жанра РПГ. В Японии не популярна X360(XBox 360).\n",
    "9. Оценки пользователей на игры для X360 и PC отличаются. Игры на PC получают больший рейтинг.\n",
    "10. Оценки на игры в жанре action и sports не сильно разнятся"
   ]
  }
 ],
 "metadata": {
  "ExecuteTimeLog": [
   {
    "duration": 1548,
    "start_time": "2021-10-04T16:53:04.475Z"
   },
   {
    "duration": 48,
    "start_time": "2021-10-04T16:53:06.026Z"
   },
   {
    "duration": 32,
    "start_time": "2021-10-04T17:00:27.360Z"
   },
   {
    "duration": 6,
    "start_time": "2021-10-04T17:01:52.056Z"
   },
   {
    "duration": 4,
    "start_time": "2021-10-04T17:01:59.049Z"
   },
   {
    "duration": 6,
    "start_time": "2021-10-04T17:02:03.254Z"
   },
   {
    "duration": 5,
    "start_time": "2021-10-04T17:02:10.218Z"
   },
   {
    "duration": 30,
    "start_time": "2021-10-04T17:02:11.455Z"
   },
   {
    "duration": 19,
    "start_time": "2021-10-04T17:19:49.148Z"
   },
   {
    "duration": 18,
    "start_time": "2021-10-04T17:20:16.372Z"
   },
   {
    "duration": 41,
    "start_time": "2021-10-04T17:20:18.162Z"
   },
   {
    "duration": 19,
    "start_time": "2021-10-04T17:20:25.311Z"
   },
   {
    "duration": 10,
    "start_time": "2021-10-04T17:21:01.445Z"
   },
   {
    "duration": 16,
    "start_time": "2021-10-04T17:21:15.131Z"
   },
   {
    "duration": 14,
    "start_time": "2021-10-04T17:24:57.069Z"
   },
   {
    "duration": 7,
    "start_time": "2021-10-04T17:28:38.779Z"
   },
   {
    "duration": 29,
    "start_time": "2021-10-04T17:28:44.178Z"
   },
   {
    "duration": 4,
    "start_time": "2021-10-04T17:29:47.294Z"
   },
   {
    "duration": 47,
    "start_time": "2021-10-04T17:29:47.588Z"
   },
   {
    "duration": 4,
    "start_time": "2021-10-04T17:29:48.270Z"
   },
   {
    "duration": 30,
    "start_time": "2021-10-04T17:29:48.689Z"
   },
   {
    "duration": 30,
    "start_time": "2021-10-04T17:29:49.235Z"
   },
   {
    "duration": 27,
    "start_time": "2021-10-04T17:29:54.695Z"
   },
   {
    "duration": 12,
    "start_time": "2021-10-04T17:33:56.634Z"
   },
   {
    "duration": 19,
    "start_time": "2021-10-04T17:34:08.679Z"
   },
   {
    "duration": 9,
    "start_time": "2021-10-04T17:34:41.866Z"
   },
   {
    "duration": 30,
    "start_time": "2021-10-04T17:35:03.243Z"
   },
   {
    "duration": 430,
    "start_time": "2021-10-04T17:36:10.807Z"
   },
   {
    "duration": 29,
    "start_time": "2021-10-04T17:36:15.087Z"
   },
   {
    "duration": 12,
    "start_time": "2021-10-04T17:36:20.372Z"
   },
   {
    "duration": 281,
    "start_time": "2021-10-04T17:36:26.072Z"
   },
   {
    "duration": 13,
    "start_time": "2021-10-04T17:36:32.675Z"
   },
   {
    "duration": 31,
    "start_time": "2021-10-04T17:36:38.906Z"
   },
   {
    "duration": 9,
    "start_time": "2021-10-04T17:36:41.959Z"
   },
   {
    "duration": 14,
    "start_time": "2021-10-04T17:36:47.615Z"
   },
   {
    "duration": 125,
    "start_time": "2021-10-04T17:37:24.981Z"
   },
   {
    "duration": 12,
    "start_time": "2021-10-04T17:37:35.006Z"
   },
   {
    "duration": 12,
    "start_time": "2021-10-04T17:37:49.987Z"
   },
   {
    "duration": 278,
    "start_time": "2021-10-04T17:37:56.247Z"
   },
   {
    "duration": 33,
    "start_time": "2021-10-04T17:38:06.579Z"
   },
   {
    "duration": 34,
    "start_time": "2021-10-04T17:38:22.630Z"
   },
   {
    "duration": 37,
    "start_time": "2021-10-04T17:38:32.942Z"
   },
   {
    "duration": 12,
    "start_time": "2021-10-04T17:38:53.004Z"
   },
   {
    "duration": 16,
    "start_time": "2021-10-04T17:41:06.830Z"
   },
   {
    "duration": 16,
    "start_time": "2021-10-04T17:41:15.663Z"
   },
   {
    "duration": 10,
    "start_time": "2021-10-04T17:41:20.076Z"
   },
   {
    "duration": 11,
    "start_time": "2021-10-04T17:41:26.350Z"
   },
   {
    "duration": 105,
    "start_time": "2021-10-04T17:41:36.709Z"
   },
   {
    "duration": 20,
    "start_time": "2021-10-04T17:41:44.554Z"
   },
   {
    "duration": 31,
    "start_time": "2021-10-04T17:42:07.204Z"
   },
   {
    "duration": 12,
    "start_time": "2021-10-04T17:42:44.769Z"
   },
   {
    "duration": 14,
    "start_time": "2021-10-04T17:42:58.383Z"
   },
   {
    "duration": 11,
    "start_time": "2021-10-04T17:43:10.456Z"
   },
   {
    "duration": 27443,
    "start_time": "2021-10-04T17:45:02.358Z"
   },
   {
    "duration": 839,
    "start_time": "2021-10-04T17:45:29.803Z"
   },
   {
    "duration": 33771,
    "start_time": "2021-10-04T17:46:25.920Z"
   },
   {
    "duration": 27833,
    "start_time": "2021-10-04T17:47:07.829Z"
   },
   {
    "duration": 5,
    "start_time": "2021-10-04T17:47:35.664Z"
   },
   {
    "duration": 20669,
    "start_time": "2021-10-04T17:48:31.783Z"
   },
   {
    "duration": 204,
    "start_time": "2021-10-04T17:57:19.964Z"
   },
   {
    "duration": 5,
    "start_time": "2021-10-04T18:08:32.602Z"
   },
   {
    "duration": 14,
    "start_time": "2021-10-04T18:11:07.365Z"
   },
   {
    "duration": 10,
    "start_time": "2021-10-04T18:11:19.515Z"
   },
   {
    "duration": 22074,
    "start_time": "2021-10-04T18:11:58.459Z"
   },
   {
    "duration": 72,
    "start_time": "2021-10-04T18:12:20.535Z"
   },
   {
    "duration": 27625,
    "start_time": "2021-10-04T18:13:34.732Z"
   },
   {
    "duration": 64,
    "start_time": "2021-10-04T18:14:02.361Z"
   },
   {
    "duration": 15,
    "start_time": "2021-10-04T18:25:01.310Z"
   },
   {
    "duration": 1177,
    "start_time": "2021-10-05T06:11:26.106Z"
   },
   {
    "duration": 40,
    "start_time": "2021-10-05T06:11:27.285Z"
   },
   {
    "duration": 3,
    "start_time": "2021-10-05T06:11:27.327Z"
   },
   {
    "duration": 49,
    "start_time": "2021-10-05T06:11:27.332Z"
   },
   {
    "duration": 12,
    "start_time": "2021-10-05T06:11:27.585Z"
   },
   {
    "duration": 330,
    "start_time": "2021-10-05T06:41:37.323Z"
   },
   {
    "duration": 3,
    "start_time": "2021-10-05T06:41:47.301Z"
   },
   {
    "duration": 40,
    "start_time": "2021-10-05T06:41:47.721Z"
   },
   {
    "duration": 3,
    "start_time": "2021-10-05T06:41:48.027Z"
   },
   {
    "duration": 22,
    "start_time": "2021-10-05T06:41:48.172Z"
   },
   {
    "duration": 9,
    "start_time": "2021-10-05T06:41:48.295Z"
   },
   {
    "duration": 7,
    "start_time": "2021-10-05T06:41:48.437Z"
   },
   {
    "duration": 11,
    "start_time": "2021-10-05T06:41:48.576Z"
   },
   {
    "duration": 7,
    "start_time": "2021-10-05T06:41:48.720Z"
   },
   {
    "duration": 23,
    "start_time": "2021-10-05T06:41:48.865Z"
   },
   {
    "duration": 23,
    "start_time": "2021-10-05T06:45:58.820Z"
   },
   {
    "duration": 17,
    "start_time": "2021-10-05T06:50:33.081Z"
   },
   {
    "duration": 20,
    "start_time": "2021-10-05T06:50:40.908Z"
   },
   {
    "duration": 256,
    "start_time": "2021-10-05T06:50:50.411Z"
   },
   {
    "duration": 344,
    "start_time": "2021-10-05T06:51:00.717Z"
   },
   {
    "duration": 20,
    "start_time": "2021-10-05T06:51:05.401Z"
   },
   {
    "duration": 231,
    "start_time": "2021-10-05T06:51:30.379Z"
   },
   {
    "duration": 21,
    "start_time": "2021-10-05T06:51:35.708Z"
   },
   {
    "duration": 19,
    "start_time": "2021-10-05T06:51:40.264Z"
   },
   {
    "duration": 20,
    "start_time": "2021-10-05T06:51:48.110Z"
   },
   {
    "duration": 238,
    "start_time": "2021-10-05T06:53:10.920Z"
   },
   {
    "duration": 20,
    "start_time": "2021-10-05T06:53:36.920Z"
   },
   {
    "duration": 15,
    "start_time": "2021-10-05T06:55:06.009Z"
   },
   {
    "duration": 22,
    "start_time": "2021-10-05T06:55:16.078Z"
   },
   {
    "duration": 217,
    "start_time": "2021-10-05T07:02:55.543Z"
   },
   {
    "duration": 222,
    "start_time": "2021-10-05T07:04:54.872Z"
   },
   {
    "duration": 16,
    "start_time": "2021-10-05T07:08:03.697Z"
   },
   {
    "duration": 21,
    "start_time": "2021-10-05T07:08:07.140Z"
   },
   {
    "duration": 230,
    "start_time": "2021-10-05T07:08:20.147Z"
   },
   {
    "duration": 319,
    "start_time": "2021-10-05T07:08:28.523Z"
   },
   {
    "duration": 20,
    "start_time": "2021-10-05T07:08:36.321Z"
   },
   {
    "duration": 15,
    "start_time": "2021-10-05T07:12:32.518Z"
   },
   {
    "duration": -82,
    "start_time": "2021-10-05T07:12:59.570Z"
   },
   {
    "duration": -84,
    "start_time": "2021-10-05T07:12:59.573Z"
   },
   {
    "duration": 14,
    "start_time": "2021-10-05T07:13:02.923Z"
   },
   {
    "duration": 6,
    "start_time": "2021-10-05T07:13:03.403Z"
   },
   {
    "duration": 215,
    "start_time": "2021-10-05T07:13:10.740Z"
   },
   {
    "duration": 218,
    "start_time": "2021-10-05T07:13:15.886Z"
   },
   {
    "duration": 10,
    "start_time": "2021-10-05T07:13:22.886Z"
   },
   {
    "duration": 7,
    "start_time": "2021-10-05T07:13:27.653Z"
   },
   {
    "duration": 5,
    "start_time": "2021-10-05T07:13:31.280Z"
   },
   {
    "duration": 235,
    "start_time": "2021-10-05T07:13:57.362Z"
   },
   {
    "duration": 3217,
    "start_time": "2021-10-05T07:14:00.613Z"
   },
   {
    "duration": 9,
    "start_time": "2021-10-05T07:14:04.828Z"
   },
   {
    "duration": 4,
    "start_time": "2021-10-05T07:14:14.316Z"
   },
   {
    "duration": 5,
    "start_time": "2021-10-05T07:14:15.058Z"
   },
   {
    "duration": 9,
    "start_time": "2021-10-05T07:14:42.512Z"
   },
   {
    "duration": 93,
    "start_time": "2021-10-05T07:14:56.276Z"
   },
   {
    "duration": 71,
    "start_time": "2021-10-05T07:14:59.060Z"
   },
   {
    "duration": 9,
    "start_time": "2021-10-05T07:15:02.725Z"
   },
   {
    "duration": 22,
    "start_time": "2021-10-05T07:15:07.203Z"
   },
   {
    "duration": 1124,
    "start_time": "2021-10-05T07:16:48.652Z"
   },
   {
    "duration": 40,
    "start_time": "2021-10-05T07:16:49.778Z"
   },
   {
    "duration": 3,
    "start_time": "2021-10-05T07:16:49.820Z"
   },
   {
    "duration": 22,
    "start_time": "2021-10-05T07:16:49.825Z"
   },
   {
    "duration": 13,
    "start_time": "2021-10-05T07:16:49.849Z"
   },
   {
    "duration": 6,
    "start_time": "2021-10-05T07:16:49.863Z"
   },
   {
    "duration": 16,
    "start_time": "2021-10-05T07:16:49.870Z"
   },
   {
    "duration": 25,
    "start_time": "2021-10-05T07:16:49.888Z"
   },
   {
    "duration": 29,
    "start_time": "2021-10-05T07:16:49.916Z"
   },
   {
    "duration": 4,
    "start_time": "2021-10-05T07:16:49.947Z"
   },
   {
    "duration": 27,
    "start_time": "2021-10-05T07:16:49.952Z"
   },
   {
    "duration": 305,
    "start_time": "2021-10-05T07:17:34.131Z"
   },
   {
    "duration": 4,
    "start_time": "2021-10-05T07:17:44.784Z"
   },
   {
    "duration": 8,
    "start_time": "2021-10-05T07:17:56.803Z"
   },
   {
    "duration": 70,
    "start_time": "2021-10-05T07:18:02.611Z"
   },
   {
    "duration": 6,
    "start_time": "2021-10-05T07:18:10.849Z"
   },
   {
    "duration": 8,
    "start_time": "2021-10-05T07:18:25.852Z"
   },
   {
    "duration": 7,
    "start_time": "2021-10-05T07:18:30.172Z"
   },
   {
    "duration": 12,
    "start_time": "2021-10-05T07:18:58.961Z"
   },
   {
    "duration": 17,
    "start_time": "2021-10-05T07:19:01.817Z"
   },
   {
    "duration": 4,
    "start_time": "2021-10-05T07:19:13.896Z"
   },
   {
    "duration": 8,
    "start_time": "2021-10-05T07:19:22.406Z"
   },
   {
    "duration": -16,
    "start_time": "2021-10-05T07:19:37.476Z"
   },
   {
    "duration": 6276,
    "start_time": "2021-10-05T07:19:38.559Z"
   },
   {
    "duration": 11,
    "start_time": "2021-10-05T07:19:46.785Z"
   },
   {
    "duration": 10,
    "start_time": "2021-10-05T07:19:49.570Z"
   },
   {
    "duration": 8,
    "start_time": "2021-10-05T07:20:02.862Z"
   },
   {
    "duration": 6,
    "start_time": "2021-10-05T07:20:27.274Z"
   },
   {
    "duration": 17,
    "start_time": "2021-10-05T07:20:50.382Z"
   },
   {
    "duration": 14,
    "start_time": "2021-10-05T07:21:43.127Z"
   },
   {
    "duration": 13,
    "start_time": "2021-10-05T07:21:51.962Z"
   },
   {
    "duration": 9,
    "start_time": "2021-10-05T07:22:51.919Z"
   },
   {
    "duration": 10,
    "start_time": "2021-10-05T07:22:57.086Z"
   },
   {
    "duration": 74,
    "start_time": "2021-10-05T07:23:02.646Z"
   },
   {
    "duration": 9,
    "start_time": "2021-10-05T07:23:04.730Z"
   },
   {
    "duration": 9,
    "start_time": "2021-10-05T07:23:11.975Z"
   },
   {
    "duration": 247,
    "start_time": "2021-10-05T07:23:17.530Z"
   },
   {
    "duration": 29,
    "start_time": "2021-10-05T07:23:21.066Z"
   },
   {
    "duration": 17,
    "start_time": "2021-10-05T07:23:31.224Z"
   },
   {
    "duration": 28,
    "start_time": "2021-10-05T07:23:35.732Z"
   },
   {
    "duration": 27,
    "start_time": "2021-10-05T07:23:39.634Z"
   },
   {
    "duration": 18,
    "start_time": "2021-10-05T07:23:45.042Z"
   },
   {
    "duration": 9,
    "start_time": "2021-10-05T07:23:48.317Z"
   },
   {
    "duration": 242,
    "start_time": "2021-10-05T07:24:00.253Z"
   },
   {
    "duration": 9,
    "start_time": "2021-10-05T07:24:10.744Z"
   },
   {
    "duration": 18,
    "start_time": "2021-10-05T07:24:29.176Z"
   },
   {
    "duration": 7,
    "start_time": "2021-10-05T07:25:56.952Z"
   },
   {
    "duration": 13,
    "start_time": "2021-10-05T07:25:57.178Z"
   },
   {
    "duration": 4,
    "start_time": "2021-10-05T07:26:39.570Z"
   },
   {
    "duration": 218,
    "start_time": "2021-10-05T07:26:48.351Z"
   },
   {
    "duration": 233,
    "start_time": "2021-10-05T07:27:01.577Z"
   },
   {
    "duration": 5,
    "start_time": "2021-10-05T07:27:06.431Z"
   },
   {
    "duration": 223,
    "start_time": "2021-10-05T07:27:06.681Z"
   },
   {
    "duration": 12,
    "start_time": "2021-10-05T07:27:14.691Z"
   },
   {
    "duration": 17,
    "start_time": "2021-10-05T07:27:17.431Z"
   },
   {
    "duration": 20,
    "start_time": "2021-10-05T07:27:52.911Z"
   },
   {
    "duration": 212,
    "start_time": "2021-10-05T07:28:10.054Z"
   },
   {
    "duration": 10,
    "start_time": "2021-10-05T07:28:16.753Z"
   },
   {
    "duration": 19,
    "start_time": "2021-10-05T07:28:25.312Z"
   },
   {
    "duration": 16,
    "start_time": "2021-10-05T07:29:24.264Z"
   },
   {
    "duration": 8,
    "start_time": "2021-10-05T07:29:27.806Z"
   },
   {
    "duration": 24,
    "start_time": "2021-10-05T07:30:00.094Z"
   },
   {
    "duration": 5,
    "start_time": "2021-10-05T07:31:15.690Z"
   },
   {
    "duration": 218,
    "start_time": "2021-10-05T07:32:58.304Z"
   },
   {
    "duration": 69,
    "start_time": "2021-10-05T07:33:29.613Z"
   },
   {
    "duration": 221,
    "start_time": "2021-10-05T07:33:35.127Z"
   },
   {
    "duration": 224,
    "start_time": "2021-10-05T07:33:59.205Z"
   },
   {
    "duration": 156,
    "start_time": "2021-10-05T07:34:41.387Z"
   },
   {
    "duration": 72,
    "start_time": "2021-10-05T07:35:09.638Z"
   },
   {
    "duration": 89,
    "start_time": "2021-10-05T07:35:22.393Z"
   },
   {
    "duration": 315,
    "start_time": "2021-10-05T07:35:43.973Z"
   },
   {
    "duration": 245,
    "start_time": "2021-10-05T07:36:00.127Z"
   },
   {
    "duration": 216,
    "start_time": "2021-10-05T07:36:33.784Z"
   },
   {
    "duration": 1012,
    "start_time": "2021-10-05T07:37:16.042Z"
   },
   {
    "duration": 1174,
    "start_time": "2021-10-05T07:37:20.341Z"
   },
   {
    "duration": 1111,
    "start_time": "2021-10-05T07:37:36.416Z"
   },
   {
    "duration": 1113,
    "start_time": "2021-10-05T07:37:40.135Z"
   },
   {
    "duration": 19,
    "start_time": "2021-10-05T07:41:37.489Z"
   },
   {
    "duration": 334,
    "start_time": "2021-10-05T07:42:09.025Z"
   },
   {
    "duration": 232,
    "start_time": "2021-10-05T07:42:30.160Z"
   },
   {
    "duration": 275,
    "start_time": "2021-10-05T07:42:39.114Z"
   },
   {
    "duration": 497,
    "start_time": "2021-10-05T07:43:48.608Z"
   },
   {
    "duration": 234,
    "start_time": "2021-10-05T07:45:25.578Z"
   },
   {
    "duration": 7,
    "start_time": "2021-10-05T07:46:28.988Z"
   },
   {
    "duration": 9,
    "start_time": "2021-10-05T07:46:34.680Z"
   },
   {
    "duration": 7,
    "start_time": "2021-10-05T07:46:44.449Z"
   },
   {
    "duration": 7,
    "start_time": "2021-10-05T07:46:52.213Z"
   },
   {
    "duration": 11,
    "start_time": "2021-10-05T07:47:22.603Z"
   },
   {
    "duration": 7,
    "start_time": "2021-10-05T07:47:26.326Z"
   },
   {
    "duration": 8,
    "start_time": "2021-10-05T07:47:32.528Z"
   },
   {
    "duration": 10,
    "start_time": "2021-10-05T07:47:35.550Z"
   },
   {
    "duration": 11,
    "start_time": "2021-10-05T07:47:42.962Z"
   },
   {
    "duration": 13,
    "start_time": "2021-10-05T07:47:46.254Z"
   },
   {
    "duration": 13,
    "start_time": "2021-10-05T07:47:50.836Z"
   },
   {
    "duration": 11,
    "start_time": "2021-10-05T07:48:04.049Z"
   },
   {
    "duration": 249,
    "start_time": "2021-10-05T07:48:24.656Z"
   },
   {
    "duration": 1387,
    "start_time": "2021-10-05T07:56:37.342Z"
   },
   {
    "duration": 13,
    "start_time": "2021-10-05T07:56:53.977Z"
   },
   {
    "duration": 1455,
    "start_time": "2021-10-05T07:57:07.022Z"
   },
   {
    "duration": 39,
    "start_time": "2021-10-05T07:57:08.479Z"
   },
   {
    "duration": 3,
    "start_time": "2021-10-05T07:57:08.522Z"
   },
   {
    "duration": 26,
    "start_time": "2021-10-05T07:57:08.527Z"
   },
   {
    "duration": 9,
    "start_time": "2021-10-05T07:57:08.555Z"
   },
   {
    "duration": 11,
    "start_time": "2021-10-05T07:57:08.566Z"
   },
   {
    "duration": 10,
    "start_time": "2021-10-05T07:57:08.579Z"
   },
   {
    "duration": 287,
    "start_time": "2021-10-05T07:57:08.591Z"
   },
   {
    "duration": 3,
    "start_time": "2021-10-05T07:57:08.877Z"
   },
   {
    "duration": 3,
    "start_time": "2021-10-05T07:57:08.878Z"
   },
   {
    "duration": 9,
    "start_time": "2021-10-05T07:57:12.563Z"
   },
   {
    "duration": 55780,
    "start_time": "2021-10-05T07:57:12.779Z"
   },
   {
    "duration": 10,
    "start_time": "2021-10-05T07:58:18.738Z"
   },
   {
    "duration": 20,
    "start_time": "2021-10-05T07:58:43.020Z"
   },
   {
    "duration": 76,
    "start_time": "2021-10-05T07:59:17.037Z"
   },
   {
    "duration": 5,
    "start_time": "2021-10-05T07:59:20.200Z"
   },
   {
    "duration": 5,
    "start_time": "2021-10-05T08:45:27.511Z"
   },
   {
    "duration": 9,
    "start_time": "2021-10-05T08:45:35.772Z"
   },
   {
    "duration": 241,
    "start_time": "2021-10-05T08:46:31.037Z"
   },
   {
    "duration": 9,
    "start_time": "2021-10-05T08:46:34.398Z"
   },
   {
    "duration": 3,
    "start_time": "2021-10-05T08:46:37.570Z"
   },
   {
    "duration": 3151,
    "start_time": "2021-10-05T08:46:45.425Z"
   },
   {
    "duration": 9,
    "start_time": "2021-10-05T08:46:48.578Z"
   },
   {
    "duration": 286,
    "start_time": "2021-10-05T08:47:27.202Z"
   },
   {
    "duration": 62,
    "start_time": "2021-10-05T08:47:58.569Z"
   },
   {
    "duration": 61,
    "start_time": "2021-10-05T08:48:58.759Z"
   },
   {
    "duration": 9,
    "start_time": "2021-10-05T08:48:59.081Z"
   },
   {
    "duration": 6,
    "start_time": "2021-10-05T08:48:59.249Z"
   },
   {
    "duration": 9,
    "start_time": "2021-10-05T08:48:59.718Z"
   },
   {
    "duration": 56504,
    "start_time": "2021-10-05T08:49:00.540Z"
   },
   {
    "duration": 8,
    "start_time": "2021-10-05T08:49:57.046Z"
   },
   {
    "duration": 39,
    "start_time": "2021-10-05T08:49:57.056Z"
   },
   {
    "duration": 18,
    "start_time": "2021-10-05T08:49:57.097Z"
   },
   {
    "duration": 10,
    "start_time": "2021-10-05T08:50:05.669Z"
   },
   {
    "duration": 2,
    "start_time": "2021-10-05T08:50:15.285Z"
   },
   {
    "duration": 57832,
    "start_time": "2021-10-05T08:50:43.125Z"
   },
   {
    "duration": 10,
    "start_time": "2021-10-05T09:36:12.669Z"
   },
   {
    "duration": 19,
    "start_time": "2021-10-05T09:36:24.378Z"
   },
   {
    "duration": 178,
    "start_time": "2021-10-05T09:37:11.932Z"
   },
   {
    "duration": 5,
    "start_time": "2021-10-05T09:37:21.210Z"
   },
   {
    "duration": 5,
    "start_time": "2021-10-05T09:37:31.668Z"
   },
   {
    "duration": 248,
    "start_time": "2021-10-05T09:37:42.359Z"
   },
   {
    "duration": 1152,
    "start_time": "2021-10-05T09:38:07.615Z"
   },
   {
    "duration": 68,
    "start_time": "2021-10-05T09:38:08.769Z"
   },
   {
    "duration": 2,
    "start_time": "2021-10-05T09:38:08.839Z"
   },
   {
    "duration": 10,
    "start_time": "2021-10-05T09:38:08.844Z"
   },
   {
    "duration": 13,
    "start_time": "2021-10-05T09:38:08.856Z"
   },
   {
    "duration": 54914,
    "start_time": "2021-10-05T09:38:08.871Z"
   },
   {
    "duration": 4,
    "start_time": "2021-10-05T09:39:03.787Z"
   },
   {
    "duration": 22,
    "start_time": "2021-10-05T09:39:03.793Z"
   },
   {
    "duration": 3794,
    "start_time": "2021-10-05T09:39:03.816Z"
   },
   {
    "duration": 3,
    "start_time": "2021-10-05T09:39:07.612Z"
   },
   {
    "duration": 11,
    "start_time": "2021-10-05T09:39:55.936Z"
   },
   {
    "duration": 13,
    "start_time": "2021-10-05T09:40:21.204Z"
   },
   {
    "duration": 5,
    "start_time": "2021-10-05T09:40:40.320Z"
   },
   {
    "duration": 7,
    "start_time": "2021-10-05T09:40:46.504Z"
   },
   {
    "duration": 3,
    "start_time": "2021-10-05T09:43:50.464Z"
   },
   {
    "duration": 66,
    "start_time": "2021-10-05T09:43:50.751Z"
   },
   {
    "duration": 8,
    "start_time": "2021-10-05T09:44:01.258Z"
   },
   {
    "duration": 65,
    "start_time": "2021-10-05T09:44:07.084Z"
   },
   {
    "duration": 3,
    "start_time": "2021-10-05T09:44:07.386Z"
   },
   {
    "duration": 6,
    "start_time": "2021-10-05T09:44:07.561Z"
   },
   {
    "duration": 10,
    "start_time": "2021-10-05T09:44:07.732Z"
   },
   {
    "duration": 56950,
    "start_time": "2021-10-05T09:44:08.075Z"
   },
   {
    "duration": 4,
    "start_time": "2021-10-05T09:45:05.028Z"
   },
   {
    "duration": 14,
    "start_time": "2021-10-05T09:45:05.034Z"
   },
   {
    "duration": 27,
    "start_time": "2021-10-05T09:45:05.049Z"
   },
   {
    "duration": 3731,
    "start_time": "2021-10-05T09:45:05.077Z"
   },
   {
    "duration": 14,
    "start_time": "2021-10-05T09:45:08.810Z"
   },
   {
    "duration": 6,
    "start_time": "2021-10-05T09:45:17.297Z"
   },
   {
    "duration": 7,
    "start_time": "2021-10-05T09:45:22.389Z"
   },
   {
    "duration": 18,
    "start_time": "2021-10-05T09:46:11.667Z"
   },
   {
    "duration": 7,
    "start_time": "2021-10-05T09:46:23.891Z"
   },
   {
    "duration": 30,
    "start_time": "2021-10-05T09:46:42.040Z"
   },
   {
    "duration": 4,
    "start_time": "2021-10-05T09:46:51.391Z"
   },
   {
    "duration": 13,
    "start_time": "2021-10-05T09:46:55.104Z"
   },
   {
    "duration": 21,
    "start_time": "2021-10-05T09:47:15.715Z"
   },
   {
    "duration": 5,
    "start_time": "2021-10-05T09:58:11.096Z"
   },
   {
    "duration": 18,
    "start_time": "2021-10-05T09:58:19.902Z"
   },
   {
    "duration": 7,
    "start_time": "2021-10-05T09:59:08.585Z"
   },
   {
    "duration": 83,
    "start_time": "2021-10-05T09:59:14.429Z"
   },
   {
    "duration": 19,
    "start_time": "2021-10-05T09:59:16.324Z"
   },
   {
    "duration": 8,
    "start_time": "2021-10-05T09:59:22.118Z"
   },
   {
    "duration": 3,
    "start_time": "2021-10-05T09:59:28.716Z"
   },
   {
    "duration": 18,
    "start_time": "2021-10-05T09:59:32.283Z"
   },
   {
    "duration": 84,
    "start_time": "2021-10-05T10:13:31.461Z"
   },
   {
    "duration": 7,
    "start_time": "2021-10-05T10:13:54.886Z"
   },
   {
    "duration": 5,
    "start_time": "2021-10-05T10:13:57.643Z"
   },
   {
    "duration": 19,
    "start_time": "2021-10-05T10:14:00.080Z"
   },
   {
    "duration": 26,
    "start_time": "2021-10-05T10:24:08.826Z"
   },
   {
    "duration": 30,
    "start_time": "2021-10-05T10:27:22.365Z"
   },
   {
    "duration": 21,
    "start_time": "2021-10-05T10:27:45.076Z"
   },
   {
    "duration": 31,
    "start_time": "2021-10-05T10:27:49.459Z"
   },
   {
    "duration": 448,
    "start_time": "2021-10-05T10:31:31.702Z"
   },
   {
    "duration": 18,
    "start_time": "2021-10-05T10:31:34.412Z"
   },
   {
    "duration": 6,
    "start_time": "2021-10-05T10:32:30.162Z"
   },
   {
    "duration": 6,
    "start_time": "2021-10-05T10:32:36.038Z"
   },
   {
    "duration": 5,
    "start_time": "2021-10-05T10:32:46.120Z"
   },
   {
    "duration": 5,
    "start_time": "2021-10-05T10:32:58.782Z"
   },
   {
    "duration": 12,
    "start_time": "2021-10-05T10:33:06.040Z"
   },
   {
    "duration": 6,
    "start_time": "2021-10-05T10:34:30.036Z"
   },
   {
    "duration": 87,
    "start_time": "2021-10-05T10:34:41.270Z"
   },
   {
    "duration": 19,
    "start_time": "2021-10-05T10:34:43.804Z"
   },
   {
    "duration": 6,
    "start_time": "2021-10-05T10:35:41.508Z"
   },
   {
    "duration": 17,
    "start_time": "2021-10-05T10:35:48.988Z"
   },
   {
    "duration": 23,
    "start_time": "2021-10-05T10:36:54.502Z"
   },
   {
    "duration": 6,
    "start_time": "2021-10-05T10:37:51.251Z"
   },
   {
    "duration": 5,
    "start_time": "2021-10-05T10:38:56.568Z"
   },
   {
    "duration": 337,
    "start_time": "2021-10-05T10:39:20.883Z"
   },
   {
    "duration": 6,
    "start_time": "2021-10-05T10:39:28.188Z"
   },
   {
    "duration": 19,
    "start_time": "2021-10-05T10:39:31.643Z"
   },
   {
    "duration": 7,
    "start_time": "2021-10-05T10:39:45.132Z"
   },
   {
    "duration": 71,
    "start_time": "2021-10-05T10:39:49.281Z"
   },
   {
    "duration": 4,
    "start_time": "2021-10-05T10:39:52.518Z"
   },
   {
    "duration": 7,
    "start_time": "2021-10-05T10:41:03.247Z"
   },
   {
    "duration": 7,
    "start_time": "2021-10-05T10:41:09.036Z"
   },
   {
    "duration": 7,
    "start_time": "2021-10-05T10:41:13.706Z"
   },
   {
    "duration": 249,
    "start_time": "2021-10-05T10:41:21.885Z"
   },
   {
    "duration": 7,
    "start_time": "2021-10-05T10:41:27.581Z"
   },
   {
    "duration": 7,
    "start_time": "2021-10-05T10:41:35.510Z"
   },
   {
    "duration": 18,
    "start_time": "2021-10-05T10:41:58.459Z"
   },
   {
    "duration": 9,
    "start_time": "2021-10-05T10:42:58.574Z"
   },
   {
    "duration": 23,
    "start_time": "2021-10-05T10:43:00.883Z"
   },
   {
    "duration": 21,
    "start_time": "2021-10-05T10:43:19.909Z"
   },
   {
    "duration": 11,
    "start_time": "2021-10-05T10:43:55.410Z"
   },
   {
    "duration": 5,
    "start_time": "2021-10-05T10:43:59.456Z"
   },
   {
    "duration": 20,
    "start_time": "2021-10-05T10:44:23.221Z"
   },
   {
    "duration": 18,
    "start_time": "2021-10-05T10:44:31.892Z"
   },
   {
    "duration": 20,
    "start_time": "2021-10-05T10:44:34.455Z"
   },
   {
    "duration": 19,
    "start_time": "2021-10-05T10:44:45.640Z"
   },
   {
    "duration": -110,
    "start_time": "2021-10-05T10:44:56.374Z"
   },
   {
    "duration": 19,
    "start_time": "2021-10-05T10:44:58.790Z"
   },
   {
    "duration": 20,
    "start_time": "2021-10-05T10:45:22.955Z"
   },
   {
    "duration": 22,
    "start_time": "2021-10-05T10:45:34.055Z"
   },
   {
    "duration": 22,
    "start_time": "2021-10-05T10:45:38.998Z"
   },
   {
    "duration": 20,
    "start_time": "2021-10-05T10:45:44.498Z"
   },
   {
    "duration": 20,
    "start_time": "2021-10-05T10:45:56.932Z"
   },
   {
    "duration": 19,
    "start_time": "2021-10-05T10:46:08.377Z"
   },
   {
    "duration": 20,
    "start_time": "2021-10-05T10:46:32.934Z"
   },
   {
    "duration": 20,
    "start_time": "2021-10-05T10:46:42.098Z"
   },
   {
    "duration": 18,
    "start_time": "2021-10-05T10:46:53.350Z"
   },
   {
    "duration": 19,
    "start_time": "2021-10-05T10:47:03.265Z"
   },
   {
    "duration": 18,
    "start_time": "2021-10-05T10:47:11.201Z"
   },
   {
    "duration": 19,
    "start_time": "2021-10-05T10:47:14.454Z"
   },
   {
    "duration": 26,
    "start_time": "2021-10-05T10:47:19.379Z"
   },
   {
    "duration": 20,
    "start_time": "2021-10-05T10:47:28.791Z"
   },
   {
    "duration": 231,
    "start_time": "2021-10-05T10:47:56.784Z"
   },
   {
    "duration": 251,
    "start_time": "2021-10-05T10:48:01.002Z"
   },
   {
    "duration": 229,
    "start_time": "2021-10-05T10:48:04.375Z"
   },
   {
    "duration": 535,
    "start_time": "2021-10-05T10:48:06.854Z"
   },
   {
    "duration": 230,
    "start_time": "2021-10-05T10:48:09.871Z"
   },
   {
    "duration": 9,
    "start_time": "2021-10-05T10:48:12.568Z"
   },
   {
    "duration": 13,
    "start_time": "2021-10-05T10:48:15.233Z"
   },
   {
    "duration": 1135,
    "start_time": "2021-10-05T10:48:27.945Z"
   },
   {
    "duration": 68,
    "start_time": "2021-10-05T10:48:29.082Z"
   },
   {
    "duration": 2,
    "start_time": "2021-10-05T10:48:29.152Z"
   },
   {
    "duration": 23,
    "start_time": "2021-10-05T10:48:29.156Z"
   },
   {
    "duration": 19,
    "start_time": "2021-10-05T10:48:29.181Z"
   },
   {
    "duration": 57064,
    "start_time": "2021-10-05T10:48:29.201Z"
   },
   {
    "duration": 5,
    "start_time": "2021-10-05T10:49:26.267Z"
   },
   {
    "duration": 21,
    "start_time": "2021-10-05T10:49:26.274Z"
   },
   {
    "duration": 30,
    "start_time": "2021-10-05T10:49:26.296Z"
   },
   {
    "duration": 9,
    "start_time": "2021-10-05T10:49:26.328Z"
   },
   {
    "duration": 349,
    "start_time": "2021-10-05T10:50:20.921Z"
   },
   {
    "duration": 8,
    "start_time": "2021-10-05T10:50:25.650Z"
   },
   {
    "duration": 11,
    "start_time": "2021-10-05T10:50:35.125Z"
   },
   {
    "duration": 229,
    "start_time": "2021-10-05T10:50:55.060Z"
   },
   {
    "duration": 3,
    "start_time": "2021-10-05T10:51:13.260Z"
   },
   {
    "duration": 5,
    "start_time": "2021-10-05T10:51:23.509Z"
   },
   {
    "duration": 13,
    "start_time": "2021-10-05T10:51:34.792Z"
   },
   {
    "duration": 10,
    "start_time": "2021-10-05T10:51:52.008Z"
   },
   {
    "duration": 177,
    "start_time": "2021-10-05T10:52:04.439Z"
   },
   {
    "duration": 9,
    "start_time": "2021-10-05T10:52:15.698Z"
   },
   {
    "duration": 13,
    "start_time": "2021-10-05T10:52:21.604Z"
   },
   {
    "duration": 13,
    "start_time": "2021-10-05T10:52:35.111Z"
   },
   {
    "duration": 12,
    "start_time": "2021-10-05T10:52:51.609Z"
   },
   {
    "duration": 486,
    "start_time": "2021-10-05T10:53:04.392Z"
   },
   {
    "duration": 427,
    "start_time": "2021-10-05T10:53:08.472Z"
   },
   {
    "duration": 238,
    "start_time": "2021-10-05T10:53:20.025Z"
   },
   {
    "duration": 535,
    "start_time": "2021-10-05T10:53:23.883Z"
   },
   {
    "duration": 233,
    "start_time": "2021-10-05T10:53:32.360Z"
   },
   {
    "duration": 283,
    "start_time": "2021-10-05T10:53:44.172Z"
   },
   {
    "duration": 9,
    "start_time": "2021-10-05T10:53:48.925Z"
   },
   {
    "duration": 222,
    "start_time": "2021-10-05T10:53:49.967Z"
   },
   {
    "duration": 7,
    "start_time": "2021-10-05T10:53:52.978Z"
   },
   {
    "duration": 194,
    "start_time": "2021-10-05T10:53:57.144Z"
   },
   {
    "duration": 466,
    "start_time": "2021-10-05T10:54:11.984Z"
   },
   {
    "duration": 173,
    "start_time": "2021-10-05T10:54:18.878Z"
   },
   {
    "duration": 9,
    "start_time": "2021-10-05T10:54:29.403Z"
   },
   {
    "duration": 161,
    "start_time": "2021-10-05T10:55:30.166Z"
   },
   {
    "duration": 313,
    "start_time": "2021-10-05T10:55:36.715Z"
   },
   {
    "duration": 227,
    "start_time": "2021-10-05T10:55:57.752Z"
   },
   {
    "duration": 217,
    "start_time": "2021-10-05T10:56:08.777Z"
   },
   {
    "duration": 214,
    "start_time": "2021-10-05T10:56:13.790Z"
   },
   {
    "duration": 242,
    "start_time": "2021-10-05T10:57:19.489Z"
   },
   {
    "duration": 357,
    "start_time": "2021-10-05T10:57:32.653Z"
   },
   {
    "duration": 8,
    "start_time": "2021-10-05T10:57:42.204Z"
   },
   {
    "duration": 245,
    "start_time": "2021-10-05T10:57:54.392Z"
   },
   {
    "duration": 313,
    "start_time": "2021-10-05T10:58:00.401Z"
   },
   {
    "duration": 502,
    "start_time": "2021-10-05T10:58:52.509Z"
   },
   {
    "duration": 509,
    "start_time": "2021-10-05T10:59:37.802Z"
   },
   {
    "duration": 517,
    "start_time": "2021-10-05T11:00:05.706Z"
   },
   {
    "duration": 237,
    "start_time": "2021-10-05T11:00:11.422Z"
   },
   {
    "duration": 374,
    "start_time": "2021-10-05T11:00:35.054Z"
   },
   {
    "duration": 396,
    "start_time": "2021-10-05T11:00:46.156Z"
   },
   {
    "duration": 463,
    "start_time": "2021-10-05T11:02:10.030Z"
   },
   {
    "duration": 367,
    "start_time": "2021-10-05T11:03:03.996Z"
   },
   {
    "duration": 381,
    "start_time": "2021-10-05T11:03:22.527Z"
   },
   {
    "duration": 409,
    "start_time": "2021-10-05T11:03:24.583Z"
   },
   {
    "duration": 368,
    "start_time": "2021-10-05T11:03:37.825Z"
   },
   {
    "duration": 299,
    "start_time": "2021-10-05T11:03:40.810Z"
   },
   {
    "duration": 464,
    "start_time": "2021-10-05T11:03:43.400Z"
   },
   {
    "duration": 385,
    "start_time": "2021-10-05T11:03:51.150Z"
   },
   {
    "duration": 301,
    "start_time": "2021-10-05T11:03:57.862Z"
   },
   {
    "duration": 316,
    "start_time": "2021-10-05T11:04:01.418Z"
   },
   {
    "duration": 538,
    "start_time": "2021-10-05T11:05:01.108Z"
   },
   {
    "duration": 4,
    "start_time": "2021-10-05T11:05:25.571Z"
   },
   {
    "duration": 329,
    "start_time": "2021-10-05T11:05:28.924Z"
   },
   {
    "duration": 310,
    "start_time": "2021-10-05T11:05:35.324Z"
   },
   {
    "duration": 431,
    "start_time": "2021-10-05T11:05:38.256Z"
   },
   {
    "duration": 523,
    "start_time": "2021-10-05T11:06:07.307Z"
   },
   {
    "duration": 343,
    "start_time": "2021-10-05T11:07:09.855Z"
   },
   {
    "duration": 77,
    "start_time": "2021-10-05T11:07:22.760Z"
   },
   {
    "duration": 336,
    "start_time": "2021-10-05T11:07:27.300Z"
   },
   {
    "duration": 337,
    "start_time": "2021-10-05T11:08:04.869Z"
   },
   {
    "duration": 346,
    "start_time": "2021-10-05T11:08:10.575Z"
   },
   {
    "duration": 20,
    "start_time": "2021-10-05T11:43:58.377Z"
   },
   {
    "duration": 8,
    "start_time": "2021-10-05T11:44:17.578Z"
   },
   {
    "duration": 237,
    "start_time": "2021-10-05T11:44:29.080Z"
   },
   {
    "duration": 9,
    "start_time": "2021-10-05T11:44:32.942Z"
   },
   {
    "duration": 8,
    "start_time": "2021-10-05T11:44:37.415Z"
   },
   {
    "duration": 267,
    "start_time": "2021-10-05T11:46:46.132Z"
   },
   {
    "duration": 9,
    "start_time": "2021-10-05T11:47:02.144Z"
   },
   {
    "duration": 263,
    "start_time": "2021-10-05T11:47:59.919Z"
   },
   {
    "duration": 231,
    "start_time": "2021-10-05T11:48:04.728Z"
   },
   {
    "duration": 121,
    "start_time": "2021-10-05T11:48:12.835Z"
   },
   {
    "duration": 685,
    "start_time": "2021-10-05T11:48:48.412Z"
   },
   {
    "duration": 252,
    "start_time": "2021-10-05T11:48:56.211Z"
   },
   {
    "duration": 1162,
    "start_time": "2021-10-05T11:49:00.009Z"
   },
   {
    "duration": 10,
    "start_time": "2021-10-05T11:49:13.862Z"
   },
   {
    "duration": 449,
    "start_time": "2021-10-05T11:49:19.810Z"
   },
   {
    "duration": 435,
    "start_time": "2021-10-05T11:49:29.915Z"
   },
   {
    "duration": 257,
    "start_time": "2021-10-05T11:49:45.498Z"
   },
   {
    "duration": 276,
    "start_time": "2021-10-05T11:50:05.929Z"
   },
   {
    "duration": 441,
    "start_time": "2021-10-05T11:50:18.418Z"
   },
   {
    "duration": 386,
    "start_time": "2021-10-05T11:50:37.741Z"
   },
   {
    "duration": 248,
    "start_time": "2021-10-05T11:50:48.496Z"
   },
   {
    "duration": 223,
    "start_time": "2021-10-05T11:50:56.919Z"
   },
   {
    "duration": 14,
    "start_time": "2021-10-05T11:51:05.646Z"
   },
   {
    "duration": 225,
    "start_time": "2021-10-05T11:51:18.283Z"
   },
   {
    "duration": 576,
    "start_time": "2021-10-05T11:52:08.247Z"
   },
   {
    "duration": 484,
    "start_time": "2021-10-05T11:52:26.963Z"
   },
   {
    "duration": 548,
    "start_time": "2021-10-05T11:52:59.553Z"
   },
   {
    "duration": 458,
    "start_time": "2021-10-05T11:54:35.698Z"
   },
   {
    "duration": 746,
    "start_time": "2021-10-05T11:54:39.960Z"
   },
   {
    "duration": 688,
    "start_time": "2021-10-05T11:54:45.473Z"
   },
   {
    "duration": 688,
    "start_time": "2021-10-05T11:54:56.289Z"
   },
   {
    "duration": 566,
    "start_time": "2021-10-05T11:55:43.178Z"
   },
   {
    "duration": 474,
    "start_time": "2021-10-05T11:56:07.305Z"
   },
   {
    "duration": 359,
    "start_time": "2021-10-05T11:56:18.672Z"
   },
   {
    "duration": 252,
    "start_time": "2021-10-05T11:56:58.427Z"
   },
   {
    "duration": 510,
    "start_time": "2021-10-05T11:57:06.244Z"
   },
   {
    "duration": 228,
    "start_time": "2021-10-05T11:57:08.262Z"
   },
   {
    "duration": 8,
    "start_time": "2021-10-05T11:57:24.128Z"
   },
   {
    "duration": 331,
    "start_time": "2021-10-05T11:57:28.413Z"
   },
   {
    "duration": 329,
    "start_time": "2021-10-05T11:57:43.794Z"
   },
   {
    "duration": 262,
    "start_time": "2021-10-05T11:57:50.895Z"
   },
   {
    "duration": 8,
    "start_time": "2021-10-05T11:58:36.898Z"
   },
   {
    "duration": 14,
    "start_time": "2021-10-05T11:58:48.766Z"
   },
   {
    "duration": 261,
    "start_time": "2021-10-05T11:58:54.847Z"
   },
   {
    "duration": 8,
    "start_time": "2021-10-05T11:59:00.292Z"
   },
   {
    "duration": 338,
    "start_time": "2021-10-05T11:59:08.790Z"
   },
   {
    "duration": 213,
    "start_time": "2021-10-05T12:00:38.450Z"
   },
   {
    "duration": 235,
    "start_time": "2021-10-05T12:00:45.757Z"
   },
   {
    "duration": 291,
    "start_time": "2021-10-05T12:00:53.501Z"
   },
   {
    "duration": 226,
    "start_time": "2021-10-05T12:01:26.577Z"
   },
   {
    "duration": 7,
    "start_time": "2021-10-05T12:01:30.639Z"
   },
   {
    "duration": 227,
    "start_time": "2021-10-05T12:02:17.410Z"
   },
   {
    "duration": 409,
    "start_time": "2021-10-05T12:02:27.313Z"
   },
   {
    "duration": 8,
    "start_time": "2021-10-05T12:02:38.666Z"
   },
   {
    "duration": 307,
    "start_time": "2021-10-05T12:02:44.108Z"
   },
   {
    "duration": 302,
    "start_time": "2021-10-05T12:03:45.511Z"
   },
   {
    "duration": 246,
    "start_time": "2021-10-05T12:04:11.438Z"
   },
   {
    "duration": 292,
    "start_time": "2021-10-05T12:04:14.173Z"
   },
   {
    "duration": 266,
    "start_time": "2021-10-05T12:05:13.714Z"
   },
   {
    "duration": 398,
    "start_time": "2021-10-05T12:05:22.162Z"
   },
   {
    "duration": 348,
    "start_time": "2021-10-05T12:05:29.698Z"
   },
   {
    "duration": 353,
    "start_time": "2021-10-05T12:05:57.937Z"
   },
   {
    "duration": 292,
    "start_time": "2021-10-05T12:07:08.277Z"
   },
   {
    "duration": 8,
    "start_time": "2021-10-05T12:07:17.505Z"
   },
   {
    "duration": 7,
    "start_time": "2021-10-05T12:07:29.018Z"
   },
   {
    "duration": 268,
    "start_time": "2021-10-05T12:07:33.358Z"
   },
   {
    "duration": 11,
    "start_time": "2021-10-05T12:07:39.069Z"
   },
   {
    "duration": 93,
    "start_time": "2021-10-05T12:07:43.798Z"
   },
   {
    "duration": 355,
    "start_time": "2021-10-05T12:07:45.693Z"
   },
   {
    "duration": 486,
    "start_time": "2021-10-05T12:07:56.696Z"
   },
   {
    "duration": 371,
    "start_time": "2021-10-05T12:08:04.422Z"
   },
   {
    "duration": 318,
    "start_time": "2021-10-05T12:16:13.966Z"
   },
   {
    "duration": 289,
    "start_time": "2021-10-05T12:16:20.836Z"
   },
   {
    "duration": 302,
    "start_time": "2021-10-05T12:16:28.344Z"
   },
   {
    "duration": 310,
    "start_time": "2021-10-05T12:16:31.937Z"
   },
   {
    "duration": 6,
    "start_time": "2021-10-05T12:16:43.296Z"
   },
   {
    "duration": 374,
    "start_time": "2021-10-05T12:16:44.165Z"
   },
   {
    "duration": 437,
    "start_time": "2021-10-05T12:16:58.834Z"
   },
   {
    "duration": 304,
    "start_time": "2021-10-05T12:17:02.134Z"
   },
   {
    "duration": 320,
    "start_time": "2021-10-05T12:17:04.551Z"
   },
   {
    "duration": 311,
    "start_time": "2021-10-05T12:17:07.206Z"
   },
   {
    "duration": 797,
    "start_time": "2021-10-05T12:18:14.747Z"
   },
   {
    "duration": 21,
    "start_time": "2021-10-05T12:18:21.673Z"
   },
   {
    "duration": 256,
    "start_time": "2021-10-05T12:18:58.593Z"
   },
   {
    "duration": 14,
    "start_time": "2021-10-05T12:19:11.507Z"
   },
   {
    "duration": 246,
    "start_time": "2021-10-05T12:19:22.190Z"
   },
   {
    "duration": 233,
    "start_time": "2021-10-05T12:19:27.480Z"
   },
   {
    "duration": 901,
    "start_time": "2021-10-05T12:19:53.382Z"
   },
   {
    "duration": 208,
    "start_time": "2021-10-05T12:20:05.197Z"
   },
   {
    "duration": 186,
    "start_time": "2021-10-05T12:20:18.360Z"
   },
   {
    "duration": 946,
    "start_time": "2021-10-05T12:20:40.216Z"
   },
   {
    "duration": 1116,
    "start_time": "2021-10-05T12:20:51.740Z"
   },
   {
    "duration": 804,
    "start_time": "2021-10-05T12:21:00.866Z"
   },
   {
    "duration": 809,
    "start_time": "2021-10-05T12:21:09.536Z"
   },
   {
    "duration": 640,
    "start_time": "2021-10-05T12:22:18.310Z"
   },
   {
    "duration": 720,
    "start_time": "2021-10-05T12:22:27.013Z"
   },
   {
    "duration": 617,
    "start_time": "2021-10-05T12:22:36.727Z"
   },
   {
    "duration": 575,
    "start_time": "2021-10-05T12:23:09.149Z"
   },
   {
    "duration": 482,
    "start_time": "2021-10-05T12:23:21.243Z"
   },
   {
    "duration": 938,
    "start_time": "2021-10-05T12:23:34.366Z"
   },
   {
    "duration": 447,
    "start_time": "2021-10-05T12:24:12.375Z"
   },
   {
    "duration": 454,
    "start_time": "2021-10-05T12:25:20.149Z"
   },
   {
    "duration": 621,
    "start_time": "2021-10-05T12:25:27.130Z"
   },
   {
    "duration": 439,
    "start_time": "2021-10-05T12:25:54.842Z"
   },
   {
    "duration": 473,
    "start_time": "2021-10-05T12:26:07.825Z"
   },
   {
    "duration": 442,
    "start_time": "2021-10-05T12:26:48.066Z"
   },
   {
    "duration": 593,
    "start_time": "2021-10-05T12:27:49.373Z"
   },
   {
    "duration": 434,
    "start_time": "2021-10-05T12:27:53.353Z"
   },
   {
    "duration": 448,
    "start_time": "2021-10-05T12:28:18.244Z"
   },
   {
    "duration": 457,
    "start_time": "2021-10-05T12:28:24.299Z"
   },
   {
    "duration": 454,
    "start_time": "2021-10-05T12:28:35.848Z"
   },
   {
    "duration": 718,
    "start_time": "2021-10-05T12:28:45.536Z"
   },
   {
    "duration": 499,
    "start_time": "2021-10-05T12:29:07.826Z"
   },
   {
    "duration": 509,
    "start_time": "2021-10-05T12:29:13.127Z"
   },
   {
    "duration": 506,
    "start_time": "2021-10-05T12:29:16.625Z"
   },
   {
    "duration": 559,
    "start_time": "2021-10-05T12:29:54.593Z"
   },
   {
    "duration": 478,
    "start_time": "2021-10-05T12:30:10.618Z"
   },
   {
    "duration": 513,
    "start_time": "2021-10-05T12:30:18.769Z"
   },
   {
    "duration": 473,
    "start_time": "2021-10-05T12:30:25.300Z"
   },
   {
    "duration": 496,
    "start_time": "2021-10-05T12:30:29.198Z"
   },
   {
    "duration": 479,
    "start_time": "2021-10-05T12:30:56.167Z"
   },
   {
    "duration": 886,
    "start_time": "2021-10-05T12:31:00.016Z"
   },
   {
    "duration": 480,
    "start_time": "2021-10-05T12:31:10.884Z"
   },
   {
    "duration": 382,
    "start_time": "2021-10-05T12:32:43.703Z"
   },
   {
    "duration": 439,
    "start_time": "2021-10-05T12:32:56.773Z"
   },
   {
    "duration": 419,
    "start_time": "2021-10-05T12:33:01.569Z"
   },
   {
    "duration": 408,
    "start_time": "2021-10-05T12:33:09.322Z"
   },
   {
    "duration": 407,
    "start_time": "2021-10-05T12:33:21.323Z"
   },
   {
    "duration": 396,
    "start_time": "2021-10-05T12:33:31.374Z"
   },
   {
    "duration": 401,
    "start_time": "2021-10-05T12:33:39.120Z"
   },
   {
    "duration": 408,
    "start_time": "2021-10-05T12:33:45.004Z"
   },
   {
    "duration": 1231,
    "start_time": "2021-10-05T12:33:56.340Z"
   },
   {
    "duration": 1190,
    "start_time": "2021-10-05T12:34:10.910Z"
   },
   {
    "duration": 1329,
    "start_time": "2021-10-05T12:34:17.765Z"
   },
   {
    "duration": 773,
    "start_time": "2021-10-05T12:34:27.876Z"
   },
   {
    "duration": 478,
    "start_time": "2021-10-05T12:34:36.514Z"
   },
   {
    "duration": 488,
    "start_time": "2021-10-05T12:34:48.636Z"
   },
   {
    "duration": 599,
    "start_time": "2021-10-05T12:35:05.730Z"
   },
   {
    "duration": 470,
    "start_time": "2021-10-05T12:35:20.641Z"
   },
   {
    "duration": 509,
    "start_time": "2021-10-05T12:35:30.442Z"
   },
   {
    "duration": 492,
    "start_time": "2021-10-05T12:35:38.885Z"
   },
   {
    "duration": 388,
    "start_time": "2021-10-05T12:36:40.051Z"
   },
   {
    "duration": 517,
    "start_time": "2021-10-05T12:37:03.653Z"
   },
   {
    "duration": 504,
    "start_time": "2021-10-05T12:37:22.918Z"
   },
   {
    "duration": 507,
    "start_time": "2021-10-05T12:37:37.282Z"
   },
   {
    "duration": 1209,
    "start_time": "2021-10-05T12:40:30.004Z"
   },
   {
    "duration": 516,
    "start_time": "2021-10-05T12:40:50.481Z"
   },
   {
    "duration": 256,
    "start_time": "2021-10-05T12:46:12.257Z"
   },
   {
    "duration": 267,
    "start_time": "2021-10-05T12:46:18.978Z"
   },
   {
    "duration": 267,
    "start_time": "2021-10-05T12:46:24.943Z"
   },
   {
    "duration": 292,
    "start_time": "2021-10-05T12:46:29.625Z"
   },
   {
    "duration": 274,
    "start_time": "2021-10-05T12:46:53.212Z"
   },
   {
    "duration": 277,
    "start_time": "2021-10-05T12:47:30.620Z"
   },
   {
    "duration": 8,
    "start_time": "2021-10-05T12:47:51.964Z"
   },
   {
    "duration": 306,
    "start_time": "2021-10-05T12:47:52.641Z"
   },
   {
    "duration": 511,
    "start_time": "2021-10-05T12:47:53.404Z"
   },
   {
    "duration": 109,
    "start_time": "2021-10-05T12:49:28.332Z"
   },
   {
    "duration": 630,
    "start_time": "2021-10-05T12:52:13.117Z"
   },
   {
    "duration": 11,
    "start_time": "2021-10-05T12:53:28.749Z"
   },
   {
    "duration": 16,
    "start_time": "2021-10-05T12:55:17.008Z"
   },
   {
    "duration": 22,
    "start_time": "2021-10-05T12:55:28.088Z"
   },
   {
    "duration": 17,
    "start_time": "2021-10-05T12:55:59.147Z"
   },
   {
    "duration": -9,
    "start_time": "2021-10-05T12:56:16.873Z"
   },
   {
    "duration": 5668,
    "start_time": "2021-10-05T12:56:18.625Z"
   },
   {
    "duration": 11,
    "start_time": "2021-10-05T12:56:27.587Z"
   },
   {
    "duration": 27,
    "start_time": "2021-10-05T12:57:44.422Z"
   },
   {
    "duration": 18,
    "start_time": "2021-10-05T12:58:25.041Z"
   },
   {
    "duration": 18,
    "start_time": "2021-10-05T12:59:33.243Z"
   },
   {
    "duration": 17,
    "start_time": "2021-10-05T13:01:56.553Z"
   },
   {
    "duration": 604,
    "start_time": "2021-10-05T13:02:37.893Z"
   },
   {
    "duration": 756,
    "start_time": "2021-10-05T13:04:01.374Z"
   },
   {
    "duration": 21,
    "start_time": "2021-10-05T13:08:21.517Z"
   },
   {
    "duration": 19,
    "start_time": "2021-10-05T13:12:05.011Z"
   },
   {
    "duration": 688,
    "start_time": "2021-10-05T13:13:44.385Z"
   },
   {
    "duration": 663,
    "start_time": "2021-10-05T13:14:03.602Z"
   },
   {
    "duration": 6,
    "start_time": "2021-10-05T13:14:22.558Z"
   },
   {
    "duration": 322,
    "start_time": "2021-10-05T13:14:23.146Z"
   },
   {
    "duration": 512,
    "start_time": "2021-10-05T13:14:23.694Z"
   },
   {
    "duration": 25,
    "start_time": "2021-10-05T13:14:24.345Z"
   },
   {
    "duration": 672,
    "start_time": "2021-10-05T13:14:24.536Z"
   },
   {
    "duration": 123,
    "start_time": "2021-10-05T13:16:30.544Z"
   },
   {
    "duration": 215,
    "start_time": "2021-10-05T13:16:48.533Z"
   },
   {
    "duration": 238,
    "start_time": "2021-10-05T13:16:59.585Z"
   },
   {
    "duration": 544,
    "start_time": "2021-10-05T13:17:59.623Z"
   },
   {
    "duration": 11,
    "start_time": "2021-10-05T13:18:20.827Z"
   },
   {
    "duration": -22,
    "start_time": "2021-10-05T13:18:38.626Z"
   },
   {
    "duration": 5,
    "start_time": "2021-10-05T13:18:40.808Z"
   },
   {
    "duration": 304,
    "start_time": "2021-10-05T13:18:46.171Z"
   },
   {
    "duration": 5,
    "start_time": "2021-10-05T13:18:50.466Z"
   },
   {
    "duration": 4,
    "start_time": "2021-10-05T13:18:53.555Z"
   },
   {
    "duration": 271,
    "start_time": "2021-10-05T13:19:16.957Z"
   },
   {
    "duration": 301,
    "start_time": "2021-10-05T13:19:30.400Z"
   },
   {
    "duration": 381,
    "start_time": "2021-10-05T13:19:39.173Z"
   },
   {
    "duration": 231,
    "start_time": "2021-10-05T13:19:47.788Z"
   },
   {
    "duration": 231,
    "start_time": "2021-10-05T13:19:51.437Z"
   },
   {
    "duration": 309,
    "start_time": "2021-10-05T13:20:46.342Z"
   },
   {
    "duration": 219,
    "start_time": "2021-10-05T13:20:52.303Z"
   },
   {
    "duration": 215,
    "start_time": "2021-10-05T13:20:57.651Z"
   },
   {
    "duration": 221,
    "start_time": "2021-10-05T13:21:02.848Z"
   },
   {
    "duration": 209,
    "start_time": "2021-10-05T13:21:07.919Z"
   },
   {
    "duration": 245,
    "start_time": "2021-10-05T13:21:14.905Z"
   },
   {
    "duration": 528,
    "start_time": "2021-10-05T13:21:26.595Z"
   },
   {
    "duration": 178,
    "start_time": "2021-10-05T13:21:56.627Z"
   },
   {
    "duration": 177,
    "start_time": "2021-10-05T13:22:03.322Z"
   },
   {
    "duration": 181,
    "start_time": "2021-10-05T13:22:21.892Z"
   },
   {
    "duration": 179,
    "start_time": "2021-10-05T13:22:39.408Z"
   },
   {
    "duration": 175,
    "start_time": "2021-10-05T13:22:43.446Z"
   },
   {
    "duration": 183,
    "start_time": "2021-10-05T13:22:46.840Z"
   },
   {
    "duration": 178,
    "start_time": "2021-10-05T13:23:22.666Z"
   },
   {
    "duration": 173,
    "start_time": "2021-10-05T13:23:31.850Z"
   },
   {
    "duration": 215,
    "start_time": "2021-10-05T13:47:49.401Z"
   },
   {
    "duration": 615,
    "start_time": "2021-10-05T13:48:47.780Z"
   },
   {
    "duration": 292,
    "start_time": "2021-10-05T13:49:12.788Z"
   },
   {
    "duration": 249,
    "start_time": "2021-10-05T13:49:16.973Z"
   },
   {
    "duration": 306,
    "start_time": "2021-10-05T13:49:22.773Z"
   },
   {
    "duration": 256,
    "start_time": "2021-10-05T13:49:29.606Z"
   },
   {
    "duration": 428,
    "start_time": "2021-10-05T13:51:18.346Z"
   },
   {
    "duration": 421,
    "start_time": "2021-10-05T13:51:34.513Z"
   },
   {
    "duration": 280,
    "start_time": "2021-10-05T13:51:43.000Z"
   },
   {
    "duration": 1136,
    "start_time": "2021-10-05T13:52:00.096Z"
   },
   {
    "duration": 71,
    "start_time": "2021-10-05T13:52:01.234Z"
   },
   {
    "duration": 3,
    "start_time": "2021-10-05T13:52:01.307Z"
   },
   {
    "duration": 59,
    "start_time": "2021-10-05T13:52:01.312Z"
   },
   {
    "duration": 44,
    "start_time": "2021-10-05T13:52:01.373Z"
   },
   {
    "duration": 60062,
    "start_time": "2021-10-05T13:52:01.419Z"
   },
   {
    "duration": 6,
    "start_time": "2021-10-05T13:53:01.482Z"
   },
   {
    "duration": 39,
    "start_time": "2021-10-05T13:53:01.489Z"
   },
   {
    "duration": 29,
    "start_time": "2021-10-05T13:53:01.530Z"
   },
   {
    "duration": 22,
    "start_time": "2021-10-05T13:53:01.561Z"
   },
   {
    "duration": 38,
    "start_time": "2021-10-05T13:53:01.585Z"
   },
   {
    "duration": 367,
    "start_time": "2021-10-05T13:53:01.625Z"
   },
   {
    "duration": 393,
    "start_time": "2021-10-05T13:53:01.994Z"
   },
   {
    "duration": 6,
    "start_time": "2021-10-05T13:53:02.389Z"
   },
   {
    "duration": 360,
    "start_time": "2021-10-05T13:53:02.397Z"
   },
   {
    "duration": 575,
    "start_time": "2021-10-05T13:53:02.759Z"
   },
   {
    "duration": 22,
    "start_time": "2021-10-05T13:53:03.336Z"
   },
   {
    "duration": 1132,
    "start_time": "2021-10-05T13:53:03.360Z"
   },
   {
    "duration": 319,
    "start_time": "2021-10-05T13:53:04.495Z"
   },
   {
    "duration": 30,
    "start_time": "2021-10-05T13:53:04.816Z"
   },
   {
    "duration": 931,
    "start_time": "2021-10-05T13:53:10.972Z"
   },
   {
    "duration": 215,
    "start_time": "2021-10-05T13:53:18.584Z"
   },
   {
    "duration": 264,
    "start_time": "2021-10-05T13:53:22.707Z"
   },
   {
    "duration": 260,
    "start_time": "2021-10-05T13:53:35.132Z"
   },
   {
    "duration": 12,
    "start_time": "2021-10-05T13:53:59.604Z"
   },
   {
    "duration": 12,
    "start_time": "2021-10-05T13:54:46.305Z"
   },
   {
    "duration": 11,
    "start_time": "2021-10-05T13:54:53.440Z"
   },
   {
    "duration": 23,
    "start_time": "2021-10-05T13:55:12.686Z"
   },
   {
    "duration": 16,
    "start_time": "2021-10-05T13:55:22.933Z"
   },
   {
    "duration": 6,
    "start_time": "2021-10-05T13:58:27.305Z"
   },
   {
    "duration": 7,
    "start_time": "2021-10-05T13:58:32.027Z"
   },
   {
    "duration": 690,
    "start_time": "2021-10-05T14:00:13.624Z"
   },
   {
    "duration": 580,
    "start_time": "2021-10-05T14:00:29.970Z"
   },
   {
    "duration": 8,
    "start_time": "2021-10-05T14:01:15.736Z"
   },
   {
    "duration": 1376,
    "start_time": "2021-10-05T14:02:11.324Z"
   },
   {
    "duration": 67,
    "start_time": "2021-10-05T14:02:12.703Z"
   },
   {
    "duration": 2,
    "start_time": "2021-10-05T14:02:12.772Z"
   },
   {
    "duration": 29,
    "start_time": "2021-10-05T14:02:12.776Z"
   },
   {
    "duration": 41,
    "start_time": "2021-10-05T14:02:12.806Z"
   },
   {
    "duration": 55195,
    "start_time": "2021-10-05T14:02:12.849Z"
   },
   {
    "duration": 2,
    "start_time": "2021-10-05T14:03:08.046Z"
   },
   {
    "duration": 8,
    "start_time": "2021-10-05T14:03:08.051Z"
   },
   {
    "duration": 11,
    "start_time": "2021-10-05T14:03:08.061Z"
   },
   {
    "duration": 6,
    "start_time": "2021-10-05T14:03:08.073Z"
   },
   {
    "duration": 10,
    "start_time": "2021-10-05T14:03:08.080Z"
   },
   {
    "duration": 330,
    "start_time": "2021-10-05T14:03:08.092Z"
   },
   {
    "duration": 279,
    "start_time": "2021-10-05T14:03:08.424Z"
   },
   {
    "duration": 6,
    "start_time": "2021-10-05T14:03:08.705Z"
   },
   {
    "duration": 301,
    "start_time": "2021-10-05T14:03:08.713Z"
   },
   {
    "duration": 591,
    "start_time": "2021-10-05T14:03:09.016Z"
   },
   {
    "duration": 18,
    "start_time": "2021-10-05T14:03:09.609Z"
   },
   {
    "duration": 728,
    "start_time": "2021-10-05T14:03:09.629Z"
   },
   {
    "duration": 288,
    "start_time": "2021-10-05T14:03:10.358Z"
   },
   {
    "duration": 9,
    "start_time": "2021-10-05T14:03:10.647Z"
   },
   {
    "duration": 14,
    "start_time": "2021-10-05T14:03:10.658Z"
   },
   {
    "duration": 6,
    "start_time": "2021-10-05T14:03:10.673Z"
   },
   {
    "duration": 748,
    "start_time": "2021-10-05T14:03:10.682Z"
   },
   {
    "duration": 1331,
    "start_time": "2021-10-05T14:18:42.273Z"
   },
   {
    "duration": 98,
    "start_time": "2021-10-05T14:18:43.606Z"
   },
   {
    "duration": 3,
    "start_time": "2021-10-05T14:18:43.706Z"
   },
   {
    "duration": 21,
    "start_time": "2021-10-05T14:18:43.711Z"
   },
   {
    "duration": 12,
    "start_time": "2021-10-05T14:18:43.734Z"
   },
   {
    "duration": 57535,
    "start_time": "2021-10-05T14:18:43.748Z"
   },
   {
    "duration": 5,
    "start_time": "2021-10-05T14:19:41.284Z"
   },
   {
    "duration": 16,
    "start_time": "2021-10-05T14:19:41.291Z"
   },
   {
    "duration": 18,
    "start_time": "2021-10-05T14:19:41.309Z"
   },
   {
    "duration": 12,
    "start_time": "2021-10-05T14:19:41.329Z"
   },
   {
    "duration": 21,
    "start_time": "2021-10-05T14:19:41.342Z"
   },
   {
    "duration": 314,
    "start_time": "2021-10-05T14:19:41.364Z"
   },
   {
    "duration": 287,
    "start_time": "2021-10-05T14:19:41.680Z"
   },
   {
    "duration": 6,
    "start_time": "2021-10-05T14:19:41.969Z"
   },
   {
    "duration": 325,
    "start_time": "2021-10-05T14:19:41.976Z"
   },
   {
    "duration": 532,
    "start_time": "2021-10-05T14:19:42.303Z"
   },
   {
    "duration": 24,
    "start_time": "2021-10-05T14:19:42.837Z"
   },
   {
    "duration": 741,
    "start_time": "2021-10-05T14:19:42.862Z"
   },
   {
    "duration": 266,
    "start_time": "2021-10-05T14:19:43.605Z"
   },
   {
    "duration": 11,
    "start_time": "2021-10-05T14:19:43.873Z"
   },
   {
    "duration": 15,
    "start_time": "2021-10-05T14:19:43.886Z"
   },
   {
    "duration": 7,
    "start_time": "2021-10-05T14:19:43.903Z"
   },
   {
    "duration": 1042,
    "start_time": "2021-10-05T14:19:43.912Z"
   },
   {
    "duration": 320,
    "start_time": "2021-10-05T14:21:06.278Z"
   },
   {
    "duration": 223,
    "start_time": "2021-10-05T14:21:20.636Z"
   },
   {
    "duration": 222,
    "start_time": "2021-10-05T14:21:29.094Z"
   },
   {
    "duration": 371,
    "start_time": "2021-10-05T14:21:38.182Z"
   },
   {
    "duration": 1037,
    "start_time": "2021-10-05T14:21:46.994Z"
   },
   {
    "duration": 1037,
    "start_time": "2021-10-05T14:21:58.911Z"
   },
   {
    "duration": 5727,
    "start_time": "2021-10-05T14:22:10.063Z"
   },
   {
    "duration": 1386,
    "start_time": "2021-10-05T14:22:24.410Z"
   },
   {
    "duration": 979,
    "start_time": "2021-10-05T14:22:32.275Z"
   },
   {
    "duration": 20,
    "start_time": "2021-10-05T14:22:42.726Z"
   },
   {
    "duration": 1024,
    "start_time": "2021-10-05T14:22:53.251Z"
   },
   {
    "duration": 20,
    "start_time": "2021-10-05T14:23:12.006Z"
   },
   {
    "duration": 1011,
    "start_time": "2021-10-05T14:23:37.652Z"
   },
   {
    "duration": 13,
    "start_time": "2021-10-05T14:24:29.241Z"
   },
   {
    "duration": 9,
    "start_time": "2021-10-05T14:24:33.561Z"
   },
   {
    "duration": 9,
    "start_time": "2021-10-05T14:24:48.158Z"
   },
   {
    "duration": 8,
    "start_time": "2021-10-05T14:24:55.021Z"
   },
   {
    "duration": 5,
    "start_time": "2021-10-05T14:25:03.147Z"
   },
   {
    "duration": 8,
    "start_time": "2021-10-05T14:25:08.410Z"
   },
   {
    "duration": 244,
    "start_time": "2021-10-05T14:26:01.217Z"
   },
   {
    "duration": 1083,
    "start_time": "2021-10-05T14:26:45.375Z"
   },
   {
    "duration": 66,
    "start_time": "2021-10-05T14:26:46.461Z"
   },
   {
    "duration": 2,
    "start_time": "2021-10-05T14:26:46.529Z"
   },
   {
    "duration": 19,
    "start_time": "2021-10-05T14:26:46.532Z"
   },
   {
    "duration": 14,
    "start_time": "2021-10-05T14:26:46.553Z"
   },
   {
    "duration": 54837,
    "start_time": "2021-10-05T14:26:46.568Z"
   },
   {
    "duration": 5,
    "start_time": "2021-10-05T14:27:41.406Z"
   },
   {
    "duration": 317,
    "start_time": "2021-10-05T14:27:41.413Z"
   },
   {
    "duration": -30,
    "start_time": "2021-10-05T14:27:41.762Z"
   },
   {
    "duration": -30,
    "start_time": "2021-10-05T14:27:41.763Z"
   },
   {
    "duration": -30,
    "start_time": "2021-10-05T14:27:41.764Z"
   },
   {
    "duration": -30,
    "start_time": "2021-10-05T14:27:41.765Z"
   },
   {
    "duration": -31,
    "start_time": "2021-10-05T14:27:41.766Z"
   },
   {
    "duration": -30,
    "start_time": "2021-10-05T14:27:41.766Z"
   },
   {
    "duration": -30,
    "start_time": "2021-10-05T14:27:41.767Z"
   },
   {
    "duration": -30,
    "start_time": "2021-10-05T14:27:41.768Z"
   },
   {
    "duration": -30,
    "start_time": "2021-10-05T14:27:41.769Z"
   },
   {
    "duration": -30,
    "start_time": "2021-10-05T14:27:41.770Z"
   },
   {
    "duration": -29,
    "start_time": "2021-10-05T14:27:41.771Z"
   },
   {
    "duration": -29,
    "start_time": "2021-10-05T14:27:41.772Z"
   },
   {
    "duration": -30,
    "start_time": "2021-10-05T14:27:41.773Z"
   },
   {
    "duration": -30,
    "start_time": "2021-10-05T14:27:41.774Z"
   },
   {
    "duration": -29,
    "start_time": "2021-10-05T14:27:41.774Z"
   },
   {
    "duration": -28,
    "start_time": "2021-10-05T14:27:41.775Z"
   },
   {
    "duration": 251,
    "start_time": "2021-10-05T14:28:04.889Z"
   },
   {
    "duration": 303,
    "start_time": "2021-10-05T14:28:20.099Z"
   },
   {
    "duration": 6,
    "start_time": "2021-10-05T14:28:25.451Z"
   },
   {
    "duration": 559,
    "start_time": "2021-10-05T14:28:39.411Z"
   },
   {
    "duration": 304,
    "start_time": "2021-10-05T14:28:47.748Z"
   },
   {
    "duration": 7,
    "start_time": "2021-10-05T14:28:59.444Z"
   },
   {
    "duration": 229,
    "start_time": "2021-10-05T14:29:02.646Z"
   },
   {
    "duration": 1048,
    "start_time": "2021-10-05T14:29:12.931Z"
   },
   {
    "duration": 220,
    "start_time": "2021-10-05T14:29:22.901Z"
   },
   {
    "duration": 8,
    "start_time": "2021-10-05T14:29:33.766Z"
   },
   {
    "duration": 7,
    "start_time": "2021-10-05T14:29:37.285Z"
   },
   {
    "duration": 8,
    "start_time": "2021-10-05T14:29:43.542Z"
   },
   {
    "duration": 1055,
    "start_time": "2021-10-05T14:29:49.904Z"
   },
   {
    "duration": 66,
    "start_time": "2021-10-05T14:29:50.961Z"
   },
   {
    "duration": 2,
    "start_time": "2021-10-05T14:29:51.029Z"
   },
   {
    "duration": 17,
    "start_time": "2021-10-05T14:29:51.033Z"
   },
   {
    "duration": 22,
    "start_time": "2021-10-05T14:29:51.051Z"
   },
   {
    "duration": 56437,
    "start_time": "2021-10-05T14:29:51.075Z"
   },
   {
    "duration": 5,
    "start_time": "2021-10-05T14:30:47.513Z"
   },
   {
    "duration": 25,
    "start_time": "2021-10-05T14:30:47.520Z"
   },
   {
    "duration": 16,
    "start_time": "2021-10-05T14:30:47.547Z"
   },
   {
    "duration": 35,
    "start_time": "2021-10-05T14:30:47.564Z"
   },
   {
    "duration": 4,
    "start_time": "2021-10-05T14:30:47.601Z"
   },
   {
    "duration": 11,
    "start_time": "2021-10-05T14:30:47.607Z"
   },
   {
    "duration": 297,
    "start_time": "2021-10-05T14:30:47.619Z"
   },
   {
    "duration": 274,
    "start_time": "2021-10-05T14:30:47.917Z"
   },
   {
    "duration": 5,
    "start_time": "2021-10-05T14:30:48.193Z"
   },
   {
    "duration": 296,
    "start_time": "2021-10-05T14:30:48.200Z"
   },
   {
    "duration": 516,
    "start_time": "2021-10-05T14:30:48.497Z"
   },
   {
    "duration": 32,
    "start_time": "2021-10-05T14:30:49.015Z"
   },
   {
    "duration": 743,
    "start_time": "2021-10-05T14:30:49.049Z"
   },
   {
    "duration": 277,
    "start_time": "2021-10-05T14:30:49.794Z"
   },
   {
    "duration": 10,
    "start_time": "2021-10-05T14:30:50.073Z"
   },
   {
    "duration": 17,
    "start_time": "2021-10-05T14:30:50.085Z"
   },
   {
    "duration": 39,
    "start_time": "2021-10-05T14:30:50.105Z"
   },
   {
    "duration": 674,
    "start_time": "2021-10-05T14:30:50.147Z"
   },
   {
    "duration": 0,
    "start_time": "2021-10-05T14:30:50.823Z"
   },
   {
    "duration": 580,
    "start_time": "2021-10-05T14:31:14.385Z"
   },
   {
    "duration": 10,
    "start_time": "2021-10-05T14:31:25.243Z"
   },
   {
    "duration": 221,
    "start_time": "2021-10-05T14:32:02.208Z"
   },
   {
    "duration": 5,
    "start_time": "2021-10-05T14:32:14.730Z"
   },
   {
    "duration": 1100,
    "start_time": "2021-10-05T14:32:21.761Z"
   },
   {
    "duration": 67,
    "start_time": "2021-10-05T14:32:22.863Z"
   },
   {
    "duration": 2,
    "start_time": "2021-10-05T14:32:22.932Z"
   },
   {
    "duration": 12,
    "start_time": "2021-10-05T14:32:22.936Z"
   },
   {
    "duration": 16,
    "start_time": "2021-10-05T14:32:22.950Z"
   },
   {
    "duration": 55159,
    "start_time": "2021-10-05T14:32:22.967Z"
   },
   {
    "duration": 6,
    "start_time": "2021-10-05T14:33:18.128Z"
   },
   {
    "duration": 17,
    "start_time": "2021-10-05T14:33:18.136Z"
   },
   {
    "duration": 15,
    "start_time": "2021-10-05T14:33:18.155Z"
   },
   {
    "duration": 19,
    "start_time": "2021-10-05T14:33:18.172Z"
   },
   {
    "duration": 11,
    "start_time": "2021-10-05T14:33:18.193Z"
   },
   {
    "duration": 19,
    "start_time": "2021-10-05T14:33:18.206Z"
   },
   {
    "duration": 28,
    "start_time": "2021-10-05T14:33:18.227Z"
   },
   {
    "duration": 330,
    "start_time": "2021-10-05T14:33:18.257Z"
   },
   {
    "duration": 275,
    "start_time": "2021-10-05T14:33:18.589Z"
   },
   {
    "duration": 6,
    "start_time": "2021-10-05T14:33:18.865Z"
   },
   {
    "duration": 300,
    "start_time": "2021-10-05T14:33:18.873Z"
   },
   {
    "duration": 511,
    "start_time": "2021-10-05T14:33:19.174Z"
   },
   {
    "duration": 19,
    "start_time": "2021-10-05T14:33:19.686Z"
   },
   {
    "duration": 746,
    "start_time": "2021-10-05T14:33:19.707Z"
   },
   {
    "duration": 278,
    "start_time": "2021-10-05T14:33:20.454Z"
   },
   {
    "duration": 11,
    "start_time": "2021-10-05T14:33:20.734Z"
   },
   {
    "duration": 16,
    "start_time": "2021-10-05T14:33:20.749Z"
   },
   {
    "duration": 18,
    "start_time": "2021-10-05T14:33:20.767Z"
   },
   {
    "duration": 479,
    "start_time": "2021-10-05T14:33:20.787Z"
   },
   {
    "duration": 9,
    "start_time": "2021-10-05T14:33:21.268Z"
   },
   {
    "duration": 394,
    "start_time": "2021-10-05T14:33:21.279Z"
   },
   {
    "duration": 13,
    "start_time": "2021-10-05T14:38:14.122Z"
   },
   {
    "duration": 12,
    "start_time": "2021-10-05T14:38:24.812Z"
   },
   {
    "duration": 10,
    "start_time": "2021-10-05T14:38:27.858Z"
   },
   {
    "duration": 10,
    "start_time": "2021-10-05T14:39:10.393Z"
   },
   {
    "duration": 9,
    "start_time": "2021-10-05T14:39:17.948Z"
   },
   {
    "duration": 4,
    "start_time": "2021-10-05T14:39:39.404Z"
   },
   {
    "duration": 4,
    "start_time": "2021-10-05T14:39:48.502Z"
   },
   {
    "duration": 369,
    "start_time": "2021-10-05T14:42:50.832Z"
   },
   {
    "duration": 428,
    "start_time": "2021-10-05T14:49:11.049Z"
   },
   {
    "duration": 9,
    "start_time": "2021-10-05T14:49:30.240Z"
   },
   {
    "duration": 9,
    "start_time": "2021-10-05T14:49:48.401Z"
   },
   {
    "duration": 453,
    "start_time": "2021-10-05T14:50:20.838Z"
   },
   {
    "duration": 10,
    "start_time": "2021-10-05T14:50:31.902Z"
   },
   {
    "duration": 569,
    "start_time": "2021-10-05T14:51:23.144Z"
   },
   {
    "duration": 9,
    "start_time": "2021-10-05T14:51:27.189Z"
   },
   {
    "duration": 19,
    "start_time": "2021-10-05T14:51:56.701Z"
   },
   {
    "duration": 7,
    "start_time": "2021-10-05T14:52:10.704Z"
   },
   {
    "duration": 13,
    "start_time": "2021-10-05T14:54:39.413Z"
   },
   {
    "duration": 218,
    "start_time": "2021-10-05T14:54:50.897Z"
   },
   {
    "duration": 15,
    "start_time": "2021-10-05T14:54:57.417Z"
   },
   {
    "duration": 242,
    "start_time": "2021-10-05T14:58:54.491Z"
   },
   {
    "duration": 20,
    "start_time": "2021-10-05T14:58:57.353Z"
   },
   {
    "duration": 2,
    "start_time": "2021-10-05T15:00:30.050Z"
   },
   {
    "duration": 21,
    "start_time": "2021-10-05T15:00:32.480Z"
   },
   {
    "duration": 7,
    "start_time": "2021-10-05T15:00:59.834Z"
   },
   {
    "duration": 10,
    "start_time": "2021-10-05T15:01:03.927Z"
   },
   {
    "duration": 12,
    "start_time": "2021-10-05T15:02:22.959Z"
   },
   {
    "duration": 13,
    "start_time": "2021-10-05T15:02:29.561Z"
   },
   {
    "duration": 15,
    "start_time": "2021-10-05T15:02:36.574Z"
   },
   {
    "duration": 14,
    "start_time": "2021-10-05T15:02:40.434Z"
   },
   {
    "duration": 10,
    "start_time": "2021-10-05T15:02:54.297Z"
   },
   {
    "duration": 10,
    "start_time": "2021-10-05T15:03:01.521Z"
   },
   {
    "duration": 6,
    "start_time": "2021-10-05T15:04:10.985Z"
   },
   {
    "duration": 12,
    "start_time": "2021-10-05T15:04:13.823Z"
   },
   {
    "duration": 6,
    "start_time": "2021-10-05T15:04:18.182Z"
   },
   {
    "duration": 11,
    "start_time": "2021-10-05T15:04:18.924Z"
   },
   {
    "duration": 12,
    "start_time": "2021-10-05T15:04:22.649Z"
   },
   {
    "duration": 12,
    "start_time": "2021-10-05T15:24:30.913Z"
   },
   {
    "duration": 13,
    "start_time": "2021-10-05T15:25:44.606Z"
   },
   {
    "duration": 12,
    "start_time": "2021-10-05T15:26:49.821Z"
   },
   {
    "duration": 14,
    "start_time": "2021-10-05T15:27:28.234Z"
   },
   {
    "duration": 11,
    "start_time": "2021-10-05T15:27:37.389Z"
   },
   {
    "duration": 12,
    "start_time": "2021-10-05T15:28:09.966Z"
   },
   {
    "duration": 3,
    "start_time": "2021-10-05T15:28:15.341Z"
   },
   {
    "duration": 11,
    "start_time": "2021-10-05T15:28:40.496Z"
   },
   {
    "duration": 16,
    "start_time": "2021-10-05T15:29:03.240Z"
   },
   {
    "duration": 29,
    "start_time": "2021-10-05T15:32:40.834Z"
   },
   {
    "duration": 7,
    "start_time": "2021-10-05T15:38:47.557Z"
   },
   {
    "duration": 10,
    "start_time": "2021-10-05T15:40:12.515Z"
   },
   {
    "duration": 227,
    "start_time": "2021-10-05T15:40:25.362Z"
   },
   {
    "duration": 314,
    "start_time": "2021-10-05T15:40:28.330Z"
   },
   {
    "duration": 11,
    "start_time": "2021-10-05T15:40:34.819Z"
   },
   {
    "duration": 259,
    "start_time": "2021-10-05T15:41:13.552Z"
   },
   {
    "duration": 237,
    "start_time": "2021-10-05T15:41:36.665Z"
   },
   {
    "duration": 15,
    "start_time": "2021-10-05T15:41:43.361Z"
   },
   {
    "duration": 254,
    "start_time": "2021-10-05T15:42:28.522Z"
   },
   {
    "duration": 18,
    "start_time": "2021-10-05T15:42:31.844Z"
   },
   {
    "duration": 23,
    "start_time": "2021-10-05T15:42:39.089Z"
   },
   {
    "duration": 28,
    "start_time": "2021-10-05T15:42:44.710Z"
   },
   {
    "duration": 19,
    "start_time": "2021-10-05T15:43:50.092Z"
   },
   {
    "duration": 376,
    "start_time": "2021-10-05T15:44:20.791Z"
   },
   {
    "duration": 21,
    "start_time": "2021-10-05T15:44:25.675Z"
   },
   {
    "duration": 251,
    "start_time": "2021-10-05T15:44:34.030Z"
   },
   {
    "duration": 383,
    "start_time": "2021-10-05T15:44:46.833Z"
   },
   {
    "duration": 25,
    "start_time": "2021-10-05T15:44:49.834Z"
   },
   {
    "duration": 22,
    "start_time": "2021-10-05T15:44:55.878Z"
   },
   {
    "duration": 193,
    "start_time": "2021-10-05T15:45:12.480Z"
   },
   {
    "duration": 24,
    "start_time": "2021-10-05T15:45:17.695Z"
   },
   {
    "duration": 22,
    "start_time": "2021-10-05T15:46:25.366Z"
   },
   {
    "duration": 17,
    "start_time": "2021-10-05T15:46:29.707Z"
   },
   {
    "duration": 20,
    "start_time": "2021-10-05T15:46:56.568Z"
   },
   {
    "duration": 298,
    "start_time": "2021-10-05T15:47:25.665Z"
   },
   {
    "duration": 247,
    "start_time": "2021-10-05T15:47:45.507Z"
   },
   {
    "duration": 6,
    "start_time": "2021-10-05T15:47:58.904Z"
   },
   {
    "duration": 226,
    "start_time": "2021-10-05T15:48:12.781Z"
   },
   {
    "duration": 224,
    "start_time": "2021-10-05T15:48:21.142Z"
   },
   {
    "duration": 13,
    "start_time": "2021-10-05T15:48:23.990Z"
   },
   {
    "duration": 260,
    "start_time": "2021-10-05T15:48:34.642Z"
   },
   {
    "duration": 241,
    "start_time": "2021-10-05T15:48:44.336Z"
   },
   {
    "duration": 8,
    "start_time": "2021-10-05T15:48:49.272Z"
   },
   {
    "duration": 346,
    "start_time": "2021-10-05T15:48:53.821Z"
   },
   {
    "duration": 20,
    "start_time": "2021-10-05T15:49:01.711Z"
   },
   {
    "duration": 25,
    "start_time": "2021-10-05T15:49:10.214Z"
   },
   {
    "duration": 26,
    "start_time": "2021-10-05T15:49:19.443Z"
   },
   {
    "duration": 264,
    "start_time": "2021-10-05T15:49:27.236Z"
   },
   {
    "duration": 25,
    "start_time": "2021-10-05T15:49:29.551Z"
   },
   {
    "duration": 251,
    "start_time": "2021-10-05T15:49:36.079Z"
   },
   {
    "duration": 267,
    "start_time": "2021-10-05T15:49:39.300Z"
   },
   {
    "duration": 16,
    "start_time": "2021-10-05T15:49:43.278Z"
   },
   {
    "duration": 15,
    "start_time": "2021-10-05T15:49:48.838Z"
   },
   {
    "duration": 5,
    "start_time": "2021-10-05T15:50:10.298Z"
   },
   {
    "duration": 20,
    "start_time": "2021-10-05T15:50:39.047Z"
   },
   {
    "duration": 19,
    "start_time": "2021-10-05T15:50:41.935Z"
   },
   {
    "duration": 25,
    "start_time": "2021-10-05T15:50:50.267Z"
   },
   {
    "duration": 38,
    "start_time": "2021-10-05T15:52:58.760Z"
   },
   {
    "duration": 28,
    "start_time": "2021-10-05T15:53:08.089Z"
   },
   {
    "duration": 4,
    "start_time": "2021-10-05T15:55:24.143Z"
   },
   {
    "duration": 7,
    "start_time": "2021-10-05T16:02:42.005Z"
   },
   {
    "duration": 10,
    "start_time": "2021-10-05T16:02:46.724Z"
   },
   {
    "duration": 11,
    "start_time": "2021-10-05T16:02:59.346Z"
   },
   {
    "duration": 27,
    "start_time": "2021-10-05T16:03:03.445Z"
   },
   {
    "duration": 28,
    "start_time": "2021-10-05T16:04:17.512Z"
   },
   {
    "duration": 27,
    "start_time": "2021-10-05T16:04:27.291Z"
   },
   {
    "duration": 5,
    "start_time": "2021-10-05T16:04:58.850Z"
   },
   {
    "duration": 5,
    "start_time": "2021-10-05T16:05:04.348Z"
   },
   {
    "duration": 5,
    "start_time": "2021-10-05T16:05:07.771Z"
   },
   {
    "duration": 6,
    "start_time": "2021-10-05T16:05:25.174Z"
   },
   {
    "duration": 16,
    "start_time": "2021-10-05T16:10:35.280Z"
   },
   {
    "duration": 6,
    "start_time": "2021-10-05T16:10:41.619Z"
   },
   {
    "duration": 6,
    "start_time": "2021-10-05T16:10:49.708Z"
   },
   {
    "duration": 6,
    "start_time": "2021-10-05T16:11:49.981Z"
   },
   {
    "duration": 5,
    "start_time": "2021-10-05T16:11:56.082Z"
   },
   {
    "duration": 14,
    "start_time": "2021-10-05T16:12:19.394Z"
   },
   {
    "duration": 12,
    "start_time": "2021-10-05T16:12:27.630Z"
   },
   {
    "duration": 7,
    "start_time": "2021-10-05T16:12:41.957Z"
   },
   {
    "duration": 17,
    "start_time": "2021-10-05T16:13:30.609Z"
   },
   {
    "duration": 18,
    "start_time": "2021-10-05T16:13:34.013Z"
   },
   {
    "duration": 19,
    "start_time": "2021-10-05T16:13:42.329Z"
   },
   {
    "duration": 18,
    "start_time": "2021-10-05T16:13:48.343Z"
   },
   {
    "duration": 19,
    "start_time": "2021-10-05T16:13:53.961Z"
   },
   {
    "duration": 19,
    "start_time": "2021-10-05T16:14:04.455Z"
   },
   {
    "duration": 42,
    "start_time": "2021-10-05T16:14:24.800Z"
   },
   {
    "duration": 6,
    "start_time": "2021-10-05T16:14:32.904Z"
   },
   {
    "duration": 6,
    "start_time": "2021-10-05T16:16:15.491Z"
   },
   {
    "duration": 42,
    "start_time": "2021-10-05T16:16:32.274Z"
   },
   {
    "duration": 5,
    "start_time": "2021-10-05T16:16:34.653Z"
   },
   {
    "duration": 247,
    "start_time": "2021-10-05T16:26:21.443Z"
   },
   {
    "duration": 22,
    "start_time": "2021-10-05T16:26:25.353Z"
   },
   {
    "duration": 7,
    "start_time": "2021-10-05T16:27:35.581Z"
   },
   {
    "duration": 5,
    "start_time": "2021-10-05T16:28:43.479Z"
   },
   {
    "duration": 5,
    "start_time": "2021-10-05T16:28:53.260Z"
   },
   {
    "duration": 7,
    "start_time": "2021-10-05T16:28:59.075Z"
   },
   {
    "duration": 8,
    "start_time": "2021-10-05T16:29:14.135Z"
   },
   {
    "duration": 5,
    "start_time": "2021-10-05T16:30:09.888Z"
   },
   {
    "duration": 9,
    "start_time": "2021-10-05T16:30:18.767Z"
   },
   {
    "duration": 7,
    "start_time": "2021-10-05T16:30:21.855Z"
   },
   {
    "duration": 9,
    "start_time": "2021-10-05T16:30:33.197Z"
   },
   {
    "duration": 5,
    "start_time": "2021-10-05T16:30:41.829Z"
   },
   {
    "duration": 6,
    "start_time": "2021-10-05T16:31:05.531Z"
   },
   {
    "duration": 9,
    "start_time": "2021-10-05T16:31:24.813Z"
   },
   {
    "duration": 7,
    "start_time": "2021-10-05T16:31:31.366Z"
   },
   {
    "duration": 71,
    "start_time": "2021-10-05T16:31:46.361Z"
   },
   {
    "duration": 6,
    "start_time": "2021-10-05T16:31:48.690Z"
   },
   {
    "duration": 9,
    "start_time": "2021-10-05T16:31:53.748Z"
   },
   {
    "duration": 9,
    "start_time": "2021-10-05T16:33:28.046Z"
   },
   {
    "duration": 4393,
    "start_time": "2021-10-05T16:33:34.635Z"
   },
   {
    "duration": 5,
    "start_time": "2021-10-05T16:33:43.437Z"
   },
   {
    "duration": 7,
    "start_time": "2021-10-05T16:33:52.843Z"
   },
   {
    "duration": 5,
    "start_time": "2021-10-05T16:34:57.338Z"
   },
   {
    "duration": 15,
    "start_time": "2021-10-05T16:35:07.780Z"
   },
   {
    "duration": 7,
    "start_time": "2021-10-05T16:35:10.822Z"
   },
   {
    "duration": 1145,
    "start_time": "2021-10-05T16:35:27.814Z"
   },
   {
    "duration": 67,
    "start_time": "2021-10-05T16:35:28.962Z"
   },
   {
    "duration": 2,
    "start_time": "2021-10-05T16:35:29.031Z"
   },
   {
    "duration": 17,
    "start_time": "2021-10-05T16:35:29.035Z"
   },
   {
    "duration": 9,
    "start_time": "2021-10-05T16:35:29.055Z"
   },
   {
    "duration": 64357,
    "start_time": "2021-10-05T16:35:29.066Z"
   },
   {
    "duration": 5,
    "start_time": "2021-10-05T16:36:33.424Z"
   },
   {
    "duration": 17,
    "start_time": "2021-10-05T16:36:33.431Z"
   },
   {
    "duration": 15,
    "start_time": "2021-10-05T16:36:33.451Z"
   },
   {
    "duration": 320,
    "start_time": "2021-10-05T16:36:33.469Z"
   },
   {
    "duration": -49,
    "start_time": "2021-10-05T16:36:33.841Z"
   },
   {
    "duration": -48,
    "start_time": "2021-10-05T16:36:33.842Z"
   },
   {
    "duration": -50,
    "start_time": "2021-10-05T16:36:33.845Z"
   },
   {
    "duration": -50,
    "start_time": "2021-10-05T16:36:33.846Z"
   },
   {
    "duration": -51,
    "start_time": "2021-10-05T16:36:33.848Z"
   },
   {
    "duration": -51,
    "start_time": "2021-10-05T16:36:33.849Z"
   },
   {
    "duration": -51,
    "start_time": "2021-10-05T16:36:33.850Z"
   },
   {
    "duration": -52,
    "start_time": "2021-10-05T16:36:33.852Z"
   },
   {
    "duration": -52,
    "start_time": "2021-10-05T16:36:33.853Z"
   },
   {
    "duration": -52,
    "start_time": "2021-10-05T16:36:33.854Z"
   },
   {
    "duration": -52,
    "start_time": "2021-10-05T16:36:33.855Z"
   },
   {
    "duration": -52,
    "start_time": "2021-10-05T16:36:33.856Z"
   },
   {
    "duration": -54,
    "start_time": "2021-10-05T16:36:33.858Z"
   },
   {
    "duration": -54,
    "start_time": "2021-10-05T16:36:33.859Z"
   },
   {
    "duration": -54,
    "start_time": "2021-10-05T16:36:33.860Z"
   },
   {
    "duration": -55,
    "start_time": "2021-10-05T16:36:33.862Z"
   },
   {
    "duration": -55,
    "start_time": "2021-10-05T16:36:33.863Z"
   },
   {
    "duration": -55,
    "start_time": "2021-10-05T16:36:33.864Z"
   },
   {
    "duration": -55,
    "start_time": "2021-10-05T16:36:33.865Z"
   },
   {
    "duration": -55,
    "start_time": "2021-10-05T16:36:33.866Z"
   },
   {
    "duration": -55,
    "start_time": "2021-10-05T16:36:33.867Z"
   },
   {
    "duration": -57,
    "start_time": "2021-10-05T16:36:33.869Z"
   },
   {
    "duration": -57,
    "start_time": "2021-10-05T16:36:33.870Z"
   },
   {
    "duration": -57,
    "start_time": "2021-10-05T16:36:33.871Z"
   },
   {
    "duration": -61,
    "start_time": "2021-10-05T16:36:33.876Z"
   },
   {
    "duration": -61,
    "start_time": "2021-10-05T16:36:33.877Z"
   },
   {
    "duration": -61,
    "start_time": "2021-10-05T16:36:33.878Z"
   },
   {
    "duration": -62,
    "start_time": "2021-10-05T16:36:33.880Z"
   },
   {
    "duration": -63,
    "start_time": "2021-10-05T16:36:33.881Z"
   },
   {
    "duration": -63,
    "start_time": "2021-10-05T16:36:33.882Z"
   },
   {
    "duration": -63,
    "start_time": "2021-10-05T16:36:33.883Z"
   },
   {
    "duration": -63,
    "start_time": "2021-10-05T16:36:33.884Z"
   },
   {
    "duration": -64,
    "start_time": "2021-10-05T16:36:33.885Z"
   },
   {
    "duration": -64,
    "start_time": "2021-10-05T16:36:33.886Z"
   },
   {
    "duration": 8,
    "start_time": "2021-10-05T16:39:48.496Z"
   },
   {
    "duration": 245,
    "start_time": "2021-10-05T16:40:08.437Z"
   },
   {
    "duration": 256,
    "start_time": "2021-10-05T16:40:20.652Z"
   },
   {
    "duration": 11,
    "start_time": "2021-10-05T16:40:48.608Z"
   },
   {
    "duration": 5,
    "start_time": "2021-10-05T16:41:15.251Z"
   },
   {
    "duration": 4,
    "start_time": "2021-10-05T16:41:17.281Z"
   },
   {
    "duration": 1163,
    "start_time": "2021-10-05T16:41:24.511Z"
   },
   {
    "duration": 69,
    "start_time": "2021-10-05T16:41:25.676Z"
   },
   {
    "duration": 3,
    "start_time": "2021-10-05T16:41:25.749Z"
   },
   {
    "duration": 19,
    "start_time": "2021-10-05T16:41:25.753Z"
   },
   {
    "duration": 9,
    "start_time": "2021-10-05T16:41:25.774Z"
   },
   {
    "duration": 57762,
    "start_time": "2021-10-05T16:41:25.785Z"
   },
   {
    "duration": 5,
    "start_time": "2021-10-05T16:42:23.550Z"
   },
   {
    "duration": 13,
    "start_time": "2021-10-05T16:42:23.557Z"
   },
   {
    "duration": 5,
    "start_time": "2021-10-05T16:42:23.572Z"
   },
   {
    "duration": 10,
    "start_time": "2021-10-05T16:42:23.579Z"
   },
   {
    "duration": 10,
    "start_time": "2021-10-05T16:42:23.591Z"
   },
   {
    "duration": 6,
    "start_time": "2021-10-05T16:42:23.602Z"
   },
   {
    "duration": 13,
    "start_time": "2021-10-05T16:42:23.609Z"
   },
   {
    "duration": 333,
    "start_time": "2021-10-05T16:42:23.643Z"
   },
   {
    "duration": 283,
    "start_time": "2021-10-05T16:42:23.978Z"
   },
   {
    "duration": 6,
    "start_time": "2021-10-05T16:42:24.263Z"
   },
   {
    "duration": 319,
    "start_time": "2021-10-05T16:42:24.270Z"
   },
   {
    "duration": 553,
    "start_time": "2021-10-05T16:42:24.591Z"
   },
   {
    "duration": 18,
    "start_time": "2021-10-05T16:42:25.145Z"
   },
   {
    "duration": 746,
    "start_time": "2021-10-05T16:42:25.165Z"
   },
   {
    "duration": 274,
    "start_time": "2021-10-05T16:42:25.912Z"
   },
   {
    "duration": 10,
    "start_time": "2021-10-05T16:42:26.189Z"
   },
   {
    "duration": 23,
    "start_time": "2021-10-05T16:42:26.200Z"
   },
   {
    "duration": 454,
    "start_time": "2021-10-05T16:42:26.225Z"
   },
   {
    "duration": 9,
    "start_time": "2021-10-05T16:42:26.680Z"
   },
   {
    "duration": 17,
    "start_time": "2021-10-05T16:42:26.691Z"
   },
   {
    "duration": 482,
    "start_time": "2021-10-05T16:42:26.710Z"
   },
   {
    "duration": 9,
    "start_time": "2021-10-05T16:42:27.194Z"
   },
   {
    "duration": 584,
    "start_time": "2021-10-05T16:42:27.205Z"
   },
   {
    "duration": 10,
    "start_time": "2021-10-05T16:42:27.790Z"
   },
   {
    "duration": 33,
    "start_time": "2021-10-05T16:42:27.801Z"
   },
   {
    "duration": 17,
    "start_time": "2021-10-05T16:42:27.836Z"
   },
   {
    "duration": 31,
    "start_time": "2021-10-05T16:42:27.854Z"
   },
   {
    "duration": 30,
    "start_time": "2021-10-05T16:42:27.886Z"
   },
   {
    "duration": 16,
    "start_time": "2021-10-05T16:42:27.918Z"
   },
   {
    "duration": 38,
    "start_time": "2021-10-05T16:42:27.936Z"
   },
   {
    "duration": 27,
    "start_time": "2021-10-05T16:42:27.976Z"
   },
   {
    "duration": 12,
    "start_time": "2021-10-05T16:42:28.004Z"
   },
   {
    "duration": 24,
    "start_time": "2021-10-05T16:42:28.017Z"
   },
   {
    "duration": 32,
    "start_time": "2021-10-05T16:42:28.043Z"
   },
   {
    "duration": 13,
    "start_time": "2021-10-05T16:42:28.077Z"
   },
   {
    "duration": 39,
    "start_time": "2021-10-05T16:42:28.092Z"
   },
   {
    "duration": 23,
    "start_time": "2021-10-05T16:42:28.133Z"
   },
   {
    "duration": 27,
    "start_time": "2021-10-05T16:42:28.158Z"
   },
   {
    "duration": 5,
    "start_time": "2021-10-05T16:44:47.799Z"
   },
   {
    "duration": 8,
    "start_time": "2021-10-05T16:47:11.321Z"
   },
   {
    "duration": 5,
    "start_time": "2021-10-05T16:47:23.725Z"
   },
   {
    "duration": 4,
    "start_time": "2021-10-05T16:47:28.313Z"
   },
   {
    "duration": 10,
    "start_time": "2021-10-05T16:50:47.844Z"
   },
   {
    "duration": 5,
    "start_time": "2021-10-05T17:05:03.708Z"
   },
   {
    "duration": 1029,
    "start_time": "2021-10-05T19:16:47.471Z"
   },
   {
    "duration": 64,
    "start_time": "2021-10-05T19:16:48.502Z"
   },
   {
    "duration": 3,
    "start_time": "2021-10-05T19:16:48.567Z"
   },
   {
    "duration": 8,
    "start_time": "2021-10-05T19:16:48.571Z"
   },
   {
    "duration": 8,
    "start_time": "2021-10-05T19:16:48.580Z"
   },
   {
    "duration": 53485,
    "start_time": "2021-10-05T19:16:48.589Z"
   },
   {
    "duration": 5,
    "start_time": "2021-10-05T19:17:42.075Z"
   },
   {
    "duration": 17,
    "start_time": "2021-10-05T19:17:42.082Z"
   },
   {
    "duration": 4,
    "start_time": "2021-10-05T19:17:42.101Z"
   },
   {
    "duration": 7,
    "start_time": "2021-10-05T19:17:42.106Z"
   },
   {
    "duration": 9,
    "start_time": "2021-10-05T19:17:42.114Z"
   },
   {
    "duration": 8,
    "start_time": "2021-10-05T19:17:42.124Z"
   },
   {
    "duration": 12,
    "start_time": "2021-10-05T19:17:42.133Z"
   },
   {
    "duration": 346,
    "start_time": "2021-10-05T19:17:42.146Z"
   },
   {
    "duration": 310,
    "start_time": "2021-10-05T19:17:42.494Z"
   },
   {
    "duration": 5,
    "start_time": "2021-10-05T19:17:42.806Z"
   },
   {
    "duration": 318,
    "start_time": "2021-10-05T19:17:42.813Z"
   },
   {
    "duration": 544,
    "start_time": "2021-10-05T19:17:43.133Z"
   },
   {
    "duration": 31,
    "start_time": "2021-10-05T19:17:43.678Z"
   },
   {
    "duration": 777,
    "start_time": "2021-10-05T19:17:43.711Z"
   },
   {
    "duration": 304,
    "start_time": "2021-10-05T19:17:44.490Z"
   },
   {
    "duration": 11,
    "start_time": "2021-10-05T19:17:44.799Z"
   },
   {
    "duration": 16,
    "start_time": "2021-10-05T19:17:44.814Z"
   },
   {
    "duration": 498,
    "start_time": "2021-10-05T19:17:44.833Z"
   },
   {
    "duration": 9,
    "start_time": "2021-10-05T19:17:45.332Z"
   },
   {
    "duration": 13,
    "start_time": "2021-10-05T19:17:45.343Z"
   },
   {
    "duration": 500,
    "start_time": "2021-10-05T19:17:45.357Z"
   },
   {
    "duration": 9,
    "start_time": "2021-10-05T19:17:45.859Z"
   },
   {
    "duration": 553,
    "start_time": "2021-10-05T19:17:45.870Z"
   },
   {
    "duration": 9,
    "start_time": "2021-10-05T19:17:46.424Z"
   },
   {
    "duration": 12,
    "start_time": "2021-10-05T19:17:46.434Z"
   },
   {
    "duration": 2,
    "start_time": "2021-10-05T19:17:46.448Z"
   },
   {
    "duration": 15,
    "start_time": "2021-10-05T19:17:46.452Z"
   },
   {
    "duration": 33,
    "start_time": "2021-10-05T19:17:46.468Z"
   },
   {
    "duration": 2,
    "start_time": "2021-10-05T19:17:46.502Z"
   },
   {
    "duration": 16,
    "start_time": "2021-10-05T19:17:46.506Z"
   },
   {
    "duration": 12,
    "start_time": "2021-10-05T19:17:46.523Z"
   },
   {
    "duration": 2,
    "start_time": "2021-10-05T19:17:46.537Z"
   },
   {
    "duration": 20,
    "start_time": "2021-10-05T19:17:46.540Z"
   },
   {
    "duration": 40,
    "start_time": "2021-10-05T19:17:46.562Z"
   },
   {
    "duration": 7,
    "start_time": "2021-10-05T19:17:46.603Z"
   },
   {
    "duration": 30,
    "start_time": "2021-10-05T19:17:46.611Z"
   },
   {
    "duration": 2,
    "start_time": "2021-10-05T19:17:46.643Z"
   },
   {
    "duration": 12,
    "start_time": "2021-10-05T19:17:46.646Z"
   },
   {
    "duration": 4,
    "start_time": "2021-10-05T19:17:46.660Z"
   },
   {
    "duration": 36,
    "start_time": "2021-10-05T19:17:46.666Z"
   },
   {
    "duration": 4,
    "start_time": "2021-10-05T19:29:10.985Z"
   },
   {
    "duration": 4,
    "start_time": "2021-10-05T19:30:10.728Z"
   },
   {
    "duration": 396,
    "start_time": "2021-10-06T11:01:43.408Z"
   },
   {
    "duration": 1520,
    "start_time": "2021-10-06T11:01:51.161Z"
   },
   {
    "duration": 88,
    "start_time": "2021-10-06T11:01:52.684Z"
   },
   {
    "duration": 4,
    "start_time": "2021-10-06T11:01:52.776Z"
   },
   {
    "duration": 11,
    "start_time": "2021-10-06T11:01:52.783Z"
   },
   {
    "duration": 14,
    "start_time": "2021-10-06T11:01:52.796Z"
   },
   {
    "duration": 84816,
    "start_time": "2021-10-06T11:01:52.814Z"
   },
   {
    "duration": 7,
    "start_time": "2021-10-06T11:03:17.636Z"
   },
   {
    "duration": 16,
    "start_time": "2021-10-06T11:03:17.646Z"
   },
   {
    "duration": 420,
    "start_time": "2021-10-06T11:03:17.665Z"
   },
   {
    "duration": -29,
    "start_time": "2021-10-06T11:03:18.118Z"
   },
   {
    "duration": -30,
    "start_time": "2021-10-06T11:03:18.120Z"
   },
   {
    "duration": -31,
    "start_time": "2021-10-06T11:03:18.122Z"
   },
   {
    "duration": -31,
    "start_time": "2021-10-06T11:03:18.124Z"
   },
   {
    "duration": -30,
    "start_time": "2021-10-06T11:03:18.125Z"
   },
   {
    "duration": -31,
    "start_time": "2021-10-06T11:03:18.127Z"
   },
   {
    "duration": -31,
    "start_time": "2021-10-06T11:03:18.128Z"
   },
   {
    "duration": -31,
    "start_time": "2021-10-06T11:03:18.130Z"
   },
   {
    "duration": -32,
    "start_time": "2021-10-06T11:03:18.132Z"
   },
   {
    "duration": -32,
    "start_time": "2021-10-06T11:03:18.133Z"
   },
   {
    "duration": -33,
    "start_time": "2021-10-06T11:03:18.135Z"
   },
   {
    "duration": -33,
    "start_time": "2021-10-06T11:03:18.136Z"
   },
   {
    "duration": -32,
    "start_time": "2021-10-06T11:03:18.137Z"
   },
   {
    "duration": -33,
    "start_time": "2021-10-06T11:03:18.139Z"
   },
   {
    "duration": -33,
    "start_time": "2021-10-06T11:03:18.140Z"
   },
   {
    "duration": -32,
    "start_time": "2021-10-06T11:03:18.141Z"
   },
   {
    "duration": -62,
    "start_time": "2021-10-06T11:03:18.172Z"
   },
   {
    "duration": -64,
    "start_time": "2021-10-06T11:03:18.175Z"
   },
   {
    "duration": -66,
    "start_time": "2021-10-06T11:03:18.178Z"
   },
   {
    "duration": -67,
    "start_time": "2021-10-06T11:03:18.180Z"
   },
   {
    "duration": -67,
    "start_time": "2021-10-06T11:03:18.182Z"
   },
   {
    "duration": -67,
    "start_time": "2021-10-06T11:03:18.183Z"
   },
   {
    "duration": -70,
    "start_time": "2021-10-06T11:03:18.187Z"
   },
   {
    "duration": -70,
    "start_time": "2021-10-06T11:03:18.188Z"
   },
   {
    "duration": -77,
    "start_time": "2021-10-06T11:03:18.197Z"
   },
   {
    "duration": -77,
    "start_time": "2021-10-06T11:03:18.198Z"
   },
   {
    "duration": -78,
    "start_time": "2021-10-06T11:03:18.200Z"
   },
   {
    "duration": -39,
    "start_time": "2021-10-06T11:03:18.201Z"
   },
   {
    "duration": -39,
    "start_time": "2021-10-06T11:03:18.202Z"
   },
   {
    "duration": -38,
    "start_time": "2021-10-06T11:03:18.203Z"
   },
   {
    "duration": -39,
    "start_time": "2021-10-06T11:03:18.205Z"
   },
   {
    "duration": -38,
    "start_time": "2021-10-06T11:03:18.206Z"
   },
   {
    "duration": -39,
    "start_time": "2021-10-06T11:03:18.208Z"
   },
   {
    "duration": -39,
    "start_time": "2021-10-06T11:03:18.209Z"
   },
   {
    "duration": -39,
    "start_time": "2021-10-06T11:03:18.210Z"
   },
   {
    "duration": -38,
    "start_time": "2021-10-06T11:03:18.211Z"
   },
   {
    "duration": -39,
    "start_time": "2021-10-06T11:03:18.213Z"
   },
   {
    "duration": -41,
    "start_time": "2021-10-06T11:03:18.216Z"
   },
   {
    "duration": 44,
    "start_time": "2021-10-06T11:04:57.093Z"
   },
   {
    "duration": 12,
    "start_time": "2021-10-06T11:05:28.958Z"
   },
   {
    "duration": 7,
    "start_time": "2021-10-06T11:05:29.227Z"
   },
   {
    "duration": 13,
    "start_time": "2021-10-06T11:05:29.714Z"
   },
   {
    "duration": 576,
    "start_time": "2021-10-06T11:05:30.166Z"
   },
   {
    "duration": 502,
    "start_time": "2021-10-06T11:05:31.560Z"
   },
   {
    "duration": 8,
    "start_time": "2021-10-06T11:05:32.230Z"
   },
   {
    "duration": 537,
    "start_time": "2021-10-06T11:05:32.925Z"
   },
   {
    "duration": 912,
    "start_time": "2021-10-06T11:05:33.725Z"
   },
   {
    "duration": 120,
    "start_time": "2021-10-06T11:05:34.641Z"
   },
   {
    "duration": 7,
    "start_time": "2021-10-06T11:05:52.197Z"
   },
   {
    "duration": 19,
    "start_time": "2021-10-06T11:05:56.716Z"
   },
   {
    "duration": 26,
    "start_time": "2021-10-06T11:06:00.950Z"
   },
   {
    "duration": 334,
    "start_time": "2021-10-06T11:06:11.914Z"
   },
   {
    "duration": 409,
    "start_time": "2021-10-06T11:06:26.075Z"
   },
   {
    "duration": 14,
    "start_time": "2021-10-06T11:09:10.063Z"
   },
   {
    "duration": 9,
    "start_time": "2021-10-06T11:09:14.102Z"
   },
   {
    "duration": 10,
    "start_time": "2021-10-06T11:09:16.880Z"
   },
   {
    "duration": 282,
    "start_time": "2021-10-06T11:09:29.158Z"
   },
   {
    "duration": 11,
    "start_time": "2021-10-06T11:11:36.127Z"
   },
   {
    "duration": 7,
    "start_time": "2021-10-06T11:11:41.732Z"
   },
   {
    "duration": 6,
    "start_time": "2021-10-06T11:11:49.288Z"
   },
   {
    "duration": 4,
    "start_time": "2021-10-06T11:12:04.223Z"
   },
   {
    "duration": 303,
    "start_time": "2021-10-06T11:13:18.435Z"
   },
   {
    "duration": 2825,
    "start_time": "2021-10-06T11:13:31.317Z"
   },
   {
    "duration": 126,
    "start_time": "2021-10-06T11:13:49.227Z"
   },
   {
    "duration": 148,
    "start_time": "2021-10-06T11:13:54.146Z"
   },
   {
    "duration": 102,
    "start_time": "2021-10-06T11:19:43.293Z"
   },
   {
    "duration": 292,
    "start_time": "2021-10-06T11:20:21.685Z"
   },
   {
    "duration": 168,
    "start_time": "2021-10-06T11:20:39.756Z"
   },
   {
    "duration": 11,
    "start_time": "2021-10-06T11:25:47.247Z"
   },
   {
    "duration": 330,
    "start_time": "2021-10-06T11:28:30.203Z"
   },
   {
    "duration": 308,
    "start_time": "2021-10-06T11:28:46.147Z"
   },
   {
    "duration": 303,
    "start_time": "2021-10-06T11:28:49.751Z"
   },
   {
    "duration": 92,
    "start_time": "2021-10-06T11:32:30.524Z"
   },
   {
    "duration": 114,
    "start_time": "2021-10-06T11:32:36.660Z"
   },
   {
    "duration": 109,
    "start_time": "2021-10-06T11:32:44.557Z"
   },
   {
    "duration": 200,
    "start_time": "2021-10-06T11:39:42.767Z"
   },
   {
    "duration": 104,
    "start_time": "2021-10-06T11:40:05.787Z"
   },
   {
    "duration": 102,
    "start_time": "2021-10-06T11:40:54.431Z"
   },
   {
    "duration": 104,
    "start_time": "2021-10-06T11:41:14.140Z"
   },
   {
    "duration": 102,
    "start_time": "2021-10-06T11:46:53.765Z"
   },
   {
    "duration": 328,
    "start_time": "2021-10-06T14:45:06.071Z"
   },
   {
    "duration": 29,
    "start_time": "2021-10-06T14:45:10.145Z"
   },
   {
    "duration": 13,
    "start_time": "2021-10-06T14:45:10.468Z"
   },
   {
    "duration": 1440,
    "start_time": "2021-10-06T14:45:11.526Z"
   },
   {
    "duration": 489,
    "start_time": "2021-10-06T14:45:14.953Z"
   },
   {
    "duration": 24,
    "start_time": "2021-10-06T14:45:15.446Z"
   },
   {
    "duration": 1645,
    "start_time": "2021-10-07T07:56:06.051Z"
   },
   {
    "duration": 92,
    "start_time": "2021-10-07T07:56:07.699Z"
   },
   {
    "duration": 3,
    "start_time": "2021-10-07T07:56:07.794Z"
   },
   {
    "duration": 23,
    "start_time": "2021-10-07T07:56:07.799Z"
   },
   {
    "duration": 12,
    "start_time": "2021-10-07T07:56:07.825Z"
   },
   {
    "duration": 12,
    "start_time": "2021-10-07T07:57:34.896Z"
   },
   {
    "duration": 10,
    "start_time": "2021-10-07T07:57:34.899Z"
   },
   {
    "duration": 0,
    "start_time": "2021-10-07T07:57:34.911Z"
   },
   {
    "duration": -5,
    "start_time": "2021-10-07T07:57:34.917Z"
   },
   {
    "duration": -6,
    "start_time": "2021-10-07T07:57:34.919Z"
   },
   {
    "duration": 1,
    "start_time": "2021-10-07T07:57:34.921Z"
   },
   {
    "duration": 0,
    "start_time": "2021-10-07T07:57:34.923Z"
   },
   {
    "duration": 1,
    "start_time": "2021-10-07T07:57:34.924Z"
   },
   {
    "duration": 0,
    "start_time": "2021-10-07T07:57:34.926Z"
   },
   {
    "duration": 1,
    "start_time": "2021-10-07T07:57:34.927Z"
   },
   {
    "duration": 0,
    "start_time": "2021-10-07T07:57:34.929Z"
   },
   {
    "duration": -3,
    "start_time": "2021-10-07T07:57:34.934Z"
   },
   {
    "duration": -4,
    "start_time": "2021-10-07T07:57:34.936Z"
   },
   {
    "duration": -3,
    "start_time": "2021-10-07T07:57:34.937Z"
   },
   {
    "duration": -4,
    "start_time": "2021-10-07T07:57:34.939Z"
   },
   {
    "duration": -3,
    "start_time": "2021-10-07T07:57:34.940Z"
   },
   {
    "duration": -3,
    "start_time": "2021-10-07T07:57:34.941Z"
   },
   {
    "duration": -4,
    "start_time": "2021-10-07T07:57:34.944Z"
   },
   {
    "duration": -7,
    "start_time": "2021-10-07T07:57:34.948Z"
   },
   {
    "duration": -6,
    "start_time": "2021-10-07T07:57:34.949Z"
   },
   {
    "duration": -7,
    "start_time": "2021-10-07T07:57:34.951Z"
   },
   {
    "duration": -65,
    "start_time": "2021-10-07T07:57:35.011Z"
   },
   {
    "duration": -69,
    "start_time": "2021-10-07T07:57:35.016Z"
   },
   {
    "duration": -70,
    "start_time": "2021-10-07T07:57:35.018Z"
   },
   {
    "duration": -70,
    "start_time": "2021-10-07T07:57:35.020Z"
   },
   {
    "duration": -71,
    "start_time": "2021-10-07T07:57:35.022Z"
   },
   {
    "duration": -71,
    "start_time": "2021-10-07T07:57:35.023Z"
   },
   {
    "duration": -72,
    "start_time": "2021-10-07T07:57:35.026Z"
   },
   {
    "duration": -76,
    "start_time": "2021-10-07T07:57:35.032Z"
   },
   {
    "duration": -76,
    "start_time": "2021-10-07T07:57:35.034Z"
   },
   {
    "duration": -76,
    "start_time": "2021-10-07T07:57:35.035Z"
   },
   {
    "duration": -75,
    "start_time": "2021-10-07T07:57:35.036Z"
   },
   {
    "duration": -76,
    "start_time": "2021-10-07T07:57:35.038Z"
   },
   {
    "duration": -77,
    "start_time": "2021-10-07T07:57:35.040Z"
   },
   {
    "duration": -77,
    "start_time": "2021-10-07T07:57:35.041Z"
   },
   {
    "duration": -22,
    "start_time": "2021-10-07T07:57:35.043Z"
   },
   {
    "duration": -20,
    "start_time": "2021-10-07T07:57:35.043Z"
   },
   {
    "duration": -23,
    "start_time": "2021-10-07T07:57:35.048Z"
   },
   {
    "duration": -24,
    "start_time": "2021-10-07T07:57:35.050Z"
   },
   {
    "duration": -24,
    "start_time": "2021-10-07T07:57:35.051Z"
   },
   {
    "duration": -25,
    "start_time": "2021-10-07T07:57:35.053Z"
   },
   {
    "duration": -25,
    "start_time": "2021-10-07T07:57:35.054Z"
   },
   {
    "duration": -27,
    "start_time": "2021-10-07T07:57:35.058Z"
   },
   {
    "duration": -27,
    "start_time": "2021-10-07T07:57:35.059Z"
   },
   {
    "duration": -30,
    "start_time": "2021-10-07T07:57:35.063Z"
   },
   {
    "duration": -30,
    "start_time": "2021-10-07T07:57:35.064Z"
   },
   {
    "duration": -31,
    "start_time": "2021-10-07T07:57:35.066Z"
   },
   {
    "duration": 5,
    "start_time": "2021-10-07T08:15:08.660Z"
   },
   {
    "duration": 87,
    "start_time": "2021-10-07T08:15:09.298Z"
   },
   {
    "duration": 3,
    "start_time": "2021-10-07T08:15:10.257Z"
   },
   {
    "duration": 8,
    "start_time": "2021-10-07T08:15:10.415Z"
   },
   {
    "duration": 12,
    "start_time": "2021-10-07T08:15:10.571Z"
   },
   {
    "duration": 87491,
    "start_time": "2021-10-07T08:15:10.871Z"
   },
   {
    "duration": 7,
    "start_time": "2021-10-07T08:16:38.365Z"
   },
   {
    "duration": 7,
    "start_time": "2021-10-07T08:16:38.375Z"
   },
   {
    "duration": 19,
    "start_time": "2021-10-07T08:16:38.385Z"
   },
   {
    "duration": 21,
    "start_time": "2021-10-07T08:16:38.406Z"
   },
   {
    "duration": 16,
    "start_time": "2021-10-07T08:16:38.430Z"
   },
   {
    "duration": 562,
    "start_time": "2021-10-07T08:16:38.449Z"
   },
   {
    "duration": 469,
    "start_time": "2021-10-07T08:16:39.023Z"
   },
   {
    "duration": 8,
    "start_time": "2021-10-07T08:16:39.494Z"
   },
   {
    "duration": 520,
    "start_time": "2021-10-07T08:16:39.504Z"
   },
   {
    "duration": 885,
    "start_time": "2021-10-07T08:16:40.026Z"
   },
   {
    "duration": 85,
    "start_time": "2021-10-07T08:16:40.913Z"
   },
   {
    "duration": 30,
    "start_time": "2021-10-07T08:17:00.393Z"
   },
   {
    "duration": 194,
    "start_time": "2021-10-07T08:17:18.785Z"
   },
   {
    "duration": 183,
    "start_time": "2021-10-07T08:18:00.339Z"
   },
   {
    "duration": 171,
    "start_time": "2021-10-07T08:18:05.540Z"
   },
   {
    "duration": 178,
    "start_time": "2021-10-07T08:18:14.996Z"
   },
   {
    "duration": 6,
    "start_time": "2021-10-07T08:18:16.470Z"
   },
   {
    "duration": 171,
    "start_time": "2021-10-07T08:24:18.864Z"
   },
   {
    "duration": 5,
    "start_time": "2021-10-07T08:24:20.381Z"
   },
   {
    "duration": 7,
    "start_time": "2021-10-07T08:24:35.093Z"
   },
   {
    "duration": 4,
    "start_time": "2021-10-07T08:25:07.464Z"
   },
   {
    "duration": 162,
    "start_time": "2021-10-07T08:25:13.684Z"
   },
   {
    "duration": 5,
    "start_time": "2021-10-07T08:25:16.629Z"
   },
   {
    "duration": 190,
    "start_time": "2021-10-07T08:25:49.907Z"
   },
   {
    "duration": 172,
    "start_time": "2021-10-07T08:25:58.394Z"
   },
   {
    "duration": 182,
    "start_time": "2021-10-07T08:26:01.290Z"
   },
   {
    "duration": 5,
    "start_time": "2021-10-07T08:26:02.436Z"
   },
   {
    "duration": 170,
    "start_time": "2021-10-07T08:26:08.189Z"
   },
   {
    "duration": 5,
    "start_time": "2021-10-07T08:26:09.624Z"
   },
   {
    "duration": 79,
    "start_time": "2021-10-07T08:26:25.278Z"
   },
   {
    "duration": 166,
    "start_time": "2021-10-07T08:26:36.142Z"
   },
   {
    "duration": 5,
    "start_time": "2021-10-07T08:26:36.934Z"
   },
   {
    "duration": 168,
    "start_time": "2021-10-07T08:27:45.708Z"
   },
   {
    "duration": 6,
    "start_time": "2021-10-07T08:27:48.501Z"
   },
   {
    "duration": 370,
    "start_time": "2021-10-07T08:28:00.686Z"
   },
   {
    "duration": 5,
    "start_time": "2021-10-07T08:28:03.965Z"
   },
   {
    "duration": 240,
    "start_time": "2021-10-07T08:28:06.724Z"
   },
   {
    "duration": 5,
    "start_time": "2021-10-07T08:28:10.519Z"
   },
   {
    "duration": 6,
    "start_time": "2021-10-07T08:28:16.022Z"
   },
   {
    "duration": 261,
    "start_time": "2021-10-07T08:28:20.268Z"
   },
   {
    "duration": 6,
    "start_time": "2021-10-07T08:28:23.419Z"
   },
   {
    "duration": 6,
    "start_time": "2021-10-07T08:28:34.408Z"
   },
   {
    "duration": 6,
    "start_time": "2021-10-07T08:28:40.555Z"
   },
   {
    "duration": 21,
    "start_time": "2021-10-07T08:35:46.019Z"
   },
   {
    "duration": 9,
    "start_time": "2021-10-07T08:37:24.855Z"
   },
   {
    "duration": 281,
    "start_time": "2021-10-07T08:42:12.381Z"
   },
   {
    "duration": 252,
    "start_time": "2021-10-07T08:42:15.300Z"
   },
   {
    "duration": 277,
    "start_time": "2021-10-07T08:42:31.205Z"
   },
   {
    "duration": 7,
    "start_time": "2021-10-07T08:42:38.772Z"
   },
   {
    "duration": 5,
    "start_time": "2021-10-07T08:42:42.113Z"
   },
   {
    "duration": 8,
    "start_time": "2021-10-07T08:42:45.260Z"
   },
   {
    "duration": 247,
    "start_time": "2021-10-07T08:43:22.517Z"
   },
   {
    "duration": 7,
    "start_time": "2021-10-07T08:43:30.030Z"
   },
   {
    "duration": 8,
    "start_time": "2021-10-07T08:43:42.485Z"
   },
   {
    "duration": 8,
    "start_time": "2021-10-07T08:43:45.523Z"
   },
   {
    "duration": 249,
    "start_time": "2021-10-07T08:44:03.997Z"
   },
   {
    "duration": 6,
    "start_time": "2021-10-07T08:45:23.673Z"
   },
   {
    "duration": 246,
    "start_time": "2021-10-07T08:46:11.861Z"
   },
   {
    "duration": 245,
    "start_time": "2021-10-07T08:46:14.158Z"
   },
   {
    "duration": 249,
    "start_time": "2021-10-07T08:46:16.054Z"
   },
   {
    "duration": 6,
    "start_time": "2021-10-07T08:46:19.467Z"
   },
   {
    "duration": 4,
    "start_time": "2021-10-07T08:46:36.675Z"
   },
   {
    "duration": 6,
    "start_time": "2021-10-07T09:18:44.201Z"
   },
   {
    "duration": 290,
    "start_time": "2021-10-07T09:24:23.526Z"
   },
   {
    "duration": 270,
    "start_time": "2021-10-07T09:24:37.120Z"
   },
   {
    "duration": 170,
    "start_time": "2021-10-07T09:24:47.528Z"
   },
   {
    "duration": 6,
    "start_time": "2021-10-07T09:24:51.896Z"
   },
   {
    "duration": 10,
    "start_time": "2021-10-07T09:26:10.885Z"
   },
   {
    "duration": 12,
    "start_time": "2021-10-07T09:28:24.400Z"
   },
   {
    "duration": 12,
    "start_time": "2021-10-07T09:28:32.718Z"
   },
   {
    "duration": 6,
    "start_time": "2021-10-07T09:31:13.554Z"
   },
   {
    "duration": 239,
    "start_time": "2021-10-07T09:31:22.462Z"
   },
   {
    "duration": 6,
    "start_time": "2021-10-07T09:31:30.215Z"
   },
   {
    "duration": 4,
    "start_time": "2021-10-07T09:32:16.244Z"
   },
   {
    "duration": 12,
    "start_time": "2021-10-07T09:32:19.746Z"
   },
   {
    "duration": 10,
    "start_time": "2021-10-07T09:32:32.270Z"
   },
   {
    "duration": 10,
    "start_time": "2021-10-07T09:32:46.940Z"
   },
   {
    "duration": 11,
    "start_time": "2021-10-07T09:49:35.245Z"
   },
   {
    "duration": 4,
    "start_time": "2021-10-07T09:52:21.528Z"
   },
   {
    "duration": 3,
    "start_time": "2021-10-07T09:52:40.023Z"
   },
   {
    "duration": 4,
    "start_time": "2021-10-07T09:52:49.652Z"
   },
   {
    "duration": 189,
    "start_time": "2021-10-07T09:53:43.147Z"
   },
   {
    "duration": 4,
    "start_time": "2021-10-07T09:53:43.483Z"
   },
   {
    "duration": 1180,
    "start_time": "2021-10-07T09:53:43.742Z"
   },
   {
    "duration": 455,
    "start_time": "2021-10-07T09:53:50.073Z"
   },
   {
    "duration": -5,
    "start_time": "2021-10-07T09:53:50.535Z"
   },
   {
    "duration": 1301,
    "start_time": "2021-10-07T09:53:51.901Z"
   },
   {
    "duration": 177,
    "start_time": "2021-10-07T09:54:09.060Z"
   },
   {
    "duration": 9,
    "start_time": "2021-10-07T09:54:09.481Z"
   },
   {
    "duration": 510,
    "start_time": "2021-10-07T09:54:09.993Z"
   },
   {
    "duration": 8,
    "start_time": "2021-10-07T09:54:19.064Z"
   },
   {
    "duration": 1280,
    "start_time": "2021-10-07T09:54:20.562Z"
   },
   {
    "duration": 300,
    "start_time": "2021-10-07T09:55:19.215Z"
   },
   {
    "duration": 1297,
    "start_time": "2021-10-07T10:04:41.835Z"
   },
   {
    "duration": 364,
    "start_time": "2021-10-07T10:09:52.350Z"
   },
   {
    "duration": 255,
    "start_time": "2021-10-07T10:10:05.343Z"
   },
   {
    "duration": 261,
    "start_time": "2021-10-07T10:10:14.064Z"
   },
   {
    "duration": 496,
    "start_time": "2021-10-07T10:10:45.832Z"
   },
   {
    "duration": 186,
    "start_time": "2021-10-07T10:10:51.081Z"
   },
   {
    "duration": 265,
    "start_time": "2021-10-07T10:11:31.664Z"
   },
   {
    "duration": 260,
    "start_time": "2021-10-07T10:11:40.095Z"
   },
   {
    "duration": 266,
    "start_time": "2021-10-07T10:11:53.734Z"
   },
   {
    "duration": 253,
    "start_time": "2021-10-07T10:13:08.268Z"
   },
   {
    "duration": 97,
    "start_time": "2021-10-07T10:13:20.102Z"
   },
   {
    "duration": 254,
    "start_time": "2021-10-07T10:13:22.502Z"
   },
   {
    "duration": -109,
    "start_time": "2021-10-07T10:13:48.116Z"
   },
   {
    "duration": 6264,
    "start_time": "2021-10-07T10:14:03.020Z"
   },
   {
    "duration": 170,
    "start_time": "2021-10-07T10:14:14.622Z"
   },
   {
    "duration": 174,
    "start_time": "2021-10-07T10:14:23.192Z"
   },
   {
    "duration": 159,
    "start_time": "2021-10-07T10:14:28.557Z"
   },
   {
    "duration": 264,
    "start_time": "2021-10-07T10:14:38.777Z"
   },
   {
    "duration": 159,
    "start_time": "2021-10-07T10:14:42.147Z"
   },
   {
    "duration": 84,
    "start_time": "2021-10-07T10:14:45.735Z"
   },
   {
    "duration": 167,
    "start_time": "2021-10-07T10:14:53.062Z"
   },
   {
    "duration": 9,
    "start_time": "2021-10-07T10:15:01.205Z"
   },
   {
    "duration": 65,
    "start_time": "2021-10-07T10:15:09.288Z"
   },
   {
    "duration": 77,
    "start_time": "2021-10-07T10:15:13.958Z"
   },
   {
    "duration": 251,
    "start_time": "2021-10-07T10:16:03.504Z"
   },
   {
    "duration": 255,
    "start_time": "2021-10-07T10:16:16.475Z"
   },
   {
    "duration": 256,
    "start_time": "2021-10-07T10:16:19.128Z"
   },
   {
    "duration": 270,
    "start_time": "2021-10-07T10:16:28.562Z"
   },
   {
    "duration": 274,
    "start_time": "2021-10-07T10:16:30.789Z"
   },
   {
    "duration": 327,
    "start_time": "2021-10-07T10:16:40.111Z"
   },
   {
    "duration": 329,
    "start_time": "2021-10-07T10:16:49.562Z"
   },
   {
    "duration": 266,
    "start_time": "2021-10-07T10:16:56.428Z"
   },
   {
    "duration": 254,
    "start_time": "2021-10-07T10:18:17.546Z"
   },
   {
    "duration": 254,
    "start_time": "2021-10-07T10:18:40.885Z"
   },
   {
    "duration": 562,
    "start_time": "2021-10-07T10:18:55.262Z"
   },
   {
    "duration": 1493,
    "start_time": "2021-10-07T10:19:08.507Z"
   },
   {
    "duration": 95,
    "start_time": "2021-10-07T10:19:10.003Z"
   },
   {
    "duration": 3,
    "start_time": "2021-10-07T10:19:10.101Z"
   },
   {
    "duration": 26,
    "start_time": "2021-10-07T10:19:10.106Z"
   },
   {
    "duration": 30,
    "start_time": "2021-10-07T10:19:10.134Z"
   },
   {
    "duration": 63484,
    "start_time": "2021-10-07T10:19:10.166Z"
   },
   {
    "duration": -62,
    "start_time": "2021-10-07T10:20:13.717Z"
   },
   {
    "duration": -64,
    "start_time": "2021-10-07T10:20:13.721Z"
   },
   {
    "duration": -64,
    "start_time": "2021-10-07T10:20:13.723Z"
   },
   {
    "duration": -66,
    "start_time": "2021-10-07T10:20:13.726Z"
   },
   {
    "duration": -65,
    "start_time": "2021-10-07T10:20:13.727Z"
   },
   {
    "duration": -65,
    "start_time": "2021-10-07T10:20:13.728Z"
   },
   {
    "duration": -66,
    "start_time": "2021-10-07T10:20:13.730Z"
   },
   {
    "duration": -65,
    "start_time": "2021-10-07T10:20:13.731Z"
   },
   {
    "duration": -65,
    "start_time": "2021-10-07T10:20:13.732Z"
   },
   {
    "duration": -65,
    "start_time": "2021-10-07T10:20:13.733Z"
   },
   {
    "duration": -65,
    "start_time": "2021-10-07T10:20:13.734Z"
   },
   {
    "duration": -64,
    "start_time": "2021-10-07T10:20:13.735Z"
   },
   {
    "duration": -65,
    "start_time": "2021-10-07T10:20:13.737Z"
   },
   {
    "duration": -65,
    "start_time": "2021-10-07T10:20:13.738Z"
   },
   {
    "duration": -64,
    "start_time": "2021-10-07T10:20:13.738Z"
   },
   {
    "duration": -64,
    "start_time": "2021-10-07T10:20:13.739Z"
   },
   {
    "duration": -63,
    "start_time": "2021-10-07T10:20:13.740Z"
   },
   {
    "duration": -63,
    "start_time": "2021-10-07T10:20:13.741Z"
   },
   {
    "duration": -63,
    "start_time": "2021-10-07T10:20:13.742Z"
   },
   {
    "duration": -67,
    "start_time": "2021-10-07T10:20:13.747Z"
   },
   {
    "duration": -67,
    "start_time": "2021-10-07T10:20:13.748Z"
   },
   {
    "duration": -67,
    "start_time": "2021-10-07T10:20:13.750Z"
   },
   {
    "duration": -67,
    "start_time": "2021-10-07T10:20:13.751Z"
   },
   {
    "duration": -68,
    "start_time": "2021-10-07T10:20:13.753Z"
   },
   {
    "duration": -67,
    "start_time": "2021-10-07T10:20:13.753Z"
   },
   {
    "duration": -67,
    "start_time": "2021-10-07T10:20:13.754Z"
   },
   {
    "duration": -66,
    "start_time": "2021-10-07T10:20:13.755Z"
   },
   {
    "duration": -37,
    "start_time": "2021-10-07T10:20:13.759Z"
   },
   {
    "duration": -37,
    "start_time": "2021-10-07T10:20:13.760Z"
   },
   {
    "duration": -36,
    "start_time": "2021-10-07T10:20:13.761Z"
   },
   {
    "duration": -37,
    "start_time": "2021-10-07T10:20:13.763Z"
   },
   {
    "duration": -38,
    "start_time": "2021-10-07T10:20:13.765Z"
   },
   {
    "duration": -37,
    "start_time": "2021-10-07T10:20:13.766Z"
   },
   {
    "duration": -37,
    "start_time": "2021-10-07T10:20:13.767Z"
   },
   {
    "duration": -37,
    "start_time": "2021-10-07T10:20:13.768Z"
   },
   {
    "duration": -39,
    "start_time": "2021-10-07T10:20:13.772Z"
   },
   {
    "duration": -39,
    "start_time": "2021-10-07T10:20:13.773Z"
   },
   {
    "duration": -92,
    "start_time": "2021-10-07T10:20:13.827Z"
   },
   {
    "duration": -95,
    "start_time": "2021-10-07T10:20:13.831Z"
   },
   {
    "duration": -95,
    "start_time": "2021-10-07T10:20:13.832Z"
   },
   {
    "duration": -99,
    "start_time": "2021-10-07T10:20:13.838Z"
   },
   {
    "duration": -104,
    "start_time": "2021-10-07T10:20:13.844Z"
   },
   {
    "duration": -104,
    "start_time": "2021-10-07T10:20:13.845Z"
   },
   {
    "duration": -102,
    "start_time": "2021-10-07T10:20:13.845Z"
   },
   {
    "duration": -102,
    "start_time": "2021-10-07T10:20:13.846Z"
   },
   {
    "duration": -103,
    "start_time": "2021-10-07T10:20:13.849Z"
   },
   {
    "duration": -105,
    "start_time": "2021-10-07T10:20:13.852Z"
   },
   {
    "duration": -104,
    "start_time": "2021-10-07T10:20:13.853Z"
   },
   {
    "duration": -108,
    "start_time": "2021-10-07T10:20:13.858Z"
   },
   {
    "duration": -108,
    "start_time": "2021-10-07T10:20:13.859Z"
   },
   {
    "duration": -108,
    "start_time": "2021-10-07T10:20:13.861Z"
   },
   {
    "duration": -108,
    "start_time": "2021-10-07T10:20:13.862Z"
   },
   {
    "duration": -108,
    "start_time": "2021-10-07T10:20:13.864Z"
   },
   {
    "duration": -108,
    "start_time": "2021-10-07T10:20:13.865Z"
   },
   {
    "duration": -108,
    "start_time": "2021-10-07T10:20:13.866Z"
   },
   {
    "duration": 1437,
    "start_time": "2021-10-07T10:20:23.151Z"
   },
   {
    "duration": 92,
    "start_time": "2021-10-07T10:20:24.591Z"
   },
   {
    "duration": 3,
    "start_time": "2021-10-07T10:20:24.686Z"
   },
   {
    "duration": 9,
    "start_time": "2021-10-07T10:20:24.692Z"
   },
   {
    "duration": 26,
    "start_time": "2021-10-07T10:20:24.704Z"
   },
   {
    "duration": 84891,
    "start_time": "2021-10-07T10:20:24.733Z"
   },
   {
    "duration": 7,
    "start_time": "2021-10-07T10:21:49.626Z"
   },
   {
    "duration": 25,
    "start_time": "2021-10-07T10:21:49.636Z"
   },
   {
    "duration": 34,
    "start_time": "2021-10-07T10:21:49.664Z"
   },
   {
    "duration": 37,
    "start_time": "2021-10-07T10:21:49.701Z"
   },
   {
    "duration": 30,
    "start_time": "2021-10-07T10:21:49.741Z"
   },
   {
    "duration": 36,
    "start_time": "2021-10-07T10:21:49.774Z"
   },
   {
    "duration": 596,
    "start_time": "2021-10-07T10:21:49.813Z"
   },
   {
    "duration": 487,
    "start_time": "2021-10-07T10:21:50.411Z"
   },
   {
    "duration": 21,
    "start_time": "2021-10-07T10:21:50.901Z"
   },
   {
    "duration": 511,
    "start_time": "2021-10-07T10:21:50.924Z"
   },
   {
    "duration": 887,
    "start_time": "2021-10-07T10:21:51.438Z"
   },
   {
    "duration": 3,
    "start_time": "2021-10-07T10:21:52.327Z"
   },
   {
    "duration": 383,
    "start_time": "2021-10-07T10:21:52.332Z"
   },
   {
    "duration": -11,
    "start_time": "2021-10-07T10:21:52.822Z"
   },
   {
    "duration": -13,
    "start_time": "2021-10-07T10:21:52.826Z"
   },
   {
    "duration": -16,
    "start_time": "2021-10-07T10:21:52.830Z"
   },
   {
    "duration": -18,
    "start_time": "2021-10-07T10:21:52.833Z"
   },
   {
    "duration": -18,
    "start_time": "2021-10-07T10:21:52.835Z"
   },
   {
    "duration": -15,
    "start_time": "2021-10-07T10:21:52.837Z"
   },
   {
    "duration": -16,
    "start_time": "2021-10-07T10:21:52.839Z"
   },
   {
    "duration": -15,
    "start_time": "2021-10-07T10:21:52.840Z"
   },
   {
    "duration": -16,
    "start_time": "2021-10-07T10:21:52.842Z"
   },
   {
    "duration": -16,
    "start_time": "2021-10-07T10:21:52.844Z"
   },
   {
    "duration": -16,
    "start_time": "2021-10-07T10:21:52.845Z"
   },
   {
    "duration": -16,
    "start_time": "2021-10-07T10:21:52.847Z"
   },
   {
    "duration": -18,
    "start_time": "2021-10-07T10:21:52.850Z"
   },
   {
    "duration": -18,
    "start_time": "2021-10-07T10:21:52.852Z"
   },
   {
    "duration": -18,
    "start_time": "2021-10-07T10:21:52.853Z"
   },
   {
    "duration": -20,
    "start_time": "2021-10-07T10:21:52.856Z"
   },
   {
    "duration": -20,
    "start_time": "2021-10-07T10:21:52.858Z"
   },
   {
    "duration": -20,
    "start_time": "2021-10-07T10:21:52.859Z"
   },
   {
    "duration": -20,
    "start_time": "2021-10-07T10:21:52.860Z"
   },
   {
    "duration": -22,
    "start_time": "2021-10-07T10:21:52.864Z"
   },
   {
    "duration": -25,
    "start_time": "2021-10-07T10:21:52.868Z"
   },
   {
    "duration": -84,
    "start_time": "2021-10-07T10:21:52.928Z"
   },
   {
    "duration": -86,
    "start_time": "2021-10-07T10:21:52.932Z"
   },
   {
    "duration": -86,
    "start_time": "2021-10-07T10:21:52.933Z"
   },
   {
    "duration": -86,
    "start_time": "2021-10-07T10:21:52.934Z"
   },
   {
    "duration": -87,
    "start_time": "2021-10-07T10:21:52.937Z"
   },
   {
    "duration": -87,
    "start_time": "2021-10-07T10:21:52.938Z"
   },
   {
    "duration": -88,
    "start_time": "2021-10-07T10:21:52.940Z"
   },
   {
    "duration": -90,
    "start_time": "2021-10-07T10:21:52.944Z"
   },
   {
    "duration": -90,
    "start_time": "2021-10-07T10:21:52.945Z"
   },
   {
    "duration": -91,
    "start_time": "2021-10-07T10:21:52.948Z"
   },
   {
    "duration": -91,
    "start_time": "2021-10-07T10:21:52.949Z"
   },
   {
    "duration": -92,
    "start_time": "2021-10-07T10:21:52.951Z"
   },
   {
    "duration": -92,
    "start_time": "2021-10-07T10:21:52.952Z"
   },
   {
    "duration": -92,
    "start_time": "2021-10-07T10:21:52.954Z"
   },
   {
    "duration": -93,
    "start_time": "2021-10-07T10:21:52.956Z"
   },
   {
    "duration": -94,
    "start_time": "2021-10-07T10:21:52.958Z"
   },
   {
    "duration": -96,
    "start_time": "2021-10-07T10:21:52.961Z"
   },
   {
    "duration": -41,
    "start_time": "2021-10-07T10:21:52.963Z"
   },
   {
    "duration": -41,
    "start_time": "2021-10-07T10:21:52.964Z"
   },
   {
    "duration": -43,
    "start_time": "2021-10-07T10:21:52.968Z"
   },
   {
    "duration": -43,
    "start_time": "2021-10-07T10:21:52.969Z"
   },
   {
    "duration": -44,
    "start_time": "2021-10-07T10:21:52.971Z"
   },
   {
    "duration": 169,
    "start_time": "2021-10-07T10:27:50.399Z"
   },
   {
    "duration": 3,
    "start_time": "2021-10-07T10:27:51.560Z"
   },
   {
    "duration": 9,
    "start_time": "2021-10-07T10:27:51.939Z"
   },
   {
    "duration": 3,
    "start_time": "2021-10-07T10:27:52.309Z"
   },
   {
    "duration": 25,
    "start_time": "2021-10-07T10:27:53.716Z"
   },
   {
    "duration": 26,
    "start_time": "2021-10-07T10:27:54.233Z"
   },
   {
    "duration": 4,
    "start_time": "2021-10-07T10:27:55.529Z"
   },
   {
    "duration": 258,
    "start_time": "2021-10-07T10:27:57.263Z"
   },
   {
    "duration": -22,
    "start_time": "2021-10-07T10:27:57.546Z"
   },
   {
    "duration": 6,
    "start_time": "2021-10-07T10:27:57.680Z"
   },
   {
    "duration": 372,
    "start_time": "2021-10-07T10:28:03.295Z"
   },
   {
    "duration": 299,
    "start_time": "2021-10-07T10:28:42.732Z"
   },
   {
    "duration": 283,
    "start_time": "2021-10-07T10:28:53.376Z"
   },
   {
    "duration": 274,
    "start_time": "2021-10-07T10:29:12.779Z"
   },
   {
    "duration": 250,
    "start_time": "2021-10-07T10:29:35.071Z"
   },
   {
    "duration": 35,
    "start_time": "2021-10-07T10:29:38.894Z"
   },
   {
    "duration": 34,
    "start_time": "2021-10-07T10:29:43.636Z"
   },
   {
    "duration": 5,
    "start_time": "2021-10-07T10:29:49.115Z"
   },
   {
    "duration": 22,
    "start_time": "2021-10-07T10:29:51.387Z"
   },
   {
    "duration": 240,
    "start_time": "2021-10-07T10:30:20.920Z"
   },
   {
    "duration": 27,
    "start_time": "2021-10-07T10:30:28.677Z"
   },
   {
    "duration": 6,
    "start_time": "2021-10-07T10:30:31.470Z"
   },
   {
    "duration": 1449,
    "start_time": "2021-10-07T10:30:43.637Z"
   },
   {
    "duration": 92,
    "start_time": "2021-10-07T10:30:45.088Z"
   },
   {
    "duration": 3,
    "start_time": "2021-10-07T10:30:45.184Z"
   },
   {
    "duration": 11,
    "start_time": "2021-10-07T10:30:45.190Z"
   },
   {
    "duration": 29,
    "start_time": "2021-10-07T10:30:45.203Z"
   },
   {
    "duration": 84806,
    "start_time": "2021-10-07T10:30:45.234Z"
   },
   {
    "duration": 7,
    "start_time": "2021-10-07T10:32:10.042Z"
   },
   {
    "duration": 24,
    "start_time": "2021-10-07T10:32:10.052Z"
   },
   {
    "duration": 36,
    "start_time": "2021-10-07T10:32:10.079Z"
   },
   {
    "duration": 38,
    "start_time": "2021-10-07T10:32:10.117Z"
   },
   {
    "duration": 8,
    "start_time": "2021-10-07T10:32:10.157Z"
   },
   {
    "duration": 42,
    "start_time": "2021-10-07T10:32:10.167Z"
   },
   {
    "duration": 554,
    "start_time": "2021-10-07T10:32:10.212Z"
   },
   {
    "duration": 558,
    "start_time": "2021-10-07T10:32:10.769Z"
   },
   {
    "duration": 9,
    "start_time": "2021-10-07T10:32:11.329Z"
   },
   {
    "duration": 555,
    "start_time": "2021-10-07T10:32:11.340Z"
   },
   {
    "duration": 980,
    "start_time": "2021-10-07T10:32:11.898Z"
   },
   {
    "duration": 3,
    "start_time": "2021-10-07T10:32:12.881Z"
   },
   {
    "duration": 209,
    "start_time": "2021-10-07T10:32:12.887Z"
   },
   {
    "duration": 4,
    "start_time": "2021-10-07T10:32:13.098Z"
   },
   {
    "duration": 22,
    "start_time": "2021-10-07T10:32:13.104Z"
   },
   {
    "duration": 13,
    "start_time": "2021-10-07T10:32:13.128Z"
   },
   {
    "duration": 23,
    "start_time": "2021-10-07T10:32:13.231Z"
   },
   {
    "duration": 33,
    "start_time": "2021-10-07T10:32:13.257Z"
   },
   {
    "duration": 14,
    "start_time": "2021-10-07T10:32:13.293Z"
   },
   {
    "duration": 39,
    "start_time": "2021-10-07T10:32:13.309Z"
   },
   {
    "duration": 388,
    "start_time": "2021-10-07T10:32:13.351Z"
   },
   {
    "duration": -110,
    "start_time": "2021-10-07T10:32:13.852Z"
   },
   {
    "duration": -110,
    "start_time": "2021-10-07T10:32:13.854Z"
   },
   {
    "duration": -111,
    "start_time": "2021-10-07T10:32:13.857Z"
   },
   {
    "duration": -109,
    "start_time": "2021-10-07T10:32:13.858Z"
   },
   {
    "duration": -109,
    "start_time": "2021-10-07T10:32:13.860Z"
   },
   {
    "duration": -108,
    "start_time": "2021-10-07T10:32:13.861Z"
   },
   {
    "duration": -109,
    "start_time": "2021-10-07T10:32:13.864Z"
   },
   {
    "duration": -108,
    "start_time": "2021-10-07T10:32:13.866Z"
   },
   {
    "duration": -107,
    "start_time": "2021-10-07T10:32:13.867Z"
   },
   {
    "duration": -107,
    "start_time": "2021-10-07T10:32:13.869Z"
   },
   {
    "duration": -105,
    "start_time": "2021-10-07T10:32:13.870Z"
   },
   {
    "duration": -105,
    "start_time": "2021-10-07T10:32:13.872Z"
   },
   {
    "duration": -104,
    "start_time": "2021-10-07T10:32:13.873Z"
   },
   {
    "duration": -103,
    "start_time": "2021-10-07T10:32:13.874Z"
   },
   {
    "duration": -102,
    "start_time": "2021-10-07T10:32:13.875Z"
   },
   {
    "duration": -100,
    "start_time": "2021-10-07T10:32:13.876Z"
   },
   {
    "duration": -99,
    "start_time": "2021-10-07T10:32:13.877Z"
   },
   {
    "duration": -57,
    "start_time": "2021-10-07T10:32:13.879Z"
   },
   {
    "duration": -55,
    "start_time": "2021-10-07T10:32:13.880Z"
   },
   {
    "duration": -54,
    "start_time": "2021-10-07T10:32:13.881Z"
   },
   {
    "duration": -53,
    "start_time": "2021-10-07T10:32:13.882Z"
   },
   {
    "duration": -55,
    "start_time": "2021-10-07T10:32:13.886Z"
   },
   {
    "duration": -54,
    "start_time": "2021-10-07T10:32:13.888Z"
   },
   {
    "duration": -54,
    "start_time": "2021-10-07T10:32:13.890Z"
   },
   {
    "duration": -85,
    "start_time": "2021-10-07T10:32:13.923Z"
   },
   {
    "duration": -85,
    "start_time": "2021-10-07T10:32:13.925Z"
   },
   {
    "duration": -85,
    "start_time": "2021-10-07T10:32:13.927Z"
   },
   {
    "duration": -87,
    "start_time": "2021-10-07T10:32:13.931Z"
   },
   {
    "duration": -86,
    "start_time": "2021-10-07T10:32:13.933Z"
   },
   {
    "duration": -85,
    "start_time": "2021-10-07T10:32:13.934Z"
   },
   {
    "duration": -83,
    "start_time": "2021-10-07T10:32:13.935Z"
   },
   {
    "duration": -83,
    "start_time": "2021-10-07T10:32:13.937Z"
   },
   {
    "duration": -83,
    "start_time": "2021-10-07T10:32:13.939Z"
   },
   {
    "duration": -82,
    "start_time": "2021-10-07T10:32:13.941Z"
   },
   {
    "duration": -83,
    "start_time": "2021-10-07T10:32:13.944Z"
   },
   {
    "duration": -21,
    "start_time": "2021-10-07T10:32:13.945Z"
   },
   {
    "duration": -23,
    "start_time": "2021-10-07T10:32:13.949Z"
   },
   {
    "duration": 5,
    "start_time": "2021-10-07T10:32:20.082Z"
   },
   {
    "duration": 6,
    "start_time": "2021-10-07T10:32:30.268Z"
   },
   {
    "duration": 1454,
    "start_time": "2021-10-07T10:32:53.486Z"
   },
   {
    "duration": 94,
    "start_time": "2021-10-07T10:32:54.943Z"
   },
   {
    "duration": 4,
    "start_time": "2021-10-07T10:32:55.045Z"
   },
   {
    "duration": 31,
    "start_time": "2021-10-07T10:32:55.052Z"
   },
   {
    "duration": 31,
    "start_time": "2021-10-07T10:32:55.086Z"
   },
   {
    "duration": 84723,
    "start_time": "2021-10-07T10:32:55.120Z"
   },
   {
    "duration": 7,
    "start_time": "2021-10-07T10:34:19.847Z"
   },
   {
    "duration": 9,
    "start_time": "2021-10-07T10:34:19.857Z"
   },
   {
    "duration": 16,
    "start_time": "2021-10-07T10:34:19.869Z"
   },
   {
    "duration": 14,
    "start_time": "2021-10-07T10:34:19.888Z"
   },
   {
    "duration": 23,
    "start_time": "2021-10-07T10:34:19.904Z"
   },
   {
    "duration": 16,
    "start_time": "2021-10-07T10:34:19.930Z"
   },
   {
    "duration": 553,
    "start_time": "2021-10-07T10:34:19.948Z"
   },
   {
    "duration": 478,
    "start_time": "2021-10-07T10:34:20.504Z"
   },
   {
    "duration": 10,
    "start_time": "2021-10-07T10:34:20.985Z"
   },
   {
    "duration": 634,
    "start_time": "2021-10-07T10:34:20.998Z"
   },
   {
    "duration": 888,
    "start_time": "2021-10-07T10:34:21.635Z"
   },
   {
    "duration": 3,
    "start_time": "2021-10-07T10:34:22.525Z"
   },
   {
    "duration": 188,
    "start_time": "2021-10-07T10:34:22.530Z"
   },
   {
    "duration": 4,
    "start_time": "2021-10-07T10:34:22.720Z"
   },
   {
    "duration": 12,
    "start_time": "2021-10-07T10:34:22.727Z"
   },
   {
    "duration": 3,
    "start_time": "2021-10-07T10:34:22.838Z"
   },
   {
    "duration": 29,
    "start_time": "2021-10-07T10:34:22.845Z"
   },
   {
    "duration": 52,
    "start_time": "2021-10-07T10:34:22.877Z"
   },
   {
    "duration": 3,
    "start_time": "2021-10-07T10:34:22.932Z"
   },
   {
    "duration": 164,
    "start_time": "2021-10-07T10:34:22.938Z"
   },
   {
    "duration": 758,
    "start_time": "2021-10-07T10:34:23.104Z"
   },
   {
    "duration": -40,
    "start_time": "2021-10-07T10:34:23.904Z"
   },
   {
    "duration": -40,
    "start_time": "2021-10-07T10:34:23.906Z"
   },
   {
    "duration": -42,
    "start_time": "2021-10-07T10:34:23.909Z"
   },
   {
    "duration": -42,
    "start_time": "2021-10-07T10:34:23.910Z"
   },
   {
    "duration": -42,
    "start_time": "2021-10-07T10:34:23.912Z"
   },
   {
    "duration": -42,
    "start_time": "2021-10-07T10:34:23.913Z"
   },
   {
    "duration": -43,
    "start_time": "2021-10-07T10:34:23.915Z"
   },
   {
    "duration": -42,
    "start_time": "2021-10-07T10:34:23.916Z"
   },
   {
    "duration": -42,
    "start_time": "2021-10-07T10:34:23.917Z"
   },
   {
    "duration": -42,
    "start_time": "2021-10-07T10:34:23.918Z"
   },
   {
    "duration": -43,
    "start_time": "2021-10-07T10:34:23.920Z"
   },
   {
    "duration": -42,
    "start_time": "2021-10-07T10:34:23.921Z"
   },
   {
    "duration": -42,
    "start_time": "2021-10-07T10:34:23.922Z"
   },
   {
    "duration": -45,
    "start_time": "2021-10-07T10:34:23.926Z"
   },
   {
    "duration": -46,
    "start_time": "2021-10-07T10:34:23.928Z"
   },
   {
    "duration": -46,
    "start_time": "2021-10-07T10:34:23.930Z"
   },
   {
    "duration": -49,
    "start_time": "2021-10-07T10:34:23.934Z"
   },
   {
    "duration": -48,
    "start_time": "2021-10-07T10:34:23.935Z"
   },
   {
    "duration": -48,
    "start_time": "2021-10-07T10:34:23.936Z"
   },
   {
    "duration": -48,
    "start_time": "2021-10-07T10:34:23.937Z"
   },
   {
    "duration": -48,
    "start_time": "2021-10-07T10:34:23.938Z"
   },
   {
    "duration": -47,
    "start_time": "2021-10-07T10:34:23.939Z"
   },
   {
    "duration": -47,
    "start_time": "2021-10-07T10:34:23.940Z"
   },
   {
    "duration": -49,
    "start_time": "2021-10-07T10:34:23.943Z"
   },
   {
    "duration": -49,
    "start_time": "2021-10-07T10:34:23.944Z"
   },
   {
    "duration": -52,
    "start_time": "2021-10-07T10:34:23.949Z"
   },
   {
    "duration": -53,
    "start_time": "2021-10-07T10:34:23.951Z"
   },
   {
    "duration": -53,
    "start_time": "2021-10-07T10:34:23.952Z"
   },
   {
    "duration": -54,
    "start_time": "2021-10-07T10:34:23.954Z"
   },
   {
    "duration": -52,
    "start_time": "2021-10-07T10:34:23.954Z"
   },
   {
    "duration": -33,
    "start_time": "2021-10-07T10:34:23.958Z"
   },
   {
    "duration": -34,
    "start_time": "2021-10-07T10:34:23.961Z"
   },
   {
    "duration": -34,
    "start_time": "2021-10-07T10:34:23.962Z"
   },
   {
    "duration": -37,
    "start_time": "2021-10-07T10:34:23.966Z"
   },
   {
    "duration": -36,
    "start_time": "2021-10-07T10:34:23.967Z"
   },
   {
    "duration": -36,
    "start_time": "2021-10-07T10:34:23.968Z"
   },
   {
    "duration": -36,
    "start_time": "2021-10-07T10:34:23.969Z"
   },
   {
    "duration": -36,
    "start_time": "2021-10-07T10:34:23.971Z"
   },
   {
    "duration": 6,
    "start_time": "2021-10-07T10:53:15.771Z"
   },
   {
    "duration": 5,
    "start_time": "2021-10-07T10:53:25.370Z"
   },
   {
    "duration": 9,
    "start_time": "2021-10-07T10:53:25.754Z"
   },
   {
    "duration": 11,
    "start_time": "2021-10-07T10:53:28.029Z"
   },
   {
    "duration": 32,
    "start_time": "2021-10-07T10:53:29.548Z"
   },
   {
    "duration": 7,
    "start_time": "2021-10-07T10:53:39.464Z"
   },
   {
    "duration": 82,
    "start_time": "2021-10-07T10:53:45.366Z"
   },
   {
    "duration": 69,
    "start_time": "2021-10-07T10:53:57.456Z"
   },
   {
    "duration": 70,
    "start_time": "2021-10-07T10:54:02.237Z"
   },
   {
    "duration": 426,
    "start_time": "2021-10-07T10:54:38.194Z"
   },
   {
    "duration": 78,
    "start_time": "2021-10-07T10:55:06.846Z"
   },
   {
    "duration": 73,
    "start_time": "2021-10-07T10:55:16.356Z"
   },
   {
    "duration": 256,
    "start_time": "2021-10-07T10:55:37.132Z"
   },
   {
    "duration": 80,
    "start_time": "2021-10-07T10:55:45.704Z"
   },
   {
    "duration": 267,
    "start_time": "2021-10-07T10:55:47.948Z"
   },
   {
    "duration": 64,
    "start_time": "2021-10-07T10:56:01.892Z"
   },
   {
    "duration": 260,
    "start_time": "2021-10-07T10:56:15.855Z"
   },
   {
    "duration": 67,
    "start_time": "2021-10-07T10:56:22.026Z"
   },
   {
    "duration": 70,
    "start_time": "2021-10-07T10:56:31.010Z"
   },
   {
    "duration": 67,
    "start_time": "2021-10-07T10:56:47.063Z"
   },
   {
    "duration": 3,
    "start_time": "2021-10-07T10:58:15.275Z"
   },
   {
    "duration": 66,
    "start_time": "2021-10-07T10:58:15.711Z"
   },
   {
    "duration": 65,
    "start_time": "2021-10-07T10:58:26.767Z"
   },
   {
    "duration": 49,
    "start_time": "2021-10-07T10:58:40.110Z"
   },
   {
    "duration": 1480,
    "start_time": "2021-10-07T11:00:04.213Z"
   },
   {
    "duration": 93,
    "start_time": "2021-10-07T11:00:05.696Z"
   },
   {
    "duration": 12,
    "start_time": "2021-10-07T11:00:05.792Z"
   },
   {
    "duration": 11,
    "start_time": "2021-10-07T11:00:05.822Z"
   },
   {
    "duration": 26,
    "start_time": "2021-10-07T11:00:05.836Z"
   },
   {
    "duration": 85036,
    "start_time": "2021-10-07T11:00:05.865Z"
   },
   {
    "duration": 20,
    "start_time": "2021-10-07T11:01:30.903Z"
   },
   {
    "duration": 57,
    "start_time": "2021-10-07T11:01:30.927Z"
   },
   {
    "duration": 75,
    "start_time": "2021-10-07T11:01:30.987Z"
   },
   {
    "duration": 127,
    "start_time": "2021-10-07T11:01:31.064Z"
   },
   {
    "duration": 65,
    "start_time": "2021-10-07T11:01:31.193Z"
   },
   {
    "duration": 64,
    "start_time": "2021-10-07T11:01:31.261Z"
   },
   {
    "duration": 613,
    "start_time": "2021-10-07T11:01:31.328Z"
   },
   {
    "duration": 487,
    "start_time": "2021-10-07T11:01:31.944Z"
   },
   {
    "duration": 9,
    "start_time": "2021-10-07T11:01:32.433Z"
   },
   {
    "duration": 580,
    "start_time": "2021-10-07T11:01:32.444Z"
   },
   {
    "duration": 885,
    "start_time": "2021-10-07T11:01:33.027Z"
   },
   {
    "duration": 8,
    "start_time": "2021-10-07T11:01:33.914Z"
   },
   {
    "duration": 195,
    "start_time": "2021-10-07T11:01:33.925Z"
   },
   {
    "duration": 4,
    "start_time": "2021-10-07T11:01:34.122Z"
   },
   {
    "duration": 42,
    "start_time": "2021-10-07T11:01:34.128Z"
   },
   {
    "duration": 16,
    "start_time": "2021-10-07T11:01:34.172Z"
   },
   {
    "duration": 26,
    "start_time": "2021-10-07T11:01:34.274Z"
   },
   {
    "duration": 61,
    "start_time": "2021-10-07T11:01:34.304Z"
   },
   {
    "duration": 30,
    "start_time": "2021-10-07T11:01:34.367Z"
   },
   {
    "duration": 174,
    "start_time": "2021-10-07T11:01:34.400Z"
   },
   {
    "duration": 7,
    "start_time": "2021-10-07T11:01:34.576Z"
   },
   {
    "duration": 41,
    "start_time": "2021-10-07T11:01:34.586Z"
   },
   {
    "duration": 36,
    "start_time": "2021-10-07T11:01:34.630Z"
   },
   {
    "duration": 26,
    "start_time": "2021-10-07T11:01:34.668Z"
   },
   {
    "duration": 45,
    "start_time": "2021-10-07T11:01:34.697Z"
   },
   {
    "duration": 109,
    "start_time": "2021-10-07T11:01:34.745Z"
   },
   {
    "duration": 374,
    "start_time": "2021-10-07T11:01:34.856Z"
   },
   {
    "duration": -85,
    "start_time": "2021-10-07T11:01:35.317Z"
   },
   {
    "duration": -85,
    "start_time": "2021-10-07T11:01:35.319Z"
   },
   {
    "duration": -86,
    "start_time": "2021-10-07T11:01:35.321Z"
   },
   {
    "duration": -87,
    "start_time": "2021-10-07T11:01:35.324Z"
   },
   {
    "duration": -88,
    "start_time": "2021-10-07T11:01:35.326Z"
   },
   {
    "duration": -88,
    "start_time": "2021-10-07T11:01:35.328Z"
   },
   {
    "duration": -88,
    "start_time": "2021-10-07T11:01:35.330Z"
   },
   {
    "duration": -92,
    "start_time": "2021-10-07T11:01:35.335Z"
   },
   {
    "duration": -92,
    "start_time": "2021-10-07T11:01:35.337Z"
   },
   {
    "duration": -92,
    "start_time": "2021-10-07T11:01:35.338Z"
   },
   {
    "duration": -93,
    "start_time": "2021-10-07T11:01:35.340Z"
   },
   {
    "duration": -94,
    "start_time": "2021-10-07T11:01:35.343Z"
   },
   {
    "duration": -94,
    "start_time": "2021-10-07T11:01:35.344Z"
   },
   {
    "duration": -95,
    "start_time": "2021-10-07T11:01:35.346Z"
   },
   {
    "duration": -96,
    "start_time": "2021-10-07T11:01:35.348Z"
   },
   {
    "duration": -95,
    "start_time": "2021-10-07T11:01:35.349Z"
   },
   {
    "duration": -96,
    "start_time": "2021-10-07T11:01:35.351Z"
   },
   {
    "duration": -96,
    "start_time": "2021-10-07T11:01:35.352Z"
   },
   {
    "duration": -96,
    "start_time": "2021-10-07T11:01:35.354Z"
   },
   {
    "duration": -118,
    "start_time": "2021-10-07T11:01:35.377Z"
   },
   {
    "duration": -118,
    "start_time": "2021-10-07T11:01:35.378Z"
   },
   {
    "duration": -119,
    "start_time": "2021-10-07T11:01:35.380Z"
   },
   {
    "duration": -118,
    "start_time": "2021-10-07T11:01:35.381Z"
   },
   {
    "duration": -118,
    "start_time": "2021-10-07T11:01:35.382Z"
   },
   {
    "duration": -118,
    "start_time": "2021-10-07T11:01:35.383Z"
   },
   {
    "duration": -118,
    "start_time": "2021-10-07T11:01:35.384Z"
   },
   {
    "duration": -117,
    "start_time": "2021-10-07T11:01:35.385Z"
   },
   {
    "duration": -117,
    "start_time": "2021-10-07T11:01:35.386Z"
   },
   {
    "duration": -64,
    "start_time": "2021-10-07T11:01:35.387Z"
   },
   {
    "duration": -63,
    "start_time": "2021-10-07T11:01:35.388Z"
   },
   {
    "duration": -63,
    "start_time": "2021-10-07T11:01:35.389Z"
   },
   {
    "duration": -62,
    "start_time": "2021-10-07T11:01:35.390Z"
   },
   {
    "duration": -62,
    "start_time": "2021-10-07T11:01:35.391Z"
   },
   {
    "duration": 10,
    "start_time": "2021-10-07T11:02:20.425Z"
   },
   {
    "duration": 31,
    "start_time": "2021-10-07T11:02:25.652Z"
   },
   {
    "duration": 14,
    "start_time": "2021-10-07T11:02:37.013Z"
   },
   {
    "duration": 35,
    "start_time": "2021-10-07T11:02:44.670Z"
   },
   {
    "duration": 67,
    "start_time": "2021-10-07T11:02:58.405Z"
   },
   {
    "duration": 3,
    "start_time": "2021-10-07T11:03:07.506Z"
   },
   {
    "duration": 69,
    "start_time": "2021-10-07T11:03:07.813Z"
   },
   {
    "duration": 32,
    "start_time": "2021-10-07T11:03:08.504Z"
   },
   {
    "duration": 5,
    "start_time": "2021-10-07T11:03:14.954Z"
   },
   {
    "duration": 8,
    "start_time": "2021-10-07T11:06:51.879Z"
   },
   {
    "duration": 397,
    "start_time": "2021-10-07T11:06:57.602Z"
   },
   {
    "duration": 275,
    "start_time": "2021-10-07T11:07:07.130Z"
   },
   {
    "duration": 314,
    "start_time": "2021-10-07T11:07:37.919Z"
   },
   {
    "duration": 1259,
    "start_time": "2021-10-07T11:07:46.891Z"
   },
   {
    "duration": 294,
    "start_time": "2021-10-07T11:08:35.358Z"
   },
   {
    "duration": 272,
    "start_time": "2021-10-07T11:10:22.517Z"
   },
   {
    "duration": 266,
    "start_time": "2021-10-07T11:10:42.986Z"
   },
   {
    "duration": 875,
    "start_time": "2021-10-07T11:11:00.415Z"
   },
   {
    "duration": 1366,
    "start_time": "2021-10-07T11:11:04.306Z"
   },
   {
    "duration": 64,
    "start_time": "2021-10-07T11:13:38.305Z"
   },
   {
    "duration": 65,
    "start_time": "2021-10-07T11:13:42.606Z"
   },
   {
    "duration": 67,
    "start_time": "2021-10-07T11:13:44.873Z"
   },
   {
    "duration": 63,
    "start_time": "2021-10-07T11:13:57.277Z"
   },
   {
    "duration": 73,
    "start_time": "2021-10-07T11:14:07.187Z"
   },
   {
    "duration": 65,
    "start_time": "2021-10-07T11:14:16.528Z"
   },
   {
    "duration": 418,
    "start_time": "2021-10-07T11:28:16.399Z"
   },
   {
    "duration": 12,
    "start_time": "2021-10-07T11:28:17.165Z"
   },
   {
    "duration": 371,
    "start_time": "2021-10-07T11:28:49.223Z"
   },
   {
    "duration": 413,
    "start_time": "2021-10-07T11:32:04.279Z"
   },
   {
    "duration": 451,
    "start_time": "2021-10-07T11:32:11.665Z"
   },
   {
    "duration": 1695,
    "start_time": "2021-10-07T11:36:56.631Z"
   },
   {
    "duration": 1740,
    "start_time": "2021-10-07T11:51:47.310Z"
   },
   {
    "duration": 11,
    "start_time": "2021-10-07T11:51:49.053Z"
   },
   {
    "duration": 14,
    "start_time": "2021-10-07T11:51:49.067Z"
   },
   {
    "duration": 386,
    "start_time": "2021-10-07T11:51:49.083Z"
   },
   {
    "duration": 12,
    "start_time": "2021-10-07T11:51:49.471Z"
   },
   {
    "duration": 1568,
    "start_time": "2021-10-07T11:51:49.486Z"
   },
   {
    "duration": 12,
    "start_time": "2021-10-07T11:51:51.056Z"
   },
   {
    "duration": 4,
    "start_time": "2021-10-07T11:52:45.196Z"
   },
   {
    "duration": 1371,
    "start_time": "2021-10-07T11:53:06.784Z"
   },
   {
    "duration": 12,
    "start_time": "2021-10-07T11:53:10.147Z"
   },
   {
    "duration": 13,
    "start_time": "2021-10-07T11:53:22.738Z"
   },
   {
    "duration": 10,
    "start_time": "2021-10-07T11:53:42.172Z"
   },
   {
    "duration": 9,
    "start_time": "2021-10-07T11:53:56.312Z"
   },
   {
    "duration": 11,
    "start_time": "2021-10-07T11:54:19.047Z"
   },
   {
    "duration": 1231,
    "start_time": "2021-10-07T11:54:51.983Z"
   },
   {
    "duration": 15,
    "start_time": "2021-10-07T11:55:00.630Z"
   },
   {
    "duration": 12,
    "start_time": "2021-10-07T11:55:04.696Z"
   },
   {
    "duration": 245,
    "start_time": "2021-10-07T11:55:16.162Z"
   },
   {
    "duration": 7,
    "start_time": "2021-10-07T11:55:19.688Z"
   },
   {
    "duration": 12,
    "start_time": "2021-10-07T11:55:24.381Z"
   },
   {
    "duration": 6,
    "start_time": "2021-10-07T11:55:34.327Z"
   },
   {
    "duration": 703,
    "start_time": "2021-10-07T11:55:35.019Z"
   },
   {
    "duration": 17,
    "start_time": "2021-10-07T11:55:37.989Z"
   },
   {
    "duration": 383,
    "start_time": "2021-10-07T11:55:51.345Z"
   },
   {
    "duration": 95,
    "start_time": "2021-10-07T11:55:56.034Z"
   },
   {
    "duration": 14,
    "start_time": "2021-10-07T11:56:01.985Z"
   },
   {
    "duration": 15,
    "start_time": "2021-10-07T11:58:11.298Z"
   },
   {
    "duration": 260,
    "start_time": "2021-10-07T11:58:18.113Z"
   },
   {
    "duration": 11,
    "start_time": "2021-10-07T11:58:29.148Z"
   },
   {
    "duration": 5,
    "start_time": "2021-10-07T11:58:46.340Z"
   },
   {
    "duration": 4,
    "start_time": "2021-10-07T11:58:47.594Z"
   },
   {
    "duration": 617,
    "start_time": "2021-10-07T11:58:48.086Z"
   },
   {
    "duration": 309,
    "start_time": "2021-10-07T11:58:48.938Z"
   },
   {
    "duration": 13,
    "start_time": "2021-10-07T11:58:52.681Z"
   },
   {
    "duration": 5,
    "start_time": "2021-10-07T11:59:16.631Z"
   },
   {
    "duration": 13,
    "start_time": "2021-10-07T11:59:21.705Z"
   },
   {
    "duration": 1545,
    "start_time": "2021-10-07T11:59:43.458Z"
   },
   {
    "duration": 97,
    "start_time": "2021-10-07T11:59:45.006Z"
   },
   {
    "duration": 21,
    "start_time": "2021-10-07T11:59:45.107Z"
   },
   {
    "duration": 8,
    "start_time": "2021-10-07T11:59:45.131Z"
   },
   {
    "duration": 15,
    "start_time": "2021-10-07T11:59:45.141Z"
   },
   {
    "duration": 91898,
    "start_time": "2021-10-07T11:59:45.158Z"
   },
   {
    "duration": 6,
    "start_time": "2021-10-07T12:01:17.058Z"
   },
   {
    "duration": 27,
    "start_time": "2021-10-07T12:01:17.066Z"
   },
   {
    "duration": 49,
    "start_time": "2021-10-07T12:01:17.097Z"
   },
   {
    "duration": 40,
    "start_time": "2021-10-07T12:01:17.149Z"
   },
   {
    "duration": 10,
    "start_time": "2021-10-07T12:01:17.191Z"
   },
   {
    "duration": 34,
    "start_time": "2021-10-07T12:01:17.203Z"
   },
   {
    "duration": 542,
    "start_time": "2021-10-07T12:01:17.239Z"
   },
   {
    "duration": 489,
    "start_time": "2021-10-07T12:01:17.783Z"
   },
   {
    "duration": 8,
    "start_time": "2021-10-07T12:01:18.274Z"
   },
   {
    "duration": 510,
    "start_time": "2021-10-07T12:01:18.285Z"
   },
   {
    "duration": 848,
    "start_time": "2021-10-07T12:01:18.798Z"
   },
   {
    "duration": 4,
    "start_time": "2021-10-07T12:01:19.648Z"
   },
   {
    "duration": 183,
    "start_time": "2021-10-07T12:01:19.654Z"
   },
   {
    "duration": 4,
    "start_time": "2021-10-07T12:01:19.839Z"
   },
   {
    "duration": 37,
    "start_time": "2021-10-07T12:01:19.845Z"
   },
   {
    "duration": 22,
    "start_time": "2021-10-07T12:01:19.884Z"
   },
   {
    "duration": 127,
    "start_time": "2021-10-07T12:01:19.908Z"
   },
   {
    "duration": 29,
    "start_time": "2021-10-07T12:01:20.037Z"
   },
   {
    "duration": 4,
    "start_time": "2021-10-07T12:01:20.068Z"
   },
   {
    "duration": 172,
    "start_time": "2021-10-07T12:01:20.074Z"
   },
   {
    "duration": 6,
    "start_time": "2021-10-07T12:01:20.252Z"
   },
   {
    "duration": 20,
    "start_time": "2021-10-07T12:01:20.261Z"
   },
   {
    "duration": 29,
    "start_time": "2021-10-07T12:01:20.284Z"
   },
   {
    "duration": 18,
    "start_time": "2021-10-07T12:01:20.315Z"
   },
   {
    "duration": 28,
    "start_time": "2021-10-07T12:01:20.336Z"
   },
   {
    "duration": 82,
    "start_time": "2021-10-07T12:01:20.367Z"
   },
   {
    "duration": 5,
    "start_time": "2021-10-07T12:01:20.451Z"
   },
   {
    "duration": 26,
    "start_time": "2021-10-07T12:01:20.459Z"
   },
   {
    "duration": 333,
    "start_time": "2021-10-07T12:01:20.487Z"
   },
   {
    "duration": 295,
    "start_time": "2021-10-07T12:01:20.823Z"
   },
   {
    "duration": 3,
    "start_time": "2021-10-07T12:01:21.123Z"
   },
   {
    "duration": 1529,
    "start_time": "2021-10-07T12:01:21.128Z"
   },
   {
    "duration": 3,
    "start_time": "2021-10-07T12:01:22.660Z"
   },
   {
    "duration": 37,
    "start_time": "2021-10-07T12:01:22.666Z"
   },
   {
    "duration": 461,
    "start_time": "2021-10-07T12:01:22.706Z"
   },
   {
    "duration": 3,
    "start_time": "2021-10-07T12:01:23.170Z"
   },
   {
    "duration": 447,
    "start_time": "2021-10-07T12:01:23.175Z"
   },
   {
    "duration": 12,
    "start_time": "2021-10-07T12:01:23.624Z"
   },
   {
    "duration": 27,
    "start_time": "2021-10-07T12:01:23.639Z"
   },
   {
    "duration": 19,
    "start_time": "2021-10-07T12:01:23.669Z"
   },
   {
    "duration": 12,
    "start_time": "2021-10-07T12:01:23.690Z"
   },
   {
    "duration": 377,
    "start_time": "2021-10-07T12:01:23.704Z"
   },
   {
    "duration": -118,
    "start_time": "2021-10-07T12:01:24.201Z"
   },
   {
    "duration": -119,
    "start_time": "2021-10-07T12:01:24.204Z"
   },
   {
    "duration": -120,
    "start_time": "2021-10-07T12:01:24.206Z"
   },
   {
    "duration": -120,
    "start_time": "2021-10-07T12:01:24.208Z"
   },
   {
    "duration": -121,
    "start_time": "2021-10-07T12:01:24.210Z"
   },
   {
    "duration": -122,
    "start_time": "2021-10-07T12:01:24.213Z"
   },
   {
    "duration": -123,
    "start_time": "2021-10-07T12:01:24.215Z"
   },
   {
    "duration": -124,
    "start_time": "2021-10-07T12:01:24.217Z"
   },
   {
    "duration": -124,
    "start_time": "2021-10-07T12:01:24.219Z"
   },
   {
    "duration": -125,
    "start_time": "2021-10-07T12:01:24.221Z"
   },
   {
    "duration": -125,
    "start_time": "2021-10-07T12:01:24.222Z"
   },
   {
    "duration": -125,
    "start_time": "2021-10-07T12:01:24.224Z"
   },
   {
    "duration": -126,
    "start_time": "2021-10-07T12:01:24.226Z"
   },
   {
    "duration": -126,
    "start_time": "2021-10-07T12:01:24.228Z"
   },
   {
    "duration": -127,
    "start_time": "2021-10-07T12:01:24.230Z"
   },
   {
    "duration": -127,
    "start_time": "2021-10-07T12:01:24.232Z"
   },
   {
    "duration": -128,
    "start_time": "2021-10-07T12:01:24.234Z"
   },
   {
    "duration": -128,
    "start_time": "2021-10-07T12:01:24.235Z"
   },
   {
    "duration": -128,
    "start_time": "2021-10-07T12:01:24.237Z"
   },
   {
    "duration": -129,
    "start_time": "2021-10-07T12:01:24.239Z"
   },
   {
    "duration": -128,
    "start_time": "2021-10-07T12:01:24.240Z"
   },
   {
    "duration": -129,
    "start_time": "2021-10-07T12:01:24.242Z"
   },
   {
    "duration": -129,
    "start_time": "2021-10-07T12:01:24.244Z"
   },
   {
    "duration": 718,
    "start_time": "2021-10-07T12:05:49.189Z"
   },
   {
    "duration": 14,
    "start_time": "2021-10-07T12:05:50.046Z"
   },
   {
    "duration": 764,
    "start_time": "2021-10-07T12:06:07.098Z"
   },
   {
    "duration": 13,
    "start_time": "2021-10-07T12:06:07.864Z"
   },
   {
    "duration": 991,
    "start_time": "2021-10-07T12:06:07.880Z"
   },
   {
    "duration": 13,
    "start_time": "2021-10-07T12:06:08.873Z"
   },
   {
    "duration": 9,
    "start_time": "2021-10-07T12:25:50.504Z"
   },
   {
    "duration": 40,
    "start_time": "2021-10-07T12:25:50.712Z"
   },
   {
    "duration": 11,
    "start_time": "2021-10-07T12:29:50.374Z"
   },
   {
    "duration": 11,
    "start_time": "2021-10-07T12:33:11.664Z"
   },
   {
    "duration": 6,
    "start_time": "2021-10-07T12:33:12.449Z"
   },
   {
    "duration": 9,
    "start_time": "2021-10-07T12:34:55.364Z"
   },
   {
    "duration": 31,
    "start_time": "2021-10-07T12:39:11.290Z"
   },
   {
    "duration": 4,
    "start_time": "2021-10-07T12:39:34.026Z"
   },
   {
    "duration": 32,
    "start_time": "2021-10-07T12:39:37.211Z"
   },
   {
    "duration": 352,
    "start_time": "2021-10-07T12:42:37.190Z"
   },
   {
    "duration": 275,
    "start_time": "2021-10-07T12:42:59.060Z"
   },
   {
    "duration": 338,
    "start_time": "2021-10-07T12:43:02.444Z"
   },
   {
    "duration": 1287,
    "start_time": "2021-10-07T12:43:30.374Z"
   },
   {
    "duration": 819,
    "start_time": "2021-10-07T12:43:37.723Z"
   },
   {
    "duration": 249,
    "start_time": "2021-10-07T12:43:42.321Z"
   },
   {
    "duration": 264,
    "start_time": "2021-10-07T12:44:03.634Z"
   },
   {
    "duration": 339,
    "start_time": "2021-10-07T12:44:12.564Z"
   },
   {
    "duration": 317,
    "start_time": "2021-10-07T12:44:39.715Z"
   },
   {
    "duration": 489,
    "start_time": "2021-10-07T12:44:50.636Z"
   },
   {
    "duration": 395,
    "start_time": "2021-10-07T12:45:13.030Z"
   },
   {
    "duration": 260,
    "start_time": "2021-10-07T12:45:52.882Z"
   },
   {
    "duration": 342,
    "start_time": "2021-10-07T12:45:56.852Z"
   },
   {
    "duration": 252,
    "start_time": "2021-10-07T12:46:21.867Z"
   },
   {
    "duration": 410,
    "start_time": "2021-10-07T12:46:33.008Z"
   },
   {
    "duration": 653,
    "start_time": "2021-10-07T12:47:00.178Z"
   },
   {
    "duration": 562,
    "start_time": "2021-10-07T12:47:10.928Z"
   },
   {
    "duration": 574,
    "start_time": "2021-10-07T12:47:16.517Z"
   },
   {
    "duration": 526,
    "start_time": "2021-10-07T12:47:29.101Z"
   },
   {
    "duration": 604,
    "start_time": "2021-10-07T12:47:35.834Z"
   },
   {
    "duration": 98,
    "start_time": "2021-10-07T12:48:02.623Z"
   },
   {
    "duration": 888,
    "start_time": "2021-10-07T12:48:22.644Z"
   },
   {
    "duration": 747,
    "start_time": "2021-10-07T12:48:35.300Z"
   },
   {
    "duration": 836,
    "start_time": "2021-10-07T12:48:43.296Z"
   },
   {
    "duration": 680,
    "start_time": "2021-10-07T12:48:50.985Z"
   },
   {
    "duration": 12,
    "start_time": "2021-10-07T12:51:30.072Z"
   },
   {
    "duration": 7,
    "start_time": "2021-10-07T12:51:30.577Z"
   },
   {
    "duration": 3,
    "start_time": "2021-10-07T12:51:37.190Z"
   },
   {
    "duration": 273,
    "start_time": "2021-10-07T12:51:37.196Z"
   },
   {
    "duration": -17,
    "start_time": "2021-10-07T12:51:37.488Z"
   },
   {
    "duration": 13,
    "start_time": "2021-10-07T12:51:52.053Z"
   },
   {
    "duration": 7,
    "start_time": "2021-10-07T12:51:58.974Z"
   },
   {
    "duration": 9,
    "start_time": "2021-10-07T12:52:11.563Z"
   },
   {
    "duration": 12,
    "start_time": "2021-10-07T12:52:44.863Z"
   },
   {
    "duration": 12,
    "start_time": "2021-10-07T12:52:48.143Z"
   },
   {
    "duration": 13,
    "start_time": "2021-10-07T12:54:35.965Z"
   },
   {
    "duration": 1457,
    "start_time": "2021-10-07T12:55:07.525Z"
   },
   {
    "duration": 92,
    "start_time": "2021-10-07T12:55:08.985Z"
   },
   {
    "duration": 11,
    "start_time": "2021-10-07T12:55:09.080Z"
   },
   {
    "duration": 28,
    "start_time": "2021-10-07T12:55:09.094Z"
   },
   {
    "duration": 33,
    "start_time": "2021-10-07T12:55:09.124Z"
   },
   {
    "duration": 12244,
    "start_time": "2021-10-07T12:55:09.159Z"
   },
   {
    "duration": -24,
    "start_time": "2021-10-07T12:55:21.433Z"
   },
   {
    "duration": -25,
    "start_time": "2021-10-07T12:55:21.435Z"
   },
   {
    "duration": -26,
    "start_time": "2021-10-07T12:55:21.437Z"
   },
   {
    "duration": -27,
    "start_time": "2021-10-07T12:55:21.439Z"
   },
   {
    "duration": -27,
    "start_time": "2021-10-07T12:55:21.441Z"
   },
   {
    "duration": -27,
    "start_time": "2021-10-07T12:55:21.442Z"
   },
   {
    "duration": -28,
    "start_time": "2021-10-07T12:55:21.444Z"
   },
   {
    "duration": -28,
    "start_time": "2021-10-07T12:55:21.445Z"
   },
   {
    "duration": -27,
    "start_time": "2021-10-07T12:55:21.446Z"
   },
   {
    "duration": -28,
    "start_time": "2021-10-07T12:55:21.448Z"
   },
   {
    "duration": -32,
    "start_time": "2021-10-07T12:55:21.453Z"
   },
   {
    "duration": -33,
    "start_time": "2021-10-07T12:55:21.455Z"
   },
   {
    "duration": -34,
    "start_time": "2021-10-07T12:55:21.457Z"
   },
   {
    "duration": -33,
    "start_time": "2021-10-07T12:55:21.458Z"
   },
   {
    "duration": -34,
    "start_time": "2021-10-07T12:55:21.460Z"
   },
   {
    "duration": -35,
    "start_time": "2021-10-07T12:55:21.462Z"
   },
   {
    "duration": -34,
    "start_time": "2021-10-07T12:55:21.463Z"
   },
   {
    "duration": -35,
    "start_time": "2021-10-07T12:55:21.465Z"
   },
   {
    "duration": -36,
    "start_time": "2021-10-07T12:55:21.467Z"
   },
   {
    "duration": -35,
    "start_time": "2021-10-07T12:55:21.468Z"
   },
   {
    "duration": -40,
    "start_time": "2021-10-07T12:55:21.474Z"
   },
   {
    "duration": -78,
    "start_time": "2021-10-07T12:55:21.513Z"
   },
   {
    "duration": -79,
    "start_time": "2021-10-07T12:55:21.516Z"
   },
   {
    "duration": -79,
    "start_time": "2021-10-07T12:55:21.517Z"
   },
   {
    "duration": -80,
    "start_time": "2021-10-07T12:55:21.519Z"
   },
   {
    "duration": -81,
    "start_time": "2021-10-07T12:55:21.521Z"
   },
   {
    "duration": -85,
    "start_time": "2021-10-07T12:55:21.527Z"
   },
   {
    "duration": -90,
    "start_time": "2021-10-07T12:55:21.533Z"
   },
   {
    "duration": -100,
    "start_time": "2021-10-07T12:55:21.544Z"
   },
   {
    "duration": -109,
    "start_time": "2021-10-07T12:55:21.556Z"
   },
   {
    "duration": -111,
    "start_time": "2021-10-07T12:55:21.559Z"
   },
   {
    "duration": -112,
    "start_time": "2021-10-07T12:55:21.561Z"
   },
   {
    "duration": -113,
    "start_time": "2021-10-07T12:55:21.563Z"
   },
   {
    "duration": -113,
    "start_time": "2021-10-07T12:55:21.564Z"
   },
   {
    "duration": -112,
    "start_time": "2021-10-07T12:55:21.565Z"
   },
   {
    "duration": -126,
    "start_time": "2021-10-07T12:55:21.580Z"
   },
   {
    "duration": -125,
    "start_time": "2021-10-07T12:55:21.581Z"
   },
   {
    "duration": -125,
    "start_time": "2021-10-07T12:55:21.583Z"
   },
   {
    "duration": -161,
    "start_time": "2021-10-07T12:55:21.620Z"
   },
   {
    "duration": -166,
    "start_time": "2021-10-07T12:55:21.626Z"
   },
   {
    "duration": -167,
    "start_time": "2021-10-07T12:55:21.629Z"
   },
   {
    "duration": -167,
    "start_time": "2021-10-07T12:55:21.630Z"
   },
   {
    "duration": -166,
    "start_time": "2021-10-07T12:55:21.631Z"
   },
   {
    "duration": -114,
    "start_time": "2021-10-07T12:55:21.636Z"
   },
   {
    "duration": -117,
    "start_time": "2021-10-07T12:55:21.641Z"
   },
   {
    "duration": -118,
    "start_time": "2021-10-07T12:55:21.643Z"
   },
   {
    "duration": -118,
    "start_time": "2021-10-07T12:55:21.645Z"
   },
   {
    "duration": -118,
    "start_time": "2021-10-07T12:55:21.646Z"
   },
   {
    "duration": -120,
    "start_time": "2021-10-07T12:55:21.649Z"
   },
   {
    "duration": -120,
    "start_time": "2021-10-07T12:55:21.650Z"
   },
   {
    "duration": -124,
    "start_time": "2021-10-07T12:55:21.656Z"
   },
   {
    "duration": -125,
    "start_time": "2021-10-07T12:55:21.658Z"
   },
   {
    "duration": -126,
    "start_time": "2021-10-07T12:55:21.660Z"
   },
   {
    "duration": -126,
    "start_time": "2021-10-07T12:55:21.662Z"
   },
   {
    "duration": -126,
    "start_time": "2021-10-07T12:55:21.663Z"
   },
   {
    "duration": -127,
    "start_time": "2021-10-07T12:55:21.665Z"
   },
   {
    "duration": -126,
    "start_time": "2021-10-07T12:55:21.666Z"
   },
   {
    "duration": -129,
    "start_time": "2021-10-07T12:55:21.670Z"
   },
   {
    "duration": -133,
    "start_time": "2021-10-07T12:55:21.675Z"
   },
   {
    "duration": -133,
    "start_time": "2021-10-07T12:55:21.677Z"
   },
   {
    "duration": -135,
    "start_time": "2021-10-07T12:55:21.680Z"
   },
   {
    "duration": -135,
    "start_time": "2021-10-07T12:55:21.682Z"
   },
   {
    "duration": -137,
    "start_time": "2021-10-07T12:55:21.685Z"
   },
   {
    "duration": -137,
    "start_time": "2021-10-07T12:55:21.686Z"
   },
   {
    "duration": -137,
    "start_time": "2021-10-07T12:55:21.687Z"
   },
   {
    "duration": -139,
    "start_time": "2021-10-07T12:55:21.691Z"
   },
   {
    "duration": -141,
    "start_time": "2021-10-07T12:55:21.694Z"
   },
   {
    "duration": -141,
    "start_time": "2021-10-07T12:55:21.695Z"
   },
   {
    "duration": -142,
    "start_time": "2021-10-07T12:55:21.697Z"
   },
   {
    "duration": 1726,
    "start_time": "2021-10-07T12:55:38.692Z"
   },
   {
    "duration": 93,
    "start_time": "2021-10-07T12:55:40.423Z"
   },
   {
    "duration": 13,
    "start_time": "2021-10-07T12:55:40.520Z"
   },
   {
    "duration": 18,
    "start_time": "2021-10-07T12:55:40.536Z"
   },
   {
    "duration": 24,
    "start_time": "2021-10-07T12:55:40.557Z"
   },
   {
    "duration": 86095,
    "start_time": "2021-10-07T12:55:40.584Z"
   },
   {
    "duration": 7,
    "start_time": "2021-10-07T12:57:06.682Z"
   },
   {
    "duration": 36,
    "start_time": "2021-10-07T12:57:06.695Z"
   },
   {
    "duration": 43,
    "start_time": "2021-10-07T12:57:06.735Z"
   },
   {
    "duration": 47,
    "start_time": "2021-10-07T12:57:06.781Z"
   },
   {
    "duration": 34,
    "start_time": "2021-10-07T12:57:06.830Z"
   },
   {
    "duration": 43,
    "start_time": "2021-10-07T12:57:06.867Z"
   },
   {
    "duration": 583,
    "start_time": "2021-10-07T12:57:06.913Z"
   },
   {
    "duration": 485,
    "start_time": "2021-10-07T12:57:07.499Z"
   },
   {
    "duration": 8,
    "start_time": "2021-10-07T12:57:07.987Z"
   },
   {
    "duration": 537,
    "start_time": "2021-10-07T12:57:07.997Z"
   },
   {
    "duration": 876,
    "start_time": "2021-10-07T12:57:08.536Z"
   },
   {
    "duration": 3,
    "start_time": "2021-10-07T12:57:09.422Z"
   },
   {
    "duration": 196,
    "start_time": "2021-10-07T12:57:09.428Z"
   },
   {
    "duration": 4,
    "start_time": "2021-10-07T12:57:09.626Z"
   },
   {
    "duration": 37,
    "start_time": "2021-10-07T12:57:09.632Z"
   },
   {
    "duration": 15,
    "start_time": "2021-10-07T12:57:09.672Z"
   },
   {
    "duration": 27,
    "start_time": "2021-10-07T12:57:09.770Z"
   },
   {
    "duration": 42,
    "start_time": "2021-10-07T12:57:09.801Z"
   },
   {
    "duration": 3,
    "start_time": "2021-10-07T12:57:09.845Z"
   },
   {
    "duration": 161,
    "start_time": "2021-10-07T12:57:09.850Z"
   },
   {
    "duration": 10,
    "start_time": "2021-10-07T12:57:10.013Z"
   },
   {
    "duration": 24,
    "start_time": "2021-10-07T12:57:10.025Z"
   },
   {
    "duration": 31,
    "start_time": "2021-10-07T12:57:10.051Z"
   },
   {
    "duration": 20,
    "start_time": "2021-10-07T12:57:10.084Z"
   },
   {
    "duration": 23,
    "start_time": "2021-10-07T12:57:10.107Z"
   },
   {
    "duration": 87,
    "start_time": "2021-10-07T12:57:10.133Z"
   },
   {
    "duration": 5,
    "start_time": "2021-10-07T12:57:10.223Z"
   },
   {
    "duration": 12,
    "start_time": "2021-10-07T12:57:10.230Z"
   },
   {
    "duration": 24,
    "start_time": "2021-10-07T12:57:10.244Z"
   },
   {
    "duration": 332,
    "start_time": "2021-10-07T12:57:10.271Z"
   },
   {
    "duration": 309,
    "start_time": "2021-10-07T12:57:10.606Z"
   },
   {
    "duration": 4,
    "start_time": "2021-10-07T12:57:10.922Z"
   },
   {
    "duration": 1569,
    "start_time": "2021-10-07T12:57:10.928Z"
   },
   {
    "duration": 3,
    "start_time": "2021-10-07T12:57:12.500Z"
   },
   {
    "duration": 24,
    "start_time": "2021-10-07T12:57:12.505Z"
   },
   {
    "duration": 536,
    "start_time": "2021-10-07T12:57:12.531Z"
   },
   {
    "duration": 4,
    "start_time": "2021-10-07T12:57:13.069Z"
   },
   {
    "duration": 433,
    "start_time": "2021-10-07T12:57:13.075Z"
   },
   {
    "duration": 20,
    "start_time": "2021-10-07T12:57:13.511Z"
   },
   {
    "duration": 44,
    "start_time": "2021-10-07T12:57:13.534Z"
   },
   {
    "duration": 18,
    "start_time": "2021-10-07T12:57:13.581Z"
   },
   {
    "duration": 23,
    "start_time": "2021-10-07T12:57:13.601Z"
   },
   {
    "duration": 697,
    "start_time": "2021-10-07T12:57:13.627Z"
   },
   {
    "duration": 12,
    "start_time": "2021-10-07T12:57:14.327Z"
   },
   {
    "duration": 737,
    "start_time": "2021-10-07T12:57:14.342Z"
   },
   {
    "duration": 13,
    "start_time": "2021-10-07T12:57:15.082Z"
   },
   {
    "duration": 861,
    "start_time": "2021-10-07T12:57:15.098Z"
   },
   {
    "duration": 13,
    "start_time": "2021-10-07T12:57:15.961Z"
   },
   {
    "duration": 32,
    "start_time": "2021-10-07T12:57:15.976Z"
   },
   {
    "duration": 12,
    "start_time": "2021-10-07T12:57:16.010Z"
   },
   {
    "duration": 29,
    "start_time": "2021-10-07T12:57:16.024Z"
   },
   {
    "duration": 17,
    "start_time": "2021-10-07T12:57:16.055Z"
   },
   {
    "duration": 3,
    "start_time": "2021-10-07T12:57:16.074Z"
   },
   {
    "duration": 156,
    "start_time": "2021-10-07T12:57:16.080Z"
   },
   {
    "duration": 18,
    "start_time": "2021-10-07T12:57:16.239Z"
   },
   {
    "duration": 3,
    "start_time": "2021-10-07T12:57:16.260Z"
   },
   {
    "duration": 27,
    "start_time": "2021-10-07T12:57:16.265Z"
   },
   {
    "duration": 43,
    "start_time": "2021-10-07T12:57:16.294Z"
   },
   {
    "duration": 8,
    "start_time": "2021-10-07T12:57:16.340Z"
   },
   {
    "duration": 5,
    "start_time": "2021-10-07T12:57:16.351Z"
   },
   {
    "duration": 66,
    "start_time": "2021-10-07T12:57:16.358Z"
   },
   {
    "duration": 694,
    "start_time": "2021-10-07T12:57:16.431Z"
   },
   {
    "duration": 3,
    "start_time": "2021-10-07T12:57:17.127Z"
   },
   {
    "duration": 14,
    "start_time": "2021-10-07T12:57:17.133Z"
   },
   {
    "duration": 21,
    "start_time": "2021-10-07T12:57:17.149Z"
   },
   {
    "duration": 6,
    "start_time": "2021-10-07T12:57:17.172Z"
   },
   {
    "duration": 46,
    "start_time": "2021-10-07T12:57:17.180Z"
   },
   {
    "duration": 12,
    "start_time": "2021-10-07T12:57:17.230Z"
   },
   {
    "duration": 18,
    "start_time": "2021-10-07T12:57:17.245Z"
   },
   {
    "duration": 79,
    "start_time": "2021-10-07T13:15:48.111Z"
   },
   {
    "duration": 191,
    "start_time": "2021-10-07T13:15:54.901Z"
   },
   {
    "duration": 189,
    "start_time": "2021-10-07T13:15:57.816Z"
   },
   {
    "duration": 228,
    "start_time": "2021-10-07T13:16:06.413Z"
   },
   {
    "duration": 38,
    "start_time": "2021-10-07T13:16:11.857Z"
   },
   {
    "duration": 16,
    "start_time": "2021-10-07T13:16:15.619Z"
   },
   {
    "duration": 199,
    "start_time": "2021-10-07T13:16:26.327Z"
   },
   {
    "duration": 198,
    "start_time": "2021-10-07T13:16:45.768Z"
   },
   {
    "duration": 173,
    "start_time": "2021-10-07T13:17:02.057Z"
   },
   {
    "duration": 32,
    "start_time": "2021-10-07T13:17:21.562Z"
   },
   {
    "duration": 14,
    "start_time": "2021-10-07T13:17:38.510Z"
   },
   {
    "duration": 14,
    "start_time": "2021-10-07T13:17:46.659Z"
   },
   {
    "duration": 372,
    "start_time": "2021-10-07T13:17:59.246Z"
   },
   {
    "duration": 17,
    "start_time": "2021-10-07T13:18:06.415Z"
   },
   {
    "duration": 16,
    "start_time": "2021-10-07T13:18:20.583Z"
   },
   {
    "duration": 29,
    "start_time": "2021-10-07T13:21:00.824Z"
   },
   {
    "duration": 29,
    "start_time": "2021-10-07T13:21:00.826Z"
   },
   {
    "duration": 10,
    "start_time": "2021-10-07T13:21:05.572Z"
   },
   {
    "duration": 257,
    "start_time": "2021-10-07T13:21:12.491Z"
   },
   {
    "duration": 7,
    "start_time": "2021-10-07T13:21:14.433Z"
   },
   {
    "duration": 440,
    "start_time": "2021-10-07T13:21:17.331Z"
   },
   {
    "duration": 439,
    "start_time": "2021-10-07T13:21:49.464Z"
   },
   {
    "duration": 12,
    "start_time": "2021-10-07T13:22:04.414Z"
   },
   {
    "duration": 255,
    "start_time": "2021-10-07T13:22:21.969Z"
   },
   {
    "duration": 6,
    "start_time": "2021-10-07T13:22:33.098Z"
   },
   {
    "duration": 11,
    "start_time": "2021-10-07T13:22:33.734Z"
   },
   {
    "duration": 9,
    "start_time": "2021-10-07T13:22:36.665Z"
   },
   {
    "duration": 7,
    "start_time": "2021-10-07T13:22:38.729Z"
   },
   {
    "duration": 743,
    "start_time": "2021-10-07T13:22:42.339Z"
   },
   {
    "duration": 127,
    "start_time": "2021-10-07T13:22:59.869Z"
   },
   {
    "duration": 250,
    "start_time": "2021-10-07T13:23:30.624Z"
   },
   {
    "duration": 9,
    "start_time": "2021-10-07T13:24:50.752Z"
   },
   {
    "duration": 332,
    "start_time": "2021-10-07T13:25:10.751Z"
   },
   {
    "duration": 15,
    "start_time": "2021-10-07T13:25:14.777Z"
   },
   {
    "duration": 13,
    "start_time": "2021-10-07T13:26:48.183Z"
   },
   {
    "duration": 659,
    "start_time": "2021-10-07T13:27:09.726Z"
   },
   {
    "duration": 8,
    "start_time": "2021-10-07T13:27:10.388Z"
   },
   {
    "duration": 6,
    "start_time": "2021-10-07T13:27:10.783Z"
   },
   {
    "duration": 6,
    "start_time": "2021-10-07T13:27:14.441Z"
   },
   {
    "duration": 11,
    "start_time": "2021-10-07T13:27:17.446Z"
   },
   {
    "duration": 7,
    "start_time": "2021-10-07T13:27:17.994Z"
   },
   {
    "duration": 5,
    "start_time": "2021-10-07T13:27:27.630Z"
   },
   {
    "duration": 6,
    "start_time": "2021-10-07T13:27:34.381Z"
   },
   {
    "duration": 19,
    "start_time": "2021-10-07T13:28:52.891Z"
   },
   {
    "duration": 7,
    "start_time": "2021-10-07T13:28:56.666Z"
   },
   {
    "duration": 5,
    "start_time": "2021-10-07T13:29:08.398Z"
   },
   {
    "duration": 251,
    "start_time": "2021-10-07T13:29:10.927Z"
   },
   {
    "duration": 236,
    "start_time": "2021-10-07T13:29:11.969Z"
   },
   {
    "duration": 5,
    "start_time": "2021-10-07T13:29:19.588Z"
   },
   {
    "duration": 8,
    "start_time": "2021-10-07T13:29:19.910Z"
   },
   {
    "duration": 4,
    "start_time": "2021-10-07T13:29:20.338Z"
   },
   {
    "duration": 596,
    "start_time": "2021-10-07T13:29:20.667Z"
   },
   {
    "duration": 13,
    "start_time": "2021-10-07T13:29:21.265Z"
   },
   {
    "duration": 7,
    "start_time": "2021-10-07T13:29:21.432Z"
   },
   {
    "duration": 6,
    "start_time": "2021-10-07T13:29:21.731Z"
   },
   {
    "duration": 35,
    "start_time": "2021-10-07T13:29:55.491Z"
   },
   {
    "duration": 4,
    "start_time": "2021-10-07T13:29:57.414Z"
   },
   {
    "duration": 9,
    "start_time": "2021-10-07T13:29:57.785Z"
   },
   {
    "duration": 36,
    "start_time": "2021-10-07T13:29:58.991Z"
   },
   {
    "duration": 255,
    "start_time": "2021-10-07T13:30:01.953Z"
   },
   {
    "duration": 10,
    "start_time": "2021-10-07T13:30:04.338Z"
   },
   {
    "duration": 291,
    "start_time": "2021-10-07T13:30:17.657Z"
   },
   {
    "duration": 171,
    "start_time": "2021-10-07T13:30:19.975Z"
   },
   {
    "duration": 14,
    "start_time": "2021-10-07T13:30:22.349Z"
   },
   {
    "duration": 14,
    "start_time": "2021-10-07T13:30:38.002Z"
   },
   {
    "duration": 274,
    "start_time": "2021-10-07T13:30:40.433Z"
   },
   {
    "duration": 254,
    "start_time": "2021-10-07T13:30:40.847Z"
   },
   {
    "duration": 5,
    "start_time": "2021-10-07T13:30:46.351Z"
   },
   {
    "duration": 11,
    "start_time": "2021-10-07T13:30:46.656Z"
   },
   {
    "duration": 14,
    "start_time": "2021-10-07T13:30:46.864Z"
   },
   {
    "duration": 262,
    "start_time": "2021-10-07T13:30:47.154Z"
   },
   {
    "duration": 251,
    "start_time": "2021-10-07T13:30:47.726Z"
   },
   {
    "duration": 5,
    "start_time": "2021-10-07T13:30:57.082Z"
   },
   {
    "duration": 10,
    "start_time": "2021-10-07T13:30:57.406Z"
   },
   {
    "duration": 16,
    "start_time": "2021-10-07T13:30:57.750Z"
   },
   {
    "duration": 276,
    "start_time": "2021-10-07T13:30:58.153Z"
   },
   {
    "duration": 8,
    "start_time": "2021-10-07T13:30:58.680Z"
   },
   {
    "duration": 7,
    "start_time": "2021-10-07T13:30:59.379Z"
   },
   {
    "duration": 7,
    "start_time": "2021-10-07T13:31:00.626Z"
   },
   {
    "duration": 254,
    "start_time": "2021-10-07T13:32:21.279Z"
   },
   {
    "duration": 14,
    "start_time": "2021-10-07T13:32:27.231Z"
   },
   {
    "duration": 278,
    "start_time": "2021-10-07T13:32:27.916Z"
   },
   {
    "duration": 7,
    "start_time": "2021-10-07T13:32:28.608Z"
   },
   {
    "duration": 7,
    "start_time": "2021-10-07T13:32:29.092Z"
   },
   {
    "duration": 6,
    "start_time": "2021-10-07T13:32:29.552Z"
   },
   {
    "duration": 11,
    "start_time": "2021-10-07T13:33:30.787Z"
   },
   {
    "duration": 10,
    "start_time": "2021-10-07T13:33:38.288Z"
   },
   {
    "duration": 139,
    "start_time": "2021-10-07T13:33:46.092Z"
   },
   {
    "duration": 9,
    "start_time": "2021-10-07T13:33:50.978Z"
   },
   {
    "duration": 10,
    "start_time": "2021-10-07T13:33:57.810Z"
   },
   {
    "duration": 11,
    "start_time": "2021-10-07T13:34:12.633Z"
   },
   {
    "duration": 14,
    "start_time": "2021-10-07T13:34:59.175Z"
   },
   {
    "duration": 6,
    "start_time": "2021-10-07T13:35:02.282Z"
   },
   {
    "duration": 6,
    "start_time": "2021-10-07T13:35:03.499Z"
   },
   {
    "duration": 1521,
    "start_time": "2021-10-08T06:40:49.964Z"
   },
   {
    "duration": 96,
    "start_time": "2021-10-08T06:40:51.488Z"
   },
   {
    "duration": 19,
    "start_time": "2021-10-08T06:40:51.591Z"
   },
   {
    "duration": 10,
    "start_time": "2021-10-08T06:40:51.613Z"
   },
   {
    "duration": 12,
    "start_time": "2021-10-08T06:40:51.625Z"
   },
   {
    "duration": 97443,
    "start_time": "2021-10-08T06:40:51.640Z"
   },
   {
    "duration": 15,
    "start_time": "2021-10-08T06:42:29.085Z"
   },
   {
    "duration": 3,
    "start_time": "2021-10-08T06:42:29.105Z"
   },
   {
    "duration": 10,
    "start_time": "2021-10-08T06:42:29.111Z"
   },
   {
    "duration": 10,
    "start_time": "2021-10-08T06:42:29.123Z"
   },
   {
    "duration": 6,
    "start_time": "2021-10-08T06:42:29.135Z"
   },
   {
    "duration": 16,
    "start_time": "2021-10-08T06:42:29.143Z"
   },
   {
    "duration": 574,
    "start_time": "2021-10-08T06:42:29.201Z"
   },
   {
    "duration": 490,
    "start_time": "2021-10-08T06:42:29.777Z"
   },
   {
    "duration": 9,
    "start_time": "2021-10-08T06:42:30.269Z"
   },
   {
    "duration": 541,
    "start_time": "2021-10-08T06:42:30.280Z"
   },
   {
    "duration": 891,
    "start_time": "2021-10-08T06:42:30.823Z"
   },
   {
    "duration": 3,
    "start_time": "2021-10-08T06:42:31.717Z"
   },
   {
    "duration": 195,
    "start_time": "2021-10-08T06:42:31.722Z"
   },
   {
    "duration": 3,
    "start_time": "2021-10-08T06:42:31.919Z"
   },
   {
    "duration": 33,
    "start_time": "2021-10-08T06:42:31.924Z"
   },
   {
    "duration": 5,
    "start_time": "2021-10-08T06:42:31.959Z"
   },
   {
    "duration": 111,
    "start_time": "2021-10-08T06:42:31.967Z"
   },
   {
    "duration": 38,
    "start_time": "2021-10-08T06:42:32.081Z"
   },
   {
    "duration": 4,
    "start_time": "2021-10-08T06:42:32.122Z"
   },
   {
    "duration": 181,
    "start_time": "2021-10-08T06:42:32.135Z"
   },
   {
    "duration": 5,
    "start_time": "2021-10-08T06:42:32.320Z"
   },
   {
    "duration": 13,
    "start_time": "2021-10-08T06:42:32.327Z"
   },
   {
    "duration": 16,
    "start_time": "2021-10-08T06:42:32.343Z"
   },
   {
    "duration": 18,
    "start_time": "2021-10-08T06:42:32.362Z"
   },
   {
    "duration": 25,
    "start_time": "2021-10-08T06:42:32.382Z"
   },
   {
    "duration": 88,
    "start_time": "2021-10-08T06:42:32.410Z"
   },
   {
    "duration": 6,
    "start_time": "2021-10-08T06:42:32.500Z"
   },
   {
    "duration": 6,
    "start_time": "2021-10-08T06:42:32.508Z"
   },
   {
    "duration": 8,
    "start_time": "2021-10-08T06:42:32.517Z"
   },
   {
    "duration": 358,
    "start_time": "2021-10-08T06:42:32.527Z"
   },
   {
    "duration": 315,
    "start_time": "2021-10-08T06:42:32.888Z"
   },
   {
    "duration": 3,
    "start_time": "2021-10-08T06:42:33.205Z"
   },
   {
    "duration": 1564,
    "start_time": "2021-10-08T06:42:33.210Z"
   },
   {
    "duration": 3,
    "start_time": "2021-10-08T06:42:34.777Z"
   },
   {
    "duration": 9,
    "start_time": "2021-10-08T06:42:34.782Z"
   },
   {
    "duration": 456,
    "start_time": "2021-10-08T06:42:34.793Z"
   },
   {
    "duration": 3,
    "start_time": "2021-10-08T06:42:35.252Z"
   },
   {
    "duration": 446,
    "start_time": "2021-10-08T06:42:35.257Z"
   },
   {
    "duration": 12,
    "start_time": "2021-10-08T06:42:35.706Z"
   },
   {
    "duration": 22,
    "start_time": "2021-10-08T06:42:35.721Z"
   },
   {
    "duration": 16,
    "start_time": "2021-10-08T06:42:35.745Z"
   },
   {
    "duration": 8,
    "start_time": "2021-10-08T06:42:35.763Z"
   },
   {
    "duration": 889,
    "start_time": "2021-10-08T06:42:35.773Z"
   },
   {
    "duration": 18,
    "start_time": "2021-10-08T06:42:36.665Z"
   },
   {
    "duration": 998,
    "start_time": "2021-10-08T06:42:36.702Z"
   },
   {
    "duration": 18,
    "start_time": "2021-10-08T06:42:37.703Z"
   },
   {
    "duration": 1081,
    "start_time": "2021-10-08T06:42:37.724Z"
   },
   {
    "duration": 18,
    "start_time": "2021-10-08T06:42:38.808Z"
   },
   {
    "duration": 29,
    "start_time": "2021-10-08T06:42:38.828Z"
   },
   {
    "duration": 3,
    "start_time": "2021-10-08T06:42:38.859Z"
   },
   {
    "duration": 41,
    "start_time": "2021-10-08T06:42:38.864Z"
   },
   {
    "duration": 27,
    "start_time": "2021-10-08T06:42:38.908Z"
   },
   {
    "duration": 4,
    "start_time": "2021-10-08T06:42:38.938Z"
   },
   {
    "duration": 136,
    "start_time": "2021-10-08T06:42:38.945Z"
   },
   {
    "duration": 33,
    "start_time": "2021-10-08T06:42:39.084Z"
   },
   {
    "duration": 4,
    "start_time": "2021-10-08T06:42:39.119Z"
   },
   {
    "duration": 25,
    "start_time": "2021-10-08T06:42:39.125Z"
   },
   {
    "duration": 17,
    "start_time": "2021-10-08T06:42:39.153Z"
   },
   {
    "duration": 9,
    "start_time": "2021-10-08T06:42:39.201Z"
   },
   {
    "duration": 9,
    "start_time": "2021-10-08T06:42:39.212Z"
   },
   {
    "duration": 35,
    "start_time": "2021-10-08T06:42:39.223Z"
   },
   {
    "duration": 742,
    "start_time": "2021-10-08T06:42:39.261Z"
   },
   {
    "duration": 3,
    "start_time": "2021-10-08T06:42:40.005Z"
   },
   {
    "duration": 14,
    "start_time": "2021-10-08T06:42:40.011Z"
   },
   {
    "duration": 14,
    "start_time": "2021-10-08T06:42:40.027Z"
   },
   {
    "duration": 15,
    "start_time": "2021-10-08T06:42:40.043Z"
   },
   {
    "duration": 42,
    "start_time": "2021-10-08T06:42:40.061Z"
   },
   {
    "duration": 20,
    "start_time": "2021-10-08T06:42:40.106Z"
   },
   {
    "duration": 9,
    "start_time": "2021-10-08T06:42:40.129Z"
   },
   {
    "duration": 17,
    "start_time": "2021-10-08T06:42:40.141Z"
   },
   {
    "duration": 38,
    "start_time": "2021-10-08T06:42:40.162Z"
   },
   {
    "duration": 7,
    "start_time": "2021-10-08T06:42:40.203Z"
   },
   {
    "duration": 17,
    "start_time": "2021-10-08T06:42:40.212Z"
   },
   {
    "duration": 33,
    "start_time": "2021-10-08T06:50:20.579Z"
   },
   {
    "duration": 10,
    "start_time": "2021-10-08T06:50:32.836Z"
   },
   {
    "duration": 49,
    "start_time": "2021-10-08T06:54:00.250Z"
   },
   {
    "duration": 39,
    "start_time": "2021-10-08T06:54:57.011Z"
   },
   {
    "duration": 27,
    "start_time": "2021-10-08T07:00:07.755Z"
   },
   {
    "duration": 115,
    "start_time": "2021-10-08T10:58:53.140Z"
   },
   {
    "duration": 407,
    "start_time": "2021-10-08T11:09:12.484Z"
   },
   {
    "duration": 2181,
    "start_time": "2021-10-08T11:09:18.142Z"
   },
   {
    "duration": 94,
    "start_time": "2021-10-08T11:09:21.515Z"
   },
   {
    "duration": 14,
    "start_time": "2021-10-08T11:09:27.108Z"
   },
   {
    "duration": 42,
    "start_time": "2021-10-08T11:19:00.842Z"
   },
   {
    "duration": 10,
    "start_time": "2021-10-08T11:19:06.800Z"
   },
   {
    "duration": 120,
    "start_time": "2021-10-08T11:21:47.598Z"
   },
   {
    "duration": 105,
    "start_time": "2021-10-08T11:21:51.014Z"
   },
   {
    "duration": 122,
    "start_time": "2021-10-08T11:22:02.875Z"
   },
   {
    "duration": 7,
    "start_time": "2021-10-08T11:22:06.923Z"
   },
   {
    "duration": 400,
    "start_time": "2021-10-08T11:22:14.339Z"
   },
   {
    "duration": 324,
    "start_time": "2021-10-08T11:22:16.366Z"
   },
   {
    "duration": 5,
    "start_time": "2021-10-08T11:22:39.315Z"
   },
   {
    "duration": 299,
    "start_time": "2021-10-08T11:22:42.852Z"
   },
   {
    "duration": 1851,
    "start_time": "2021-10-08T11:27:43.319Z"
   },
   {
    "duration": 93,
    "start_time": "2021-10-08T11:27:45.173Z"
   },
   {
    "duration": 12,
    "start_time": "2021-10-08T11:27:45.270Z"
   },
   {
    "duration": 9,
    "start_time": "2021-10-08T11:27:45.285Z"
   },
   {
    "duration": 13,
    "start_time": "2021-10-08T11:27:45.297Z"
   },
   {
    "duration": 90519,
    "start_time": "2021-10-08T11:27:45.313Z"
   },
   {
    "duration": 7,
    "start_time": "2021-10-08T11:29:15.834Z"
   },
   {
    "duration": 6,
    "start_time": "2021-10-08T11:29:15.844Z"
   },
   {
    "duration": 11,
    "start_time": "2021-10-08T11:29:15.863Z"
   },
   {
    "duration": 13,
    "start_time": "2021-10-08T11:29:15.877Z"
   },
   {
    "duration": 6,
    "start_time": "2021-10-08T11:29:15.893Z"
   },
   {
    "duration": 13,
    "start_time": "2021-10-08T11:29:15.901Z"
   },
   {
    "duration": 615,
    "start_time": "2021-10-08T11:29:15.917Z"
   },
   {
    "duration": 537,
    "start_time": "2021-10-08T11:29:16.535Z"
   },
   {
    "duration": 9,
    "start_time": "2021-10-08T11:29:17.074Z"
   },
   {
    "duration": 599,
    "start_time": "2021-10-08T11:29:17.085Z"
   },
   {
    "duration": 939,
    "start_time": "2021-10-08T11:29:17.686Z"
   },
   {
    "duration": 3,
    "start_time": "2021-10-08T11:29:18.628Z"
   },
   {
    "duration": 191,
    "start_time": "2021-10-08T11:29:18.634Z"
   },
   {
    "duration": 4,
    "start_time": "2021-10-08T11:29:18.828Z"
   },
   {
    "duration": 28,
    "start_time": "2021-10-08T11:29:18.835Z"
   },
   {
    "duration": 3,
    "start_time": "2021-10-08T11:29:18.865Z"
   },
   {
    "duration": 39,
    "start_time": "2021-10-08T11:29:18.945Z"
   },
   {
    "duration": 28,
    "start_time": "2021-10-08T11:29:18.989Z"
   },
   {
    "duration": 3,
    "start_time": "2021-10-08T11:29:19.019Z"
   },
   {
    "duration": 37,
    "start_time": "2021-10-08T11:29:19.025Z"
   },
   {
    "duration": 99,
    "start_time": "2021-10-08T11:29:19.065Z"
   },
   {
    "duration": 8,
    "start_time": "2021-10-08T11:29:19.167Z"
   },
   {
    "duration": 8,
    "start_time": "2021-10-08T11:29:19.178Z"
   },
   {
    "duration": 7,
    "start_time": "2021-10-08T11:29:19.189Z"
   },
   {
    "duration": 4,
    "start_time": "2021-10-08T11:29:19.198Z"
   },
   {
    "duration": 109,
    "start_time": "2021-10-08T11:29:19.205Z"
   },
   {
    "duration": 5,
    "start_time": "2021-10-08T11:29:19.316Z"
   },
   {
    "duration": 6,
    "start_time": "2021-10-08T11:29:19.324Z"
   },
   {
    "duration": 32,
    "start_time": "2021-10-08T11:29:19.332Z"
   },
   {
    "duration": 361,
    "start_time": "2021-10-08T11:29:19.367Z"
   },
   {
    "duration": 340,
    "start_time": "2021-10-08T11:29:19.731Z"
   },
   {
    "duration": 3,
    "start_time": "2021-10-08T11:29:20.073Z"
   },
   {
    "duration": 1520,
    "start_time": "2021-10-08T11:29:20.079Z"
   },
   {
    "duration": 2,
    "start_time": "2021-10-08T11:29:21.602Z"
   },
   {
    "duration": 484,
    "start_time": "2021-10-08T11:29:21.607Z"
   },
   {
    "duration": 3,
    "start_time": "2021-10-08T11:29:22.094Z"
   },
   {
    "duration": 470,
    "start_time": "2021-10-08T11:29:22.099Z"
   },
   {
    "duration": 17,
    "start_time": "2021-10-08T11:29:22.571Z"
   },
   {
    "duration": 20,
    "start_time": "2021-10-08T11:29:22.590Z"
   },
   {
    "duration": 12,
    "start_time": "2021-10-08T11:29:22.612Z"
   },
   {
    "duration": 10,
    "start_time": "2021-10-08T11:29:22.626Z"
   },
   {
    "duration": 809,
    "start_time": "2021-10-08T11:29:22.638Z"
   },
   {
    "duration": 24,
    "start_time": "2021-10-08T11:29:23.450Z"
   },
   {
    "duration": 907,
    "start_time": "2021-10-08T11:29:23.477Z"
   },
   {
    "duration": 13,
    "start_time": "2021-10-08T11:29:24.387Z"
   },
   {
    "duration": 792,
    "start_time": "2021-10-08T11:29:24.403Z"
   },
   {
    "duration": 13,
    "start_time": "2021-10-08T11:29:25.198Z"
   },
   {
    "duration": 16,
    "start_time": "2021-10-08T11:29:25.214Z"
   },
   {
    "duration": 30,
    "start_time": "2021-10-08T11:29:25.232Z"
   },
   {
    "duration": 20,
    "start_time": "2021-10-08T11:29:25.265Z"
   },
   {
    "duration": 23,
    "start_time": "2021-10-08T11:29:25.288Z"
   },
   {
    "duration": 4,
    "start_time": "2021-10-08T11:29:25.313Z"
   },
   {
    "duration": 57,
    "start_time": "2021-10-08T11:29:25.320Z"
   },
   {
    "duration": 20,
    "start_time": "2021-10-08T11:29:25.380Z"
   },
   {
    "duration": 3,
    "start_time": "2021-10-08T11:29:25.402Z"
   },
   {
    "duration": 58,
    "start_time": "2021-10-08T11:29:25.408Z"
   },
   {
    "duration": 21,
    "start_time": "2021-10-08T11:29:25.468Z"
   },
   {
    "duration": 484,
    "start_time": "2021-10-08T11:29:25.491Z"
   },
   {
    "duration": -74,
    "start_time": "2021-10-08T11:29:26.053Z"
   },
   {
    "duration": -78,
    "start_time": "2021-10-08T11:29:26.059Z"
   },
   {
    "duration": -78,
    "start_time": "2021-10-08T11:29:26.061Z"
   },
   {
    "duration": -78,
    "start_time": "2021-10-08T11:29:26.063Z"
   },
   {
    "duration": -79,
    "start_time": "2021-10-08T11:29:26.066Z"
   },
   {
    "duration": -78,
    "start_time": "2021-10-08T11:29:26.067Z"
   },
   {
    "duration": -79,
    "start_time": "2021-10-08T11:29:26.071Z"
   },
   {
    "duration": -79,
    "start_time": "2021-10-08T11:29:26.073Z"
   },
   {
    "duration": -79,
    "start_time": "2021-10-08T11:29:26.075Z"
   },
   {
    "duration": -77,
    "start_time": "2021-10-08T11:29:26.076Z"
   },
   {
    "duration": -77,
    "start_time": "2021-10-08T11:29:26.078Z"
   },
   {
    "duration": -77,
    "start_time": "2021-10-08T11:29:26.080Z"
   },
   {
    "duration": -76,
    "start_time": "2021-10-08T11:29:26.081Z"
   },
   {
    "duration": -75,
    "start_time": "2021-10-08T11:29:26.083Z"
   },
   {
    "duration": -75,
    "start_time": "2021-10-08T11:29:26.085Z"
   },
   {
    "duration": -74,
    "start_time": "2021-10-08T11:29:26.086Z"
   },
   {
    "duration": 6,
    "start_time": "2021-10-08T12:49:33.097Z"
   },
   {
    "duration": 7,
    "start_time": "2021-10-08T12:49:36.847Z"
   },
   {
    "duration": 8,
    "start_time": "2021-10-08T12:50:12.142Z"
   },
   {
    "duration": 5,
    "start_time": "2021-10-08T12:50:17.516Z"
   },
   {
    "duration": 9,
    "start_time": "2021-10-08T12:50:21.143Z"
   },
   {
    "duration": 36,
    "start_time": "2021-10-08T12:50:26.099Z"
   },
   {
    "duration": 26,
    "start_time": "2021-10-08T13:36:05.786Z"
   },
   {
    "duration": 338,
    "start_time": "2021-10-08T13:36:13.281Z"
   },
   {
    "duration": 102,
    "start_time": "2021-10-08T13:36:24.710Z"
   },
   {
    "duration": 337,
    "start_time": "2021-10-08T13:36:29.995Z"
   },
   {
    "duration": 1435,
    "start_time": "2021-10-08T13:36:43.303Z"
   },
   {
    "duration": 109,
    "start_time": "2021-10-08T13:36:44.741Z"
   },
   {
    "duration": 18,
    "start_time": "2021-10-08T13:36:44.854Z"
   },
   {
    "duration": 25,
    "start_time": "2021-10-08T13:36:44.875Z"
   },
   {
    "duration": 22,
    "start_time": "2021-10-08T13:36:44.904Z"
   },
   {
    "duration": 101091,
    "start_time": "2021-10-08T13:36:44.928Z"
   },
   {
    "duration": 6,
    "start_time": "2021-10-08T13:38:26.022Z"
   },
   {
    "duration": 3,
    "start_time": "2021-10-08T13:38:26.032Z"
   },
   {
    "duration": 27,
    "start_time": "2021-10-08T13:38:26.038Z"
   },
   {
    "duration": 20,
    "start_time": "2021-10-08T13:38:26.067Z"
   },
   {
    "duration": 9,
    "start_time": "2021-10-08T13:38:26.089Z"
   },
   {
    "duration": 19,
    "start_time": "2021-10-08T13:38:26.106Z"
   },
   {
    "duration": 599,
    "start_time": "2021-10-08T13:38:26.127Z"
   },
   {
    "duration": 480,
    "start_time": "2021-10-08T13:38:26.728Z"
   },
   {
    "duration": 8,
    "start_time": "2021-10-08T13:38:27.211Z"
   },
   {
    "duration": 598,
    "start_time": "2021-10-08T13:38:27.221Z"
   },
   {
    "duration": 1016,
    "start_time": "2021-10-08T13:38:27.822Z"
   },
   {
    "duration": 3,
    "start_time": "2021-10-08T13:38:28.840Z"
   },
   {
    "duration": 210,
    "start_time": "2021-10-08T13:38:28.845Z"
   },
   {
    "duration": 5,
    "start_time": "2021-10-08T13:38:29.057Z"
   },
   {
    "duration": 10,
    "start_time": "2021-10-08T13:38:29.068Z"
   },
   {
    "duration": 7,
    "start_time": "2021-10-08T13:38:29.087Z"
   },
   {
    "duration": 35,
    "start_time": "2021-10-08T13:38:29.197Z"
   },
   {
    "duration": 63,
    "start_time": "2021-10-08T13:38:29.237Z"
   },
   {
    "duration": 5,
    "start_time": "2021-10-08T13:38:29.303Z"
   },
   {
    "duration": 8,
    "start_time": "2021-10-08T13:38:29.311Z"
   },
   {
    "duration": 117,
    "start_time": "2021-10-08T13:38:29.321Z"
   },
   {
    "duration": 8,
    "start_time": "2021-10-08T13:38:29.440Z"
   },
   {
    "duration": 32,
    "start_time": "2021-10-08T13:38:29.450Z"
   },
   {
    "duration": 9,
    "start_time": "2021-10-08T13:38:29.487Z"
   },
   {
    "duration": 22,
    "start_time": "2021-10-08T13:38:29.499Z"
   },
   {
    "duration": 76,
    "start_time": "2021-10-08T13:38:29.523Z"
   },
   {
    "duration": 10,
    "start_time": "2021-10-08T13:38:29.602Z"
   },
   {
    "duration": 5,
    "start_time": "2021-10-08T13:38:29.615Z"
   },
   {
    "duration": 8,
    "start_time": "2021-10-08T13:38:29.623Z"
   },
   {
    "duration": 386,
    "start_time": "2021-10-08T13:38:29.634Z"
   },
   {
    "duration": 320,
    "start_time": "2021-10-08T13:38:30.023Z"
   },
   {
    "duration": 3,
    "start_time": "2021-10-08T13:38:30.348Z"
   },
   {
    "duration": 1645,
    "start_time": "2021-10-08T13:38:30.368Z"
   },
   {
    "duration": 4,
    "start_time": "2021-10-08T13:38:32.015Z"
   },
   {
    "duration": 564,
    "start_time": "2021-10-08T13:38:32.021Z"
   },
   {
    "duration": 2,
    "start_time": "2021-10-08T13:38:32.587Z"
   },
   {
    "duration": 513,
    "start_time": "2021-10-08T13:38:32.593Z"
   },
   {
    "duration": 16,
    "start_time": "2021-10-08T13:38:33.108Z"
   },
   {
    "duration": 50,
    "start_time": "2021-10-08T13:38:33.128Z"
   },
   {
    "duration": 8,
    "start_time": "2021-10-08T13:38:33.185Z"
   },
   {
    "duration": 9,
    "start_time": "2021-10-08T13:38:33.195Z"
   },
   {
    "duration": 704,
    "start_time": "2021-10-08T13:38:33.207Z"
   },
   {
    "duration": 13,
    "start_time": "2021-10-08T13:38:33.913Z"
   },
   {
    "duration": 857,
    "start_time": "2021-10-08T13:38:33.929Z"
   },
   {
    "duration": 26,
    "start_time": "2021-10-08T13:38:34.789Z"
   },
   {
    "duration": 766,
    "start_time": "2021-10-08T13:38:34.819Z"
   },
   {
    "duration": 22,
    "start_time": "2021-10-08T13:38:35.588Z"
   },
   {
    "duration": 17,
    "start_time": "2021-10-08T13:38:35.613Z"
   },
   {
    "duration": 4,
    "start_time": "2021-10-08T13:38:35.632Z"
   },
   {
    "duration": 36,
    "start_time": "2021-10-08T13:38:35.639Z"
   },
   {
    "duration": 26,
    "start_time": "2021-10-08T13:38:35.678Z"
   },
   {
    "duration": 3,
    "start_time": "2021-10-08T13:38:35.709Z"
   },
   {
    "duration": 74,
    "start_time": "2021-10-08T13:38:35.715Z"
   },
   {
    "duration": 19,
    "start_time": "2021-10-08T13:38:35.791Z"
   },
   {
    "duration": 9,
    "start_time": "2021-10-08T13:38:35.817Z"
   },
   {
    "duration": 38,
    "start_time": "2021-10-08T13:38:35.874Z"
   },
   {
    "duration": 60,
    "start_time": "2021-10-08T13:38:35.916Z"
   },
   {
    "duration": 47,
    "start_time": "2021-10-08T13:38:35.980Z"
   },
   {
    "duration": 13,
    "start_time": "2021-10-08T13:38:36.030Z"
   },
   {
    "duration": 4,
    "start_time": "2021-10-08T13:38:36.047Z"
   },
   {
    "duration": 31,
    "start_time": "2021-10-08T13:38:36.055Z"
   },
   {
    "duration": 1196,
    "start_time": "2021-10-08T13:38:36.094Z"
   },
   {
    "duration": 6,
    "start_time": "2021-10-08T13:38:37.293Z"
   },
   {
    "duration": 546,
    "start_time": "2021-10-08T13:38:37.302Z"
   },
   {
    "duration": -11,
    "start_time": "2021-10-08T13:38:37.862Z"
   },
   {
    "duration": -13,
    "start_time": "2021-10-08T13:38:37.866Z"
   },
   {
    "duration": 30,
    "start_time": "2021-10-08T13:39:17.854Z"
   },
   {
    "duration": 23,
    "start_time": "2021-10-08T13:39:29.129Z"
   },
   {
    "duration": 33,
    "start_time": "2021-10-08T13:39:32.487Z"
   },
   {
    "duration": 36,
    "start_time": "2021-10-08T13:40:07.853Z"
   },
   {
    "duration": 26,
    "start_time": "2021-10-08T13:40:16.481Z"
   },
   {
    "duration": 31,
    "start_time": "2021-10-08T13:40:31.840Z"
   },
   {
    "duration": 33,
    "start_time": "2021-10-08T13:40:44.086Z"
   },
   {
    "duration": 49,
    "start_time": "2021-10-08T13:47:04.423Z"
   },
   {
    "duration": 5,
    "start_time": "2021-10-08T13:47:08.326Z"
   },
   {
    "duration": 1503,
    "start_time": "2021-10-08T13:47:18.220Z"
   },
   {
    "duration": 90,
    "start_time": "2021-10-08T13:47:19.725Z"
   },
   {
    "duration": 13,
    "start_time": "2021-10-08T13:47:19.818Z"
   },
   {
    "duration": 7,
    "start_time": "2021-10-08T13:47:19.834Z"
   },
   {
    "duration": 19,
    "start_time": "2021-10-08T13:47:19.865Z"
   },
   {
    "duration": 97715,
    "start_time": "2021-10-08T13:47:19.888Z"
   },
   {
    "duration": 7,
    "start_time": "2021-10-08T13:48:57.605Z"
   },
   {
    "duration": 5,
    "start_time": "2021-10-08T13:48:57.616Z"
   },
   {
    "duration": 22,
    "start_time": "2021-10-08T13:48:57.624Z"
   },
   {
    "duration": 32,
    "start_time": "2021-10-08T13:48:57.648Z"
   },
   {
    "duration": 12,
    "start_time": "2021-10-08T13:48:57.684Z"
   },
   {
    "duration": 18,
    "start_time": "2021-10-08T13:48:57.698Z"
   },
   {
    "duration": 656,
    "start_time": "2021-10-08T13:48:57.718Z"
   },
   {
    "duration": 504,
    "start_time": "2021-10-08T13:48:58.376Z"
   },
   {
    "duration": 9,
    "start_time": "2021-10-08T13:48:58.883Z"
   },
   {
    "duration": 569,
    "start_time": "2021-10-08T13:48:58.895Z"
   },
   {
    "duration": 928,
    "start_time": "2021-10-08T13:48:59.467Z"
   },
   {
    "duration": 3,
    "start_time": "2021-10-08T13:49:00.399Z"
   },
   {
    "duration": 296,
    "start_time": "2021-10-08T13:49:00.404Z"
   },
   {
    "duration": 7,
    "start_time": "2021-10-08T13:49:00.703Z"
   },
   {
    "duration": 495,
    "start_time": "2021-10-08T13:49:00.713Z"
   },
   {
    "duration": -103,
    "start_time": "2021-10-08T13:49:01.316Z"
   },
   {
    "duration": -104,
    "start_time": "2021-10-08T13:49:01.318Z"
   },
   {
    "duration": -104,
    "start_time": "2021-10-08T13:49:01.320Z"
   },
   {
    "duration": -106,
    "start_time": "2021-10-08T13:49:01.323Z"
   },
   {
    "duration": -109,
    "start_time": "2021-10-08T13:49:01.327Z"
   },
   {
    "duration": -111,
    "start_time": "2021-10-08T13:49:01.330Z"
   },
   {
    "duration": -111,
    "start_time": "2021-10-08T13:49:01.332Z"
   },
   {
    "duration": -111,
    "start_time": "2021-10-08T13:49:01.333Z"
   },
   {
    "duration": -112,
    "start_time": "2021-10-08T13:49:01.335Z"
   },
   {
    "duration": -112,
    "start_time": "2021-10-08T13:49:01.337Z"
   },
   {
    "duration": -113,
    "start_time": "2021-10-08T13:49:01.339Z"
   },
   {
    "duration": -113,
    "start_time": "2021-10-08T13:49:01.340Z"
   },
   {
    "duration": -114,
    "start_time": "2021-10-08T13:49:01.342Z"
   },
   {
    "duration": -115,
    "start_time": "2021-10-08T13:49:01.344Z"
   },
   {
    "duration": -114,
    "start_time": "2021-10-08T13:49:01.345Z"
   },
   {
    "duration": -115,
    "start_time": "2021-10-08T13:49:01.347Z"
   },
   {
    "duration": -119,
    "start_time": "2021-10-08T13:49:01.352Z"
   },
   {
    "duration": -120,
    "start_time": "2021-10-08T13:49:01.355Z"
   },
   {
    "duration": -121,
    "start_time": "2021-10-08T13:49:01.357Z"
   },
   {
    "duration": -121,
    "start_time": "2021-10-08T13:49:01.358Z"
   },
   {
    "duration": -121,
    "start_time": "2021-10-08T13:49:01.359Z"
   },
   {
    "duration": -122,
    "start_time": "2021-10-08T13:49:01.361Z"
   },
   {
    "duration": -121,
    "start_time": "2021-10-08T13:49:01.362Z"
   },
   {
    "duration": -122,
    "start_time": "2021-10-08T13:49:01.364Z"
   },
   {
    "duration": -122,
    "start_time": "2021-10-08T13:49:01.365Z"
   },
   {
    "duration": -123,
    "start_time": "2021-10-08T13:49:01.367Z"
   },
   {
    "duration": -122,
    "start_time": "2021-10-08T13:49:01.368Z"
   },
   {
    "duration": -123,
    "start_time": "2021-10-08T13:49:01.370Z"
   },
   {
    "duration": -123,
    "start_time": "2021-10-08T13:49:01.371Z"
   },
   {
    "duration": -122,
    "start_time": "2021-10-08T13:49:01.372Z"
   },
   {
    "duration": -123,
    "start_time": "2021-10-08T13:49:01.374Z"
   },
   {
    "duration": -123,
    "start_time": "2021-10-08T13:49:01.375Z"
   },
   {
    "duration": -116,
    "start_time": "2021-10-08T13:49:01.377Z"
   },
   {
    "duration": -116,
    "start_time": "2021-10-08T13:49:01.378Z"
   },
   {
    "duration": -116,
    "start_time": "2021-10-08T13:49:01.379Z"
   },
   {
    "duration": -117,
    "start_time": "2021-10-08T13:49:01.381Z"
   },
   {
    "duration": -117,
    "start_time": "2021-10-08T13:49:01.382Z"
   },
   {
    "duration": -117,
    "start_time": "2021-10-08T13:49:01.383Z"
   },
   {
    "duration": -117,
    "start_time": "2021-10-08T13:49:01.384Z"
   },
   {
    "duration": -118,
    "start_time": "2021-10-08T13:49:01.386Z"
   },
   {
    "duration": -118,
    "start_time": "2021-10-08T13:49:01.387Z"
   },
   {
    "duration": -118,
    "start_time": "2021-10-08T13:49:01.388Z"
   },
   {
    "duration": -122,
    "start_time": "2021-10-08T13:49:01.393Z"
   },
   {
    "duration": -118,
    "start_time": "2021-10-08T13:49:01.395Z"
   },
   {
    "duration": -119,
    "start_time": "2021-10-08T13:49:01.397Z"
   },
   {
    "duration": -119,
    "start_time": "2021-10-08T13:49:01.398Z"
   },
   {
    "duration": -114,
    "start_time": "2021-10-08T13:49:01.400Z"
   },
   {
    "duration": -113,
    "start_time": "2021-10-08T13:49:01.401Z"
   },
   {
    "duration": -113,
    "start_time": "2021-10-08T13:49:01.402Z"
   },
   {
    "duration": -114,
    "start_time": "2021-10-08T13:49:01.403Z"
   },
   {
    "duration": -115,
    "start_time": "2021-10-08T13:49:01.405Z"
   },
   {
    "duration": -116,
    "start_time": "2021-10-08T13:49:01.407Z"
   },
   {
    "duration": -115,
    "start_time": "2021-10-08T13:49:01.408Z"
   },
   {
    "duration": 233,
    "start_time": "2021-10-08T13:49:30.118Z"
   },
   {
    "duration": 6,
    "start_time": "2021-10-08T13:49:33.165Z"
   },
   {
    "duration": 16,
    "start_time": "2021-10-08T13:49:57.364Z"
   },
   {
    "duration": 4,
    "start_time": "2021-10-08T13:49:59.033Z"
   },
   {
    "duration": 50,
    "start_time": "2021-10-08T13:50:13.947Z"
   },
   {
    "duration": 28,
    "start_time": "2021-10-08T13:50:14.415Z"
   },
   {
    "duration": 16,
    "start_time": "2021-10-08T13:50:24.663Z"
   },
   {
    "duration": 96,
    "start_time": "2021-10-08T13:50:24.842Z"
   },
   {
    "duration": 8,
    "start_time": "2021-10-08T13:50:25.040Z"
   },
   {
    "duration": 7,
    "start_time": "2021-10-08T13:50:25.213Z"
   },
   {
    "duration": 8,
    "start_time": "2021-10-08T13:50:25.403Z"
   },
   {
    "duration": 4,
    "start_time": "2021-10-08T13:50:25.624Z"
   },
   {
    "duration": 81,
    "start_time": "2021-10-08T13:50:25.871Z"
   },
   {
    "duration": 5,
    "start_time": "2021-10-08T13:50:26.226Z"
   },
   {
    "duration": 5,
    "start_time": "2021-10-08T13:50:26.446Z"
   },
   {
    "duration": 7,
    "start_time": "2021-10-08T13:50:26.639Z"
   },
   {
    "duration": 328,
    "start_time": "2021-10-08T13:50:26.935Z"
   },
   {
    "duration": 304,
    "start_time": "2021-10-08T13:50:27.337Z"
   },
   {
    "duration": 3,
    "start_time": "2021-10-08T13:50:27.831Z"
   },
   {
    "duration": 1529,
    "start_time": "2021-10-08T13:50:28.203Z"
   },
   {
    "duration": 3,
    "start_time": "2021-10-08T13:50:37.448Z"
   },
   {
    "duration": 489,
    "start_time": "2021-10-08T13:50:37.454Z"
   },
   {
    "duration": 3,
    "start_time": "2021-10-08T13:50:37.946Z"
   },
   {
    "duration": 502,
    "start_time": "2021-10-08T13:50:37.952Z"
   },
   {
    "duration": 15,
    "start_time": "2021-10-08T13:50:38.457Z"
   },
   {
    "duration": 28,
    "start_time": "2021-10-08T13:50:38.476Z"
   },
   {
    "duration": 3,
    "start_time": "2021-10-08T13:50:42.540Z"
   },
   {
    "duration": 5,
    "start_time": "2021-10-08T13:50:42.697Z"
   },
   {
    "duration": 696,
    "start_time": "2021-10-08T13:50:42.843Z"
   },
   {
    "duration": 27,
    "start_time": "2021-10-08T13:50:43.542Z"
   },
   {
    "duration": 778,
    "start_time": "2021-10-08T13:50:43.573Z"
   },
   {
    "duration": 28,
    "start_time": "2021-10-08T13:50:44.361Z"
   },
   {
    "duration": 825,
    "start_time": "2021-10-08T13:50:44.396Z"
   },
   {
    "duration": 13,
    "start_time": "2021-10-08T13:50:45.224Z"
   },
   {
    "duration": 47,
    "start_time": "2021-10-08T13:50:45.240Z"
   },
   {
    "duration": 4,
    "start_time": "2021-10-08T13:50:45.750Z"
   },
   {
    "duration": 20,
    "start_time": "2021-10-08T13:50:45.939Z"
   },
   {
    "duration": 18,
    "start_time": "2021-10-08T13:50:46.128Z"
   },
   {
    "duration": 3,
    "start_time": "2021-10-08T13:50:46.299Z"
   },
   {
    "duration": 23,
    "start_time": "2021-10-08T13:50:46.483Z"
   },
   {
    "duration": 24,
    "start_time": "2021-10-08T13:50:46.679Z"
   },
   {
    "duration": 4,
    "start_time": "2021-10-08T13:50:46.877Z"
   },
   {
    "duration": 26,
    "start_time": "2021-10-08T13:50:47.057Z"
   },
   {
    "duration": 23,
    "start_time": "2021-10-08T13:50:47.272Z"
   },
   {
    "duration": 5,
    "start_time": "2021-10-08T13:50:55.241Z"
   },
   {
    "duration": 9,
    "start_time": "2021-10-08T13:50:55.412Z"
   },
   {
    "duration": 5,
    "start_time": "2021-10-08T13:50:55.593Z"
   },
   {
    "duration": 45,
    "start_time": "2021-10-08T13:50:55.758Z"
   },
   {
    "duration": 26,
    "start_time": "2021-10-08T13:51:50.599Z"
   },
   {
    "duration": 1596,
    "start_time": "2021-10-08T13:53:14.648Z"
   },
   {
    "duration": 104,
    "start_time": "2021-10-08T13:53:16.247Z"
   },
   {
    "duration": 18,
    "start_time": "2021-10-08T13:53:16.364Z"
   },
   {
    "duration": 13,
    "start_time": "2021-10-08T13:53:16.386Z"
   },
   {
    "duration": 26,
    "start_time": "2021-10-08T13:53:16.402Z"
   },
   {
    "duration": 99482,
    "start_time": "2021-10-08T13:53:16.430Z"
   },
   {
    "duration": 9,
    "start_time": "2021-10-08T13:54:55.914Z"
   },
   {
    "duration": 5,
    "start_time": "2021-10-08T13:54:55.926Z"
   },
   {
    "duration": 37,
    "start_time": "2021-10-08T13:54:55.934Z"
   },
   {
    "duration": 23,
    "start_time": "2021-10-08T13:54:55.974Z"
   },
   {
    "duration": 8,
    "start_time": "2021-10-08T13:54:56.000Z"
   },
   {
    "duration": 16,
    "start_time": "2021-10-08T13:54:56.011Z"
   },
   {
    "duration": 721,
    "start_time": "2021-10-08T13:54:56.029Z"
   },
   {
    "duration": 541,
    "start_time": "2021-10-08T13:54:56.753Z"
   },
   {
    "duration": 14,
    "start_time": "2021-10-08T13:54:57.298Z"
   },
   {
    "duration": 560,
    "start_time": "2021-10-08T13:54:57.315Z"
   },
   {
    "duration": 959,
    "start_time": "2021-10-08T13:54:57.878Z"
   },
   {
    "duration": 4,
    "start_time": "2021-10-08T13:54:58.840Z"
   },
   {
    "duration": 295,
    "start_time": "2021-10-08T13:54:58.848Z"
   },
   {
    "duration": 27,
    "start_time": "2021-10-08T13:54:59.146Z"
   },
   {
    "duration": 4,
    "start_time": "2021-10-08T13:54:59.175Z"
   },
   {
    "duration": 16,
    "start_time": "2021-10-08T13:54:59.181Z"
   },
   {
    "duration": 3,
    "start_time": "2021-10-08T13:54:59.204Z"
   },
   {
    "duration": 30,
    "start_time": "2021-10-08T13:54:59.211Z"
   },
   {
    "duration": 57,
    "start_time": "2021-10-08T13:54:59.244Z"
   },
   {
    "duration": 3,
    "start_time": "2021-10-08T13:54:59.303Z"
   },
   {
    "duration": 13,
    "start_time": "2021-10-08T13:54:59.309Z"
   },
   {
    "duration": 117,
    "start_time": "2021-10-08T13:54:59.325Z"
   },
   {
    "duration": 7,
    "start_time": "2021-10-08T13:54:59.444Z"
   },
   {
    "duration": 13,
    "start_time": "2021-10-08T13:54:59.454Z"
   },
   {
    "duration": 28,
    "start_time": "2021-10-08T13:54:59.471Z"
   },
   {
    "duration": 3,
    "start_time": "2021-10-08T13:54:59.504Z"
   },
   {
    "duration": 82,
    "start_time": "2021-10-08T13:54:59.510Z"
   },
   {
    "duration": 5,
    "start_time": "2021-10-08T13:54:59.594Z"
   },
   {
    "duration": 6,
    "start_time": "2021-10-08T13:54:59.604Z"
   },
   {
    "duration": 8,
    "start_time": "2021-10-08T13:54:59.613Z"
   },
   {
    "duration": 378,
    "start_time": "2021-10-08T13:54:59.624Z"
   },
   {
    "duration": 323,
    "start_time": "2021-10-08T13:55:00.005Z"
   },
   {
    "duration": 3,
    "start_time": "2021-10-08T13:55:00.331Z"
   },
   {
    "duration": 1562,
    "start_time": "2021-10-08T13:55:00.336Z"
   },
   {
    "duration": 5,
    "start_time": "2021-10-08T13:55:01.900Z"
   },
   {
    "duration": 483,
    "start_time": "2021-10-08T13:55:01.908Z"
   },
   {
    "duration": 4,
    "start_time": "2021-10-08T13:55:02.394Z"
   },
   {
    "duration": 497,
    "start_time": "2021-10-08T13:55:02.401Z"
   },
   {
    "duration": 12,
    "start_time": "2021-10-08T13:55:02.901Z"
   },
   {
    "duration": 22,
    "start_time": "2021-10-08T13:55:02.915Z"
   },
   {
    "duration": 25,
    "start_time": "2021-10-08T13:55:02.940Z"
   },
   {
    "duration": 9,
    "start_time": "2021-10-08T13:55:02.967Z"
   },
   {
    "duration": 725,
    "start_time": "2021-10-08T13:55:02.982Z"
   },
   {
    "duration": 13,
    "start_time": "2021-10-08T13:55:03.709Z"
   },
   {
    "duration": 799,
    "start_time": "2021-10-08T13:55:03.724Z"
   },
   {
    "duration": 12,
    "start_time": "2021-10-08T13:55:04.526Z"
   },
   {
    "duration": 782,
    "start_time": "2021-10-08T13:55:04.541Z"
   },
   {
    "duration": 13,
    "start_time": "2021-10-08T13:55:05.325Z"
   },
   {
    "duration": 37,
    "start_time": "2021-10-08T13:55:05.340Z"
   },
   {
    "duration": 4,
    "start_time": "2021-10-08T13:55:05.380Z"
   },
   {
    "duration": 25,
    "start_time": "2021-10-08T13:55:05.386Z"
   },
   {
    "duration": 61,
    "start_time": "2021-10-08T13:55:05.414Z"
   },
   {
    "duration": 6,
    "start_time": "2021-10-08T13:55:05.476Z"
   },
   {
    "duration": 32,
    "start_time": "2021-10-08T13:55:05.484Z"
   },
   {
    "duration": 17,
    "start_time": "2021-10-08T13:55:05.519Z"
   },
   {
    "duration": 3,
    "start_time": "2021-10-08T13:55:05.539Z"
   },
   {
    "duration": 21,
    "start_time": "2021-10-08T13:55:05.563Z"
   },
   {
    "duration": 17,
    "start_time": "2021-10-08T13:55:05.586Z"
   },
   {
    "duration": 5,
    "start_time": "2021-10-08T13:55:05.606Z"
   },
   {
    "duration": 12,
    "start_time": "2021-10-08T13:55:05.613Z"
   },
   {
    "duration": 6,
    "start_time": "2021-10-08T13:55:05.627Z"
   },
   {
    "duration": 47,
    "start_time": "2021-10-08T13:55:05.667Z"
   },
   {
    "duration": 879,
    "start_time": "2021-10-08T13:55:05.716Z"
   },
   {
    "duration": 5,
    "start_time": "2021-10-08T13:55:06.598Z"
   },
   {
    "duration": 694,
    "start_time": "2021-10-08T13:55:06.606Z"
   },
   {
    "duration": -30,
    "start_time": "2021-10-08T13:55:07.334Z"
   },
   {
    "duration": -35,
    "start_time": "2021-10-08T13:55:07.340Z"
   },
   {
    "duration": 1616,
    "start_time": "2021-10-08T13:56:00.478Z"
   },
   {
    "duration": 8,
    "start_time": "2021-10-08T13:56:39.330Z"
   },
   {
    "duration": 12,
    "start_time": "2021-10-08T13:56:43.882Z"
   },
   {
    "duration": 25,
    "start_time": "2021-10-08T13:57:35.334Z"
   },
   {
    "duration": 29,
    "start_time": "2021-10-08T13:57:41.973Z"
   },
   {
    "duration": 19,
    "start_time": "2021-10-08T13:57:56.623Z"
   },
   {
    "duration": 28,
    "start_time": "2021-10-08T13:58:05.188Z"
   },
   {
    "duration": 38,
    "start_time": "2021-10-08T13:58:06.863Z"
   },
   {
    "duration": 1482,
    "start_time": "2021-10-08T13:58:16.318Z"
   },
   {
    "duration": 106,
    "start_time": "2021-10-08T13:58:17.806Z"
   },
   {
    "duration": 11,
    "start_time": "2021-10-08T13:58:17.916Z"
   },
   {
    "duration": 8,
    "start_time": "2021-10-08T13:58:17.930Z"
   },
   {
    "duration": 22,
    "start_time": "2021-10-08T13:58:17.972Z"
   },
   {
    "duration": 96772,
    "start_time": "2021-10-08T13:58:17.996Z"
   },
   {
    "duration": 13,
    "start_time": "2021-10-08T13:59:54.774Z"
   },
   {
    "duration": 8,
    "start_time": "2021-10-08T13:59:54.793Z"
   },
   {
    "duration": 33,
    "start_time": "2021-10-08T13:59:54.806Z"
   },
   {
    "duration": 120,
    "start_time": "2021-10-08T13:59:54.842Z"
   },
   {
    "duration": 9,
    "start_time": "2021-10-08T13:59:54.965Z"
   },
   {
    "duration": 46,
    "start_time": "2021-10-08T13:59:54.977Z"
   },
   {
    "duration": 672,
    "start_time": "2021-10-08T13:59:55.026Z"
   },
   {
    "duration": 493,
    "start_time": "2021-10-08T13:59:55.711Z"
   },
   {
    "duration": 9,
    "start_time": "2021-10-08T13:59:56.209Z"
   },
   {
    "duration": 604,
    "start_time": "2021-10-08T13:59:56.221Z"
   },
   {
    "duration": 954,
    "start_time": "2021-10-08T13:59:56.828Z"
   },
   {
    "duration": 8,
    "start_time": "2021-10-08T13:59:57.784Z"
   },
   {
    "duration": 334,
    "start_time": "2021-10-08T13:59:57.810Z"
   },
   {
    "duration": 7,
    "start_time": "2021-10-08T13:59:58.147Z"
   },
   {
    "duration": 18,
    "start_time": "2021-10-08T13:59:58.171Z"
   },
   {
    "duration": 18,
    "start_time": "2021-10-08T13:59:58.192Z"
   },
   {
    "duration": 4,
    "start_time": "2021-10-08T13:59:58.217Z"
   },
   {
    "duration": 49,
    "start_time": "2021-10-08T13:59:58.227Z"
   },
   {
    "duration": 36,
    "start_time": "2021-10-08T13:59:58.279Z"
   },
   {
    "duration": 10,
    "start_time": "2021-10-08T13:59:58.318Z"
   },
   {
    "duration": 11,
    "start_time": "2021-10-08T13:59:58.331Z"
   },
   {
    "duration": 101,
    "start_time": "2021-10-08T13:59:58.375Z"
   },
   {
    "duration": 19,
    "start_time": "2021-10-08T13:59:58.478Z"
   },
   {
    "duration": 12,
    "start_time": "2021-10-08T13:59:58.502Z"
   },
   {
    "duration": 11,
    "start_time": "2021-10-08T13:59:58.520Z"
   },
   {
    "duration": 7,
    "start_time": "2021-10-08T13:59:58.533Z"
   },
   {
    "duration": 78,
    "start_time": "2021-10-08T13:59:58.542Z"
   },
   {
    "duration": 8,
    "start_time": "2021-10-08T13:59:58.623Z"
   },
   {
    "duration": 5,
    "start_time": "2021-10-08T13:59:58.634Z"
   },
   {
    "duration": 25,
    "start_time": "2021-10-08T13:59:58.642Z"
   },
   {
    "duration": 355,
    "start_time": "2021-10-08T13:59:58.672Z"
   },
   {
    "duration": 291,
    "start_time": "2021-10-08T13:59:59.029Z"
   },
   {
    "duration": 5,
    "start_time": "2021-10-08T13:59:59.323Z"
   },
   {
    "duration": 1763,
    "start_time": "2021-10-08T13:59:59.331Z"
   },
   {
    "duration": 3,
    "start_time": "2021-10-08T14:00:01.096Z"
   },
   {
    "duration": 533,
    "start_time": "2021-10-08T14:00:01.102Z"
   },
   {
    "duration": 4,
    "start_time": "2021-10-08T14:00:01.638Z"
   },
   {
    "duration": 495,
    "start_time": "2021-10-08T14:00:01.645Z"
   },
   {
    "duration": 25,
    "start_time": "2021-10-08T14:00:02.143Z"
   },
   {
    "duration": 26,
    "start_time": "2021-10-08T14:00:02.172Z"
   },
   {
    "duration": 35,
    "start_time": "2021-10-08T14:00:02.202Z"
   },
   {
    "duration": 17,
    "start_time": "2021-10-08T14:00:02.239Z"
   },
   {
    "duration": 758,
    "start_time": "2021-10-08T14:00:02.258Z"
   },
   {
    "duration": 17,
    "start_time": "2021-10-08T14:00:03.019Z"
   },
   {
    "duration": 774,
    "start_time": "2021-10-08T14:00:03.039Z"
   },
   {
    "duration": 14,
    "start_time": "2021-10-08T14:00:03.816Z"
   },
   {
    "duration": 884,
    "start_time": "2021-10-08T14:00:03.833Z"
   },
   {
    "duration": 16,
    "start_time": "2021-10-08T14:00:04.721Z"
   },
   {
    "duration": 35,
    "start_time": "2021-10-08T14:00:04.739Z"
   },
   {
    "duration": 6,
    "start_time": "2021-10-08T14:00:04.776Z"
   },
   {
    "duration": 22,
    "start_time": "2021-10-08T14:00:04.786Z"
   },
   {
    "duration": 20,
    "start_time": "2021-10-08T14:00:04.811Z"
   },
   {
    "duration": 3,
    "start_time": "2021-10-08T14:00:04.834Z"
   },
   {
    "duration": 47,
    "start_time": "2021-10-08T14:00:04.871Z"
   },
   {
    "duration": 22,
    "start_time": "2021-10-08T14:00:04.923Z"
   },
   {
    "duration": 4,
    "start_time": "2021-10-08T14:00:04.947Z"
   },
   {
    "duration": 67,
    "start_time": "2021-10-08T14:00:04.954Z"
   },
   {
    "duration": 23,
    "start_time": "2021-10-08T14:00:05.026Z"
   },
   {
    "duration": 6,
    "start_time": "2021-10-08T14:00:05.052Z"
   },
   {
    "duration": 33,
    "start_time": "2021-10-08T14:00:05.064Z"
   },
   {
    "duration": 11,
    "start_time": "2021-10-08T14:00:05.100Z"
   },
   {
    "duration": 53,
    "start_time": "2021-10-08T14:00:05.129Z"
   },
   {
    "duration": 1135,
    "start_time": "2021-10-08T14:00:05.190Z"
   },
   {
    "duration": 3,
    "start_time": "2021-10-08T14:00:06.328Z"
   },
   {
    "duration": 55,
    "start_time": "2021-10-08T14:00:06.333Z"
   },
   {
    "duration": 43,
    "start_time": "2021-10-08T14:00:06.393Z"
   },
   {
    "duration": 23,
    "start_time": "2021-10-08T14:07:14.725Z"
   },
   {
    "duration": 24,
    "start_time": "2021-10-08T14:07:15.225Z"
   },
   {
    "duration": 8,
    "start_time": "2021-10-08T14:11:56.619Z"
   },
   {
    "duration": 457,
    "start_time": "2021-10-08T14:12:04.022Z"
   },
   {
    "duration": 292,
    "start_time": "2021-10-08T14:12:07.059Z"
   },
   {
    "duration": 8,
    "start_time": "2021-10-08T14:12:10.943Z"
   },
   {
    "duration": 16,
    "start_time": "2021-10-08T14:12:27.110Z"
   },
   {
    "duration": 409,
    "start_time": "2021-10-08T14:13:45.652Z"
   },
   {
    "duration": 312,
    "start_time": "2021-10-08T14:13:58.914Z"
   },
   {
    "duration": 8,
    "start_time": "2021-10-08T14:14:59.695Z"
   },
   {
    "duration": 349,
    "start_time": "2021-10-08T14:15:06.730Z"
   },
   {
    "duration": 107,
    "start_time": "2021-10-08T14:15:13.548Z"
   },
   {
    "duration": 13,
    "start_time": "2021-10-08T14:15:15.906Z"
   },
   {
    "duration": 29,
    "start_time": "2021-10-08T14:15:22.758Z"
   },
   {
    "duration": 14,
    "start_time": "2021-10-08T14:15:27.984Z"
   },
   {
    "duration": 24,
    "start_time": "2021-10-08T14:15:35.994Z"
   },
   {
    "duration": 12,
    "start_time": "2021-10-08T14:15:54.490Z"
   },
   {
    "duration": 32,
    "start_time": "2021-10-08T14:17:18.438Z"
   },
   {
    "duration": 26,
    "start_time": "2021-10-08T14:17:19.012Z"
   }
  ],
  "kernelspec": {
   "display_name": "Python 3 (ipykernel)",
   "language": "python",
   "name": "python3"
  },
  "language_info": {
   "codemirror_mode": {
    "name": "ipython",
    "version": 3
   },
   "file_extension": ".py",
   "mimetype": "text/x-python",
   "name": "python",
   "nbconvert_exporter": "python",
   "pygments_lexer": "ipython3",
   "version": "3.8.5"
  },
  "toc": {
   "base_numbering": 1,
   "nav_menu": {},
   "number_sections": true,
   "sideBar": true,
   "skip_h1_title": true,
   "title_cell": "Table of Contents",
   "title_sidebar": "Contents",
   "toc_cell": false,
   "toc_position": {},
   "toc_section_display": true,
   "toc_window_display": false
  }
 },
 "nbformat": 4,
 "nbformat_minor": 2
}
